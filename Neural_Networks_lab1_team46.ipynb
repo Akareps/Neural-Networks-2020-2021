{
  "nbformat": 4,
  "nbformat_minor": 0,
  "metadata": {
    "colab": {
      "name": "Neural_Networks_lab1_team46.ipynb",
      "provenance": [],
      "collapsed_sections": []
    },
    "kernelspec": {
      "name": "python3",
      "display_name": "Python 3"
    }
  },
  "cells": [
    {
      "cell_type": "markdown",
      "metadata": {
        "id": "OqKnrcLvb76d"
      },
      "source": [
        "#Εισαγωγή"
      ]
    },
    {
      "cell_type": "markdown",
      "metadata": {
        "id": "chP7eSg0XTOE"
      },
      "source": [
        "##Στοιχεία ομάδας"
      ]
    },
    {
      "cell_type": "markdown",
      "metadata": {
        "id": "VAAJ7wVxXMom"
      },
      "source": [
        "**Ομάδα 46**\n",
        "\n",
        "**Ακαρέπης Ανδρέας** - ΑΜ: 03117058  \n",
        "**Γιαννόπουλος Εμμανουήλ** - ΑΜ: 03117031  \n",
        "**Κόντη Πολυξένη-Ειρήνη** - ΑΜ: 03117180"
      ]
    },
    {
      "cell_type": "markdown",
      "metadata": {
        "id": "AHfo6mnTMrNj"
      },
      "source": [
        "Imports, επαναχρησιμοποιούμενες συναρτήσεις και μερικές παρατηρήσεις.\n",
        "\n",
        "**Σημείωση:** Αν το notebook ανοιχτεί σε Google Colab, τα διαγράμματα φαίνονται αρκετά καλύτερα στο light theme σε σχέση με το dark theme. Αυτό πιθανότατα θα ισχύει και για οποιοδήποτε άλλο περιβάλλον περιλαμβάνει dark και light themes."
      ]
    },
    {
      "cell_type": "code",
      "metadata": {
        "id": "FnVVBQPvIcCj"
      },
      "source": [
        "import pandas as pd\n",
        "import numpy as np\n",
        "import matplotlib.pyplot as plt\n",
        "import collections\n",
        "import time\n",
        "import copy\n",
        "\n",
        "\n",
        "from sklearn.model_selection import train_test_split\n",
        "from sklearn.dummy import DummyClassifier\n",
        "from sklearn.naive_bayes import GaussianNB\n",
        "from sklearn.neighbors import KNeighborsClassifier\n",
        "from sklearn.svm import LinearSVC, SVC\n",
        "from sklearn.neural_network import MLPClassifier\n",
        "\n",
        "from sklearn.model_selection import GridSearchCV\n",
        "from imblearn.pipeline import Pipeline\n",
        "from sklearn.metrics import confusion_matrix, f1_score, classification_report, ConfusionMatrixDisplay\n",
        "\n",
        "from sklearn.feature_selection import VarianceThreshold\n",
        "from sklearn.preprocessing import StandardScaler, MinMaxScaler\n",
        "from sklearn.decomposition import PCA\n",
        "from imblearn.over_sampling import RandomOverSampler\n",
        "from imblearn.under_sampling import RandomUnderSampler"
      ],
      "execution_count": null,
      "outputs": []
    },
    {
      "cell_type": "code",
      "metadata": {
        "id": "VV-1d6ddSQ-H"
      },
      "source": [
        "#Check if a dataset is balanced or not\n",
        "def check_balance(labels):\n",
        "  for key, value in collections.Counter(labels).items():\n",
        "    print(key, \": \", value, \" - \", round(value/len(labels)*100), '%', sep='')\n",
        "\n",
        "#To print confusion matrices and f1 averages\n",
        "def plot_confusion_matrix_and_scores(predictions, test_labels, disp_labels=[0,1]):\n",
        "  labels = disp_labels\n",
        "  for name, preds in predictions.items():\n",
        "    conf_matrix = confusion_matrix(test_labels, preds, labels)\n",
        "    disp = ConfusionMatrixDisplay(conf_matrix, display_labels=labels)\n",
        "    disp.plot()\n",
        "    disp.ax_.set_title(name)\n",
        "    print(\"\\nf1-micro average for\", name, \":\", f1_score(test_labels, preds, average='micro'))\n",
        "    print(\"f1-macro average for\", name, \":\",f1_score(test_labels, preds, average='macro'))\n",
        "    print(\"Classification report:\")\n",
        "    print(classification_report(test_labels, preds))\n",
        "    plt.show()\n",
        "    print('-'*60)\n",
        "\n",
        "#Printing our bar plots\n",
        "def print_bar_plots(predictions, test_labels, avg, size=(10,10), rot=30):\n",
        "    fig = plt.figure(figsize=size)\n",
        "    titl = 'f1-'+avg+' average'\n",
        "    names = []\n",
        "    scores = []\n",
        "    ax = fig.add_axes([0,0,1,1])\n",
        "    ax.set_title(titl)\n",
        "    plt.xticks(rotation=rot)\n",
        "    for name, preds in predictions.items():\n",
        "      names.append(name)\n",
        "      scores.append(f1_score(test_labels, preds, average=avg))\n",
        "    ax.bar(names,scores)\n",
        "    plt.show()\n",
        "\n",
        "#Function to print an entire dataframe\n",
        "def print_full(df):\n",
        "    pd.set_option('display.max_rows', len(df))\n",
        "    pd.set_option('display.max_columns', len(df.iloc[0]))\n",
        "    print(df)\n",
        "\n",
        "#Function to train and test a classifier given a ready grid search result\n",
        "def train_best_time_and_predict(grid_result, train, train_labels, test):\n",
        "    clf = grid_result.best_estimator_\n",
        "    start_time = time.time()\n",
        "    clf.fit(train, train_labels)\n",
        "    predictions = clf.predict(test)\n",
        "    total_time = time.time()-start_time\n",
        "    return predictions, total_time    \n",
        "\n",
        "#Get a dictionary of predictions, return scores\n",
        "#Used when we compare before-after optimization scores\n",
        "def change_preds_to_scores(d, test_labels, avg):\n",
        "    for key,value in d.items():\n",
        "        for i in range(3):\n",
        "          d[key][i] = f1_score(d[key][i], test_labels, average=avg)\n",
        "    \n"
      ],
      "execution_count": null,
      "outputs": []
    },
    {
      "cell_type": "markdown",
      "metadata": {
        "id": "Py4GvQfXVioV"
      },
      "source": [
        "## Προσέγγιση στα GridSearchCV \n",
        "Επειδή στο notebook καταγράφονται μόνο τα τελικά αποτελέσματα των GridSearchCV που οδήγησαν στους τελικούς επιλεγμένους ταξινομητές (τα υπόλοιπα απλά αναλύονται), δείχνουμε ένα παράδειγμα της προσέγγισής μας όσον αφορά στην καταγραφή των αποτελεσμάτων των διάφορων GridSearchCV που εκτελέσαμε. Συγκεκριμένα, καταγράφουμε για κάθε διασταυρούμενη επικύρωση πλέγματος όλα τα αποτελέσματα ταξινομημένα ως προς την μετρική που χρησιμοποιούμε, ώστε να έχουμε μια γενικότερη εικόνα για την επίδοση των παραμέτρων και όχι μόνο για τη βέλτιστη παραμετροποίηση. Με αυτό τον τρόπο, μπορούμε να δούμε αν κάποια τιμή μιας παραμέτρου υπερτερεί σταθερά των υπόλοιπων.  \n",
        "\n",
        "Στο παρακάτω GridSearch για παράδειγμα βλέπουμε ότι ο solver *adam* ειναι σταθερά καλύτερος από τον solver *sgd*, καθώς και ότι οι activation συναρτήσεις *relu*, *tanh* και *logistic* έχουν σταθερά πολύ καλύτερη απόδοση από τη συνάρτηση *identity*. "
      ]
    },
    {
      "cell_type": "code",
      "metadata": {
        "colab": {
          "base_uri": "https://localhost:8080/"
        },
        "id": "ZeJTOlulWHnl",
        "outputId": "0d412c34-996e-4316-b29a-169cd7f59004"
      },
      "source": [
        "#Example GridSearchCV on a MLP\n",
        "\n",
        "#Some preprocessing steps\n",
        "scaler = StandardScaler()\n",
        "rus = RandomUnderSampler() \n",
        "pca = PCA()\n",
        "clf = MLPClassifier(hidden_layer_sizes=100, learning max_iter=100)\n",
        "\n",
        "activators = ['logistic', 'relu', 'tanh', 'identity']\n",
        "solvers = ['adam', 'sgd']\n",
        "#Learning rate is only used when solver=sgd\n",
        "lr = ['invscaling', 'constant', 'adaptive']\n",
        "\n",
        "parameters = {\n",
        "    'mlp__activation' : activators,\n",
        "    'mlp__solver' : solvers,\n",
        "    'mlp__learning_rate': lr\n",
        "}\n",
        "example_pipe = Pipeline(steps=[('scaler', scaler), ('sampler', rus), ('pca', pca), ('mlp', clf)], memory = 'tmp')\n",
        "example_gscv = GridSearchCV(example_pipe, parameters, cv=5, scoring='f1_micro', verbose=False, n_jobs=-1)\n",
        "example_gscv.fit(train, train_labels);\n",
        "\n",
        "df = pd.concat([pd.DataFrame(example_gscv.cv_results_[\"params\"]),pd.DataFrame(example_gscv.cv_results_[\"mean_test_score\"], columns=['accuracy'])],axis=1)\n",
        "df = df.sort_values(by=['accuracy'])\n",
        "print_full(df)"
      ],
      "execution_count": null,
      "outputs": [
        {
          "output_type": "stream",
          "text": [
            "/usr/local/lib/python3.6/dist-packages/sklearn/utils/deprecation.py:87: FutureWarning: Function safe_indexing is deprecated; safe_indexing is deprecated in version 0.22 and will be removed in version 0.24.\n",
            "  warnings.warn(msg, category=FutureWarning)\n"
          ],
          "name": "stderr"
        },
        {
          "output_type": "stream",
          "text": [
            "   mlp__activation mlp__learning_rate mlp__solver  accuracy\n",
            "1         logistic         invscaling         sgd  0.465289\n",
            "7             relu         invscaling         sgd  0.581793\n",
            "13            tanh         invscaling         sgd  0.695203\n",
            "19        identity         invscaling         sgd  0.749739\n",
            "3         logistic           constant         sgd  0.782635\n",
            "5         logistic           adaptive         sgd  0.782710\n",
            "18        identity         invscaling        adam  0.783311\n",
            "22        identity           adaptive        adam  0.783611\n",
            "23        identity           adaptive         sgd  0.783987\n",
            "21        identity           constant         sgd  0.784663\n",
            "20        identity           constant        adam  0.784738\n",
            "15            tanh           constant         sgd  0.788794\n",
            "17            tanh           adaptive         sgd  0.789094\n",
            "11            relu           adaptive         sgd  0.825823\n",
            "9             relu           constant         sgd  0.826574\n",
            "0         logistic         invscaling        adam  0.827400\n",
            "4         logistic           adaptive        adam  0.828752\n",
            "2         logistic           constant        adam  0.828827\n",
            "12            tanh         invscaling        adam  0.851585\n",
            "14            tanh           constant        adam  0.852336\n",
            "16            tanh           adaptive        adam  0.854890\n",
            "6             relu         invscaling        adam  0.858270\n",
            "10            relu           adaptive        adam  0.858420\n",
            "8             relu           constant        adam  0.859472\n"
          ],
          "name": "stdout"
        },
        {
          "output_type": "stream",
          "text": [
            "/usr/local/lib/python3.6/dist-packages/sklearn/neural_network/_multilayer_perceptron.py:571: ConvergenceWarning: Stochastic Optimizer: Maximum iterations (100) reached and the optimization hasn't converged yet.\n",
            "  % self.max_iter, ConvergenceWarning)\n"
          ],
          "name": "stderr"
        }
      ]
    },
    {
      "cell_type": "markdown",
      "metadata": {
        "id": "QMcOFaWyV3FL"
      },
      "source": [
        "# Μέρος 1ο (small dataset)"
      ]
    },
    {
      "cell_type": "markdown",
      "metadata": {
        "id": "pvUaTKwTML4G"
      },
      "source": [
        "\n",
        "## Βασικές πληροφορίες\n",
        "1. Το μικρό dataset περιλαμβάνει τις μετρήσεις 287 κολποσκοπήσεων και γνώμες ειδικών (καθώς και μια μέση γνώμη) που κατατάσσουν κάθε κολποσκόπηση ως **υγιή** ή **μη υγιή**.\n",
        "\n",
        "2. Αριθμός δειγμάτων: 287  \n",
        "Αριθμός χαρακτηριστικών: 69 εκ των οποίων τα 7 είναι target.  \n",
        "Εμείς θα κρατήσουμε μόνο το consensus ως target variable, επομένως έχουμε 62 χαρακτηριστικά που βοηθούν στην πρόβλεψη και 1 χαρακτηριστικό-στόχο\n",
        "\n",
        "3. Υπάρχουν επικεφαλίδες, δεν υπάρχει αρίθμηση γραμμών (παρακάτω αριθμεί τις γραμμές το pandas).\n",
        "\n",
        "4. Οι ετικέτες των κλάσεων είναι 0 και 1 και βρίσκονται στην κολόνα 68: consensus (με αρίθμηση από το 0).\n",
        "\n",
        "5. Συγχωνεύσαμε τα 3 αρχεία csv που δόθηκαν. Οι υπόλοιπες \"μετατροπές\" γίνονται μέσω του pandas και αφού φορτώσουμε το τελικό αρχείο csv.\n",
        "\n",
        "6. Δεν υπάρχουν απουσιάζουσες τιμές.\n",
        "\n",
        "7. Υπάρχουν 2 κλάσεις, η κλάση **υγιής** (1) και η κλάση **μη υγιής** (0). Το ποσοστό των 2 κλάσεων είναι 75-25 με την πλειονότητα των δειγμάτων να κατατάσσονται στην κλάση **1**. Επομένως το dataset είναι **μη ισορροπημένο**. Το φαινόμενο αυτό αντιμετωπίστηκε διαφορετικά για κάθε ταξινομητή και αναλύονται οι επιλογές μας ξεχωριστά παρακάτω.\n",
        "\n",
        "\n",
        "8. Ο διαχωρισμός σε train,test φαίνεται παρακάτω.\n",
        "\n"
      ]
    },
    {
      "cell_type": "code",
      "metadata": {
        "colab": {
          "base_uri": "https://localhost:8080/",
          "height": 424
        },
        "id": "xxRrXUmTNBMw",
        "outputId": "80086ebc-7e4a-4d95-894c-a465475b7e8b"
      },
      "source": [
        "#Import dataset and separate labels from features\n",
        "df = pd.read_csv(\"colpodata.csv\")\n",
        "df"
      ],
      "execution_count": null,
      "outputs": [
        {
          "output_type": "execute_result",
          "data": {
            "text/html": [
              "<div>\n",
              "<style scoped>\n",
              "    .dataframe tbody tr th:only-of-type {\n",
              "        vertical-align: middle;\n",
              "    }\n",
              "\n",
              "    .dataframe tbody tr th {\n",
              "        vertical-align: top;\n",
              "    }\n",
              "\n",
              "    .dataframe thead th {\n",
              "        text-align: right;\n",
              "    }\n",
              "</style>\n",
              "<table border=\"1\" class=\"dataframe\">\n",
              "  <thead>\n",
              "    <tr style=\"text-align: right;\">\n",
              "      <th></th>\n",
              "      <th>cervix_area</th>\n",
              "      <th>os_area</th>\n",
              "      <th>...</th>\n",
              "      <th>experts::5</th>\n",
              "      <th>consensus</th>\n",
              "    </tr>\n",
              "  </thead>\n",
              "  <tbody>\n",
              "    <tr>\n",
              "      <th>0</th>\n",
              "      <td>0.344647</td>\n",
              "      <td>0.003080</td>\n",
              "      <td>...</td>\n",
              "      <td>1.0</td>\n",
              "      <td>1.0</td>\n",
              "    </tr>\n",
              "    <tr>\n",
              "      <th>1</th>\n",
              "      <td>0.165329</td>\n",
              "      <td>0.000000</td>\n",
              "      <td>...</td>\n",
              "      <td>0.0</td>\n",
              "      <td>0.0</td>\n",
              "    </tr>\n",
              "    <tr>\n",
              "      <th>2</th>\n",
              "      <td>0.457010</td>\n",
              "      <td>0.001681</td>\n",
              "      <td>...</td>\n",
              "      <td>0.0</td>\n",
              "      <td>0.0</td>\n",
              "    </tr>\n",
              "    <tr>\n",
              "      <th>3</th>\n",
              "      <td>0.513244</td>\n",
              "      <td>0.005711</td>\n",
              "      <td>...</td>\n",
              "      <td>1.0</td>\n",
              "      <td>1.0</td>\n",
              "    </tr>\n",
              "    <tr>\n",
              "      <th>4</th>\n",
              "      <td>0.390319</td>\n",
              "      <td>0.009454</td>\n",
              "      <td>...</td>\n",
              "      <td>1.0</td>\n",
              "      <td>1.0</td>\n",
              "    </tr>\n",
              "    <tr>\n",
              "      <th>...</th>\n",
              "      <td>...</td>\n",
              "      <td>...</td>\n",
              "      <td>...</td>\n",
              "      <td>...</td>\n",
              "      <td>...</td>\n",
              "    </tr>\n",
              "    <tr>\n",
              "      <th>282</th>\n",
              "      <td>0.610160</td>\n",
              "      <td>0.002726</td>\n",
              "      <td>...</td>\n",
              "      <td>0.0</td>\n",
              "      <td>0.0</td>\n",
              "    </tr>\n",
              "    <tr>\n",
              "      <th>283</th>\n",
              "      <td>0.439891</td>\n",
              "      <td>0.006005</td>\n",
              "      <td>...</td>\n",
              "      <td>0.0</td>\n",
              "      <td>1.0</td>\n",
              "    </tr>\n",
              "    <tr>\n",
              "      <th>284</th>\n",
              "      <td>0.696616</td>\n",
              "      <td>0.006693</td>\n",
              "      <td>...</td>\n",
              "      <td>0.0</td>\n",
              "      <td>1.0</td>\n",
              "    </tr>\n",
              "    <tr>\n",
              "      <th>285</th>\n",
              "      <td>1.000000</td>\n",
              "      <td>0.000000</td>\n",
              "      <td>...</td>\n",
              "      <td>0.0</td>\n",
              "      <td>0.0</td>\n",
              "    </tr>\n",
              "    <tr>\n",
              "      <th>286</th>\n",
              "      <td>1.000000</td>\n",
              "      <td>0.007517</td>\n",
              "      <td>...</td>\n",
              "      <td>0.0</td>\n",
              "      <td>0.0</td>\n",
              "    </tr>\n",
              "  </tbody>\n",
              "</table>\n",
              "<p>287 rows × 69 columns</p>\n",
              "</div>"
            ],
            "text/plain": [
              "     cervix_area   os_area  ...  experts::5  consensus\n",
              "0       0.344647  0.003080  ...         1.0        1.0\n",
              "1       0.165329  0.000000  ...         0.0        0.0\n",
              "2       0.457010  0.001681  ...         0.0        0.0\n",
              "3       0.513244  0.005711  ...         1.0        1.0\n",
              "4       0.390319  0.009454  ...         1.0        1.0\n",
              "..           ...       ...  ...         ...        ...\n",
              "282     0.610160  0.002726  ...         0.0        0.0\n",
              "283     0.439891  0.006005  ...         0.0        1.0\n",
              "284     0.696616  0.006693  ...         0.0        1.0\n",
              "285     1.000000  0.000000  ...         0.0        0.0\n",
              "286     1.000000  0.007517  ...         0.0        0.0\n",
              "\n",
              "[287 rows x 69 columns]"
            ]
          },
          "metadata": {
            "tags": []
          },
          "execution_count": 300
        }
      ]
    },
    {
      "cell_type": "code",
      "metadata": {
        "colab": {
          "base_uri": "https://localhost:8080/"
        },
        "id": "iPeIF5doNCR8",
        "outputId": "ca4bc45d-7ffc-4daf-a065-0fc25be65e8c"
      },
      "source": [
        "labels_df = df.iloc[:, -1]\n",
        "#Labels are given as floats (0.0, 1.0) so we transform them to binary (0,1)\n",
        "labels = labels_df.values.astype(int)\n",
        "\n",
        "features_df = df.iloc[:, :-1]\n",
        "features = features_df.values\n",
        "\n",
        "#Dataset is imbalanced (75%-25%). Majority class: 1\n",
        "check_balance(labels)\n",
        "\n",
        "#Split data\n",
        "train, test, train_labels, test_labels = train_test_split(features, labels, test_size=0.2)"
      ],
      "execution_count": null,
      "outputs": [
        {
          "output_type": "stream",
          "text": [
            "1: 216 - 75%\n",
            "0: 71 - 25%\n"
          ],
          "name": "stdout"
        }
      ]
    },
    {
      "cell_type": "markdown",
      "metadata": {
        "id": "G5Or_nCpNIGE"
      },
      "source": [
        "## Baseline Classification"
      ]
    },
    {
      "cell_type": "markdown",
      "metadata": {
        "id": "BAKwv1_7HRch"
      },
      "source": [
        "### Dummy Classifiers"
      ]
    },
    {
      "cell_type": "code",
      "metadata": {
        "id": "Cl9AdsYS3mFR",
        "colab": {
          "base_uri": "https://localhost:8080/",
          "height": 1000
        },
        "outputId": "ebdcceac-cb8a-48f4-a13e-3ec459da6074"
      },
      "source": [
        "dc_uniform = DummyClassifier(strategy=\"uniform\")\n",
        "dc_constant_0 = DummyClassifier(strategy=\"constant\", constant=0)\n",
        "dc_constant_1 = DummyClassifier(strategy=\"constant\", constant=1)\n",
        "dc_most_frequent = DummyClassifier(strategy=\"most_frequent\")\n",
        "dc_stratified = DummyClassifier(strategy=\"stratified\")\n",
        "\n",
        "dc_uniform.fit(train, train_labels)\n",
        "dc_constant_0.fit(train, train_labels)\n",
        "dc_constant_1.fit(train, train_labels)\n",
        "dc_most_frequent.fit(train, train_labels)\n",
        "dc_stratified.fit(train, train_labels)\n",
        "\n",
        "dc_uniform_preds = dc_uniform.predict(test)\n",
        "dc_constant_0_preds = dc_constant_0.predict(test)\n",
        "dc_constant_1_preds = dc_constant_1.predict(test)\n",
        "dc_most_frequent_preds = dc_most_frequent.predict(test)\n",
        "dc_stratified_preds = dc_stratified.predict(test)\n",
        "\n",
        "\n",
        "dc_predictions = {\n",
        "    'Dummy uniform': dc_uniform_preds, \n",
        "    'Dummy constant 0': dc_constant_0_preds, \n",
        "    'Dummy constant 1': dc_constant_1_preds, \n",
        "    'Dummy most frequent' : dc_most_frequent_preds, \n",
        "    'Dummy stratified' : dc_stratified_preds\n",
        "}\n",
        "\n",
        "plot_confusion_matrix_and_scores(dc_predictions,test_labels)"
      ],
      "execution_count": null,
      "outputs": [
        {
          "output_type": "stream",
          "text": [
            "\n",
            "f1-micro average for Dummy uniform : 0.4827586206896552\n",
            "f1-macro average for Dummy uniform : 0.45962732919254656\n",
            "Classification report:\n",
            "              precision    recall  f1-score   support\n",
            "\n",
            "           0       0.27      0.50      0.35        16\n",
            "           1       0.71      0.48      0.57        42\n",
            "\n",
            "    accuracy                           0.48        58\n",
            "   macro avg       0.49      0.49      0.46        58\n",
            "weighted avg       0.59      0.48      0.51        58\n",
            "\n"
          ],
          "name": "stdout"
        },
        {
          "output_type": "display_data",
          "data": {
            "image/png": "[encoded data removed]",
            "text/plain": [
              "<Figure size 432x288 with 2 Axes>"
            ]
          },
          "metadata": {
            "tags": [],
            "needs_background": "light"
          }
        },
        {
          "output_type": "stream",
          "text": [
            "------------------------------------------------------------\n",
            "\n",
            "f1-micro average for Dummy constant 0 : 0.27586206896551724\n",
            "f1-macro average for Dummy constant 0 : 0.2162162162162162\n",
            "Classification report:\n",
            "              precision    recall  f1-score   support\n",
            "\n",
            "           0       0.28      1.00      0.43        16\n",
            "           1       0.00      0.00      0.00        42\n",
            "\n",
            "    accuracy                           0.28        58\n",
            "   macro avg       0.14      0.50      0.22        58\n",
            "weighted avg       0.08      0.28      0.12        58\n",
            "\n"
          ],
          "name": "stdout"
        },
        {
          "output_type": "stream",
          "text": [
            "/usr/local/lib/python3.6/dist-packages/sklearn/metrics/_classification.py:1272: UndefinedMetricWarning: Precision and F-score are ill-defined and being set to 0.0 in labels with no predicted samples. Use `zero_division` parameter to control this behavior.\n",
            "  _warn_prf(average, modifier, msg_start, len(result))\n"
          ],
          "name": "stderr"
        },
        {
          "output_type": "display_data",
          "data": {
            "image/png": "[encoded data removed]",
            "text/plain": [
              "<Figure size 432x288 with 2 Axes>"
            ]
          },
          "metadata": {
            "tags": [],
            "needs_background": "light"
          }
        },
        {
          "output_type": "stream",
          "text": [
            "------------------------------------------------------------\n",
            "\n",
            "f1-micro average for Dummy constant 1 : 0.7241379310344829\n",
            "f1-macro average for Dummy constant 1 : 0.42000000000000004\n",
            "Classification report:\n",
            "              precision    recall  f1-score   support\n",
            "\n",
            "           0       0.00      0.00      0.00        16\n",
            "           1       0.72      1.00      0.84        42\n",
            "\n",
            "    accuracy                           0.72        58\n",
            "   macro avg       0.36      0.50      0.42        58\n",
            "weighted avg       0.52      0.72      0.61        58\n",
            "\n"
          ],
          "name": "stdout"
        },
        {
          "output_type": "display_data",
          "data": {
            "image/png": "[encoded data removed]",
            "text/plain": [
              "<Figure size 432x288 with 2 Axes>"
            ]
          },
          "metadata": {
            "tags": [],
            "needs_background": "light"
          }
        },
        {
          "output_type": "stream",
          "text": [
            "------------------------------------------------------------\n",
            "\n",
            "f1-micro average for Dummy most frequent : 0.7241379310344829\n",
            "f1-macro average for Dummy most frequent : 0.42000000000000004\n",
            "Classification report:\n",
            "              precision    recall  f1-score   support\n",
            "\n",
            "           0       0.00      0.00      0.00        16\n",
            "           1       0.72      1.00      0.84        42\n",
            "\n",
            "    accuracy                           0.72        58\n",
            "   macro avg       0.36      0.50      0.42        58\n",
            "weighted avg       0.52      0.72      0.61        58\n",
            "\n"
          ],
          "name": "stdout"
        },
        {
          "output_type": "display_data",
          "data": {
            "image/png": "[encoded data removed]",
            "text/plain": [
              "<Figure size 432x288 with 2 Axes>"
            ]
          },
          "metadata": {
            "tags": [],
            "needs_background": "light"
          }
        },
        {
          "output_type": "stream",
          "text": [
            "------------------------------------------------------------\n",
            "\n",
            "f1-micro average for Dummy stratified : 0.6206896551724138\n",
            "f1-macro average for Dummy stratified : 0.48214285714285715\n",
            "Classification report:\n",
            "              precision    recall  f1-score   support\n",
            "\n",
            "           0       0.25      0.19      0.21        16\n",
            "           1       0.72      0.79      0.75        42\n",
            "\n",
            "    accuracy                           0.62        58\n",
            "   macro avg       0.48      0.49      0.48        58\n",
            "weighted avg       0.59      0.62      0.60        58\n",
            "\n"
          ],
          "name": "stdout"
        },
        {
          "output_type": "display_data",
          "data": {
            "image/png": "[encoded data removed]",
            "text/plain": [
              "<Figure size 432x288 with 2 Axes>"
            ]
          },
          "metadata": {
            "tags": [],
            "needs_background": "light"
          }
        },
        {
          "output_type": "stream",
          "text": [
            "------------------------------------------------------------\n"
          ],
          "name": "stdout"
        }
      ]
    },
    {
      "cell_type": "markdown",
      "metadata": {
        "id": "wKItwN1JHUKE"
      },
      "source": [
        "### Baseline Gaussian Naive Bayes"
      ]
    },
    {
      "cell_type": "code",
      "metadata": {
        "id": "ZaILZXXZ4gIX",
        "colab": {
          "base_uri": "https://localhost:8080/",
          "height": 549
        },
        "outputId": "3761d05e-3268-4460-92d2-3541a31a8a85"
      },
      "source": [
        "gnb_base = GaussianNB()\n",
        "gnb_base.fit(train, train_labels)\n",
        "gnb_base_preds = gnb_base.predict(test)\n",
        "\n",
        "gnb_base_predictions = {\n",
        "    'Baseline Gaussian Naive Bayes' : gnb_base_preds\n",
        "}\n",
        "\n",
        "plot_confusion_matrix_and_scores(gnb_base_predictions,test_labels)"
      ],
      "execution_count": null,
      "outputs": [
        {
          "output_type": "stream",
          "text": [
            "\n",
            "f1-micro average for Baseline Gaussian Naive Bayes : 0.8275862068965517\n",
            "f1-macro average for Baseline Gaussian Naive Bayes : 0.7751937984496124\n",
            "Classification report:\n",
            "              precision    recall  f1-score   support\n",
            "\n",
            "           0       0.71      0.62      0.67        16\n",
            "           1       0.86      0.90      0.88        42\n",
            "\n",
            "    accuracy                           0.83        58\n",
            "   macro avg       0.79      0.76      0.78        58\n",
            "weighted avg       0.82      0.83      0.82        58\n",
            "\n"
          ],
          "name": "stdout"
        },
        {
          "output_type": "display_data",
          "data": {
            "image/png": "[encoded data removed]",
            "text/plain": [
              "<Figure size 432x288 with 2 Axes>"
            ]
          },
          "metadata": {
            "tags": [],
            "needs_background": "light"
          }
        },
        {
          "output_type": "stream",
          "text": [
            "------------------------------------------------------------\n"
          ],
          "name": "stdout"
        }
      ]
    },
    {
      "cell_type": "markdown",
      "metadata": {
        "id": "kMNuu7kXHYSA"
      },
      "source": [
        "### Baseline kNN"
      ]
    },
    {
      "cell_type": "code",
      "metadata": {
        "colab": {
          "base_uri": "https://localhost:8080/",
          "height": 549
        },
        "id": "Go8uB1WoKKZR",
        "outputId": "d3b817bf-05ff-4f88-e5ad-9bb8bea55e80"
      },
      "source": [
        "knn_base = KNeighborsClassifier()\n",
        "knn_base.fit(train, train_labels)\n",
        "knn_base_preds = knn_base.predict(test)\n",
        "\n",
        "knn_base_predictions = {\n",
        "    'Baseline kNN' : knn_base_preds\n",
        "}\n",
        "plot_confusion_matrix_and_scores(knn_base_predictions,test_labels)"
      ],
      "execution_count": null,
      "outputs": [
        {
          "output_type": "stream",
          "text": [
            "\n",
            "f1-micro average for Baseline kNN : 0.7413793103448276\n",
            "f1-macro average for Baseline kNN : 0.5932678821879382\n",
            "Classification report:\n",
            "              precision    recall  f1-score   support\n",
            "\n",
            "           0       0.57      0.25      0.35        16\n",
            "           1       0.76      0.93      0.84        42\n",
            "\n",
            "    accuracy                           0.74        58\n",
            "   macro avg       0.67      0.59      0.59        58\n",
            "weighted avg       0.71      0.74      0.70        58\n",
            "\n"
          ],
          "name": "stdout"
        },
        {
          "output_type": "display_data",
          "data": {
            "image/png": "[encoded data removed]",
            "text/plain": [
              "<Figure size 432x288 with 2 Axes>"
            ]
          },
          "metadata": {
            "tags": [],
            "needs_background": "light"
          }
        },
        {
          "output_type": "stream",
          "text": [
            "------------------------------------------------------------\n"
          ],
          "name": "stdout"
        }
      ]
    },
    {
      "cell_type": "markdown",
      "metadata": {
        "id": "1bf7jJuGzlBW"
      },
      "source": [
        "### Αποτελέσματα και σχολιασμός Baseline ταξινόμησης"
      ]
    },
    {
      "cell_type": "code",
      "metadata": {
        "id": "dB7PxRuDBjdv",
        "colab": {
          "base_uri": "https://localhost:8080/",
          "height": 1000
        },
        "outputId": "ec81fef9-f68c-439f-9a3a-7e1dec36a452"
      },
      "source": [
        "bar_plot_predictions = {}\n",
        "\n",
        "#Concatenate all predictions to print bar plots\n",
        "for d in dc_predictions, gnb_base_predictions, knn_base_predictions:\n",
        "  bar_plot_predictions.update(d)\n",
        "\n",
        "print_bar_plots(bar_plot_predictions, test_labels, 'micro')\n",
        "print_bar_plots(bar_plot_predictions, test_labels, 'macro')"
      ],
      "execution_count": null,
      "outputs": [
        {
          "output_type": "display_data",
          "data": {
            "image/png": "[encoded data removed]",
            "text/plain": [
              "<Figure size 720x720 with 1 Axes>"
            ]
          },
          "metadata": {
            "tags": [],
            "needs_background": "light"
          }
        },
        {
          "output_type": "display_data",
          "data": {
            "image/png": "[encoded data removed]",
            "text/plain": [
              "<Figure size 720x720 with 1 Axes>"
            ]
          },
          "metadata": {
            "tags": [],
            "needs_background": "light"
          }
        }
      ]
    },
    {
      "cell_type": "markdown",
      "metadata": {
        "id": "oZSxl68uwiGj"
      },
      "source": [
        "Από τα παραπάνω διαγράμματα και τους πίνακες σύγχυσης, παρατηρούμε τα εξής:\n",
        "\n",
        "*   Οι dummy classifiers είναι χειρότεροι και στις 2 κατηγορίες από τους \"έξυπνους\" ταξινομητές μας και ιδιαίτερα όσον αφορά στη μετρική f1-macro. Αυτό ήταν αναμενόμενο αφού απλώς ακολουθούν μια προκαθορισμένη στρατηγική και δεν μαθαίνουν από το dataset.\n",
        "*   Ο ταξινομητής Gaussian Naive Bayes έχει αρκετά καλή επίδοση ακόμη και χωρίς preprocessing. Όμως έχει σχετικά χαμηλό recall στην κλάση 0. Στο dataset μας, το recall της κλάσης 0 έχει ιδιαίτερη σημασία εφόσον πρόκειται για το ποσοστό των μη υγιών δειγμάτων που εντοπίστηκαν.\n",
        "* Ο baseline kNN είναι ακόμα χειρότερος σε αυτό τον τομέα, αφού έχει μόλις 0.26 recall για τα μη υγιή δείγματα. Στη βελτιστοποίηση βέβαια, θα δούμε ότι αυτό θα αυξηθεί δραματικά.\n",
        "\n"
      ]
    },
    {
      "cell_type": "markdown",
      "metadata": {
        "id": "OA5Nw0xOzsvq"
      },
      "source": [
        "## Βελτιστοποίηση ταξινομητών"
      ]
    },
    {
      "cell_type": "markdown",
      "metadata": {
        "id": "bRdBRACWS5fj"
      },
      "source": [
        "### Data Evaluation\n",
        "\n",
        "Γνωρίζουμε ότι έχουμε 62 features. Επομένως αναμένουμε οτι θα χρειαστεί (και μάλλον θα είναι συμφέρον) να αφαιρέσουμε κάποια είτε μέσω κάποιου selector είτε μέσω PCA. Επίσης, βλέποντας το αρχείο δεδομένων παρατηρούμε ότι τα δεδομένα έχουν πολύ διαφορετικές τάξεις μεγέθους (κάποια παίρνουν τιμές κοντά στο $10^{-2}$ ενώ κάποια άλλα έχουν τάξη μεγέθους $10^5$). Άρα αναμένουμε ότι θα είναι απαραίτητο να κάνουμε scale τα δεδομένα, ειδικά για τον ταξινομητή kNN. Παρακάτω, μπορούμε να δούμε τα variances των χαρακτηριστικών ώστε να αποφασίσουμε το threshold του selector."
      ]
    },
    {
      "cell_type": "code",
      "metadata": {
        "colab": {
          "base_uri": "https://localhost:8080/"
        },
        "id": "DX-b8x-eS4Qw",
        "outputId": "d47627ea-2187-4aa4-9dba-6ad5f4e435b2"
      },
      "source": [
        "selector = VarianceThreshold()\n",
        "selector.fit(train)\n",
        "print(selector.variances_)"
      ],
      "execution_count": null,
      "outputs": [
        {
          "output_type": "stream",
          "text": [
            "[5.13782246e-02 3.34356891e-05 3.65815113e-02 2.83812341e-02\n",
            " 4.81326538e-03 4.40888497e-03 3.05637004e-02 1.35202201e-02\n",
            " 1.04824909e-02 1.05262133e-03 3.29208251e-03 5.80859296e-04\n",
            " 1.37433519e-02 1.37715698e-03 1.93147521e-02 1.94878145e+02\n",
            " 8.14999126e+01 1.80736213e+02 2.35227389e+02 2.27602760e+02\n",
            " 8.10512069e+01 2.12325440e+02 2.73685233e+02 2.24980588e+02\n",
            " 9.07989021e+01 2.14741022e+02 2.73329750e+02 1.36140842e+02\n",
            " 8.18128438e+01 9.47738630e+01 1.96613655e+02 1.78878533e+02\n",
            " 8.74079393e+01 1.39502178e+02 2.39513019e+02 1.97182097e+02\n",
            " 9.33318937e+01 1.76134601e+02 2.47290405e+02 4.81119784e-01\n",
            " 3.33265940e-01 2.44195620e+02 1.18877785e+02 2.27607412e+02\n",
            " 8.68579785e+01 4.08463411e-01 5.98661484e-02 2.37944761e+02\n",
            " 1.02797077e+02 1.96992472e+02 9.19424400e+01 3.24886959e-02\n",
            " 5.00113962e-02 2.98883649e-02 5.46803928e-02 1.84010715e-02\n",
            " 1.68127742e-01 3.43861259e-02 4.56284234e-02 4.98665052e+02\n",
            " 5.42642169e-02 2.55941634e-02 2.25968231e-01 2.27303064e-01\n",
            " 2.36608760e-01 1.86952957e-01 1.23338609e-01 2.49194333e-01]\n"
          ],
          "name": "stdout"
        }
      ]
    },
    {
      "cell_type": "code",
      "metadata": {
        "id": "4QXdhpOUf_Sl"
      },
      "source": [
        "#We will keep training and prediction times here\n",
        "times = {}"
      ],
      "execution_count": null,
      "outputs": []
    },
    {
      "cell_type": "markdown",
      "metadata": {
        "id": "zHCBZLoQHhEz"
      },
      "source": [
        "### GNB Optimization"
      ]
    },
    {
      "cell_type": "code",
      "metadata": {
        "id": "wrIirCEJCEHH",
        "colab": {
          "base_uri": "https://localhost:8080/"
        },
        "outputId": "c7d86563-4c55-45b1-93e1-0a8343ebac57"
      },
      "source": [
        "#Optimizing GNB based on f1 micro average and f1 macro average\n",
        "selector = VarianceThreshold()\n",
        "scaler = StandardScaler()\n",
        "pca = PCA()\n",
        "clf = GaussianNB()\n",
        "\n",
        "vthreshold = [0,0.1, 0.01, 0.001, 0.0001]\n",
        "p = list(range(10,30))\n",
        "parameters = {\n",
        "    'selector__threshold' : vthreshold,\n",
        "    'pca__n_components' : p\n",
        "}\n",
        "\n",
        "pipe = Pipeline(steps=[('selector', selector), ('scaler', scaler), ('pca', pca), ('gnb', clf)], memory = 'tmp')\n",
        "gnb_micro = GridSearchCV(pipe, parameters, cv=10, scoring='f1_micro', verbose=10, n_jobs=-1)\n",
        "gnb_macro = GridSearchCV(pipe, parameters, cv=10, scoring='f1_macro', verbose=10, n_jobs=-1)\n",
        "gnb_micro.fit(train, train_labels)\n",
        "gnb_macro.fit(train, train_labels)\n",
        "print('best f1 micro parameters', gnb_micro.best_params_)\n",
        "print('best f1 macro parameters', gnb_macro.best_params_)"
      ],
      "execution_count": null,
      "outputs": [
        {
          "output_type": "stream",
          "text": [
            "Fitting 10 folds for each of 100 candidates, totalling 1000 fits\n"
          ],
          "name": "stdout"
        },
        {
          "output_type": "stream",
          "text": [
            "[Parallel(n_jobs=-1)]: Using backend LokyBackend with 2 concurrent workers.\n",
            "[Parallel(n_jobs=-1)]: Done   1 tasks      | elapsed:    1.0s\n",
            "[Parallel(n_jobs=-1)]: Done   4 tasks      | elapsed:    1.1s\n",
            "[Parallel(n_jobs=-1)]: Done   9 tasks      | elapsed:    1.2s\n",
            "[Parallel(n_jobs=-1)]: Done  14 tasks      | elapsed:    1.3s\n",
            "[Parallel(n_jobs=-1)]: Batch computation too fast (0.1830s.) Setting batch_size=2.\n",
            "[Parallel(n_jobs=-1)]: Batch computation too fast (0.1135s.) Setting batch_size=4.\n",
            "[Parallel(n_jobs=-1)]: Done  24 tasks      | elapsed:    1.5s\n",
            "[Parallel(n_jobs=-1)]: Done  50 tasks      | elapsed:    2.0s\n",
            "[Parallel(n_jobs=-1)]: Done  86 tasks      | elapsed:    2.5s\n",
            "[Parallel(n_jobs=-1)]: Done 122 tasks      | elapsed:    3.0s\n",
            "[Parallel(n_jobs=-1)]: Batch computation too fast (0.1991s.) Setting batch_size=8.\n",
            "[Parallel(n_jobs=-1)]: Done 178 tasks      | elapsed:    3.7s\n",
            "[Parallel(n_jobs=-1)]: Done 266 tasks      | elapsed:    4.8s\n",
            "[Parallel(n_jobs=-1)]: Done 370 tasks      | elapsed:    6.1s\n",
            "[Parallel(n_jobs=-1)]: Done 474 tasks      | elapsed:    7.4s\n",
            "[Parallel(n_jobs=-1)]: Done 594 tasks      | elapsed:    9.0s\n",
            "[Parallel(n_jobs=-1)]: Done 714 tasks      | elapsed:   10.5s\n",
            "[Parallel(n_jobs=-1)]: Done 850 tasks      | elapsed:   12.2s\n",
            "[Parallel(n_jobs=-1)]: Done 986 tasks      | elapsed:   13.8s\n",
            "[Parallel(n_jobs=-1)]: Done 1000 out of 1000 | elapsed:   13.9s finished\n"
          ],
          "name": "stderr"
        },
        {
          "output_type": "stream",
          "text": [
            "Fitting 10 folds for each of 100 candidates, totalling 1000 fits\n"
          ],
          "name": "stdout"
        },
        {
          "output_type": "stream",
          "text": [
            "[Parallel(n_jobs=-1)]: Using backend LokyBackend with 2 concurrent workers.\n",
            "[Parallel(n_jobs=-1)]: Done   1 tasks      | elapsed:    0.0s\n",
            "[Parallel(n_jobs=-1)]: Batch computation too fast (0.0318s.) Setting batch_size=2.\n",
            "[Parallel(n_jobs=-1)]: Done   4 tasks      | elapsed:    0.1s\n",
            "[Parallel(n_jobs=-1)]: Batch computation too fast (0.0666s.) Setting batch_size=4.\n",
            "[Parallel(n_jobs=-1)]: Done  16 tasks      | elapsed:    0.2s\n",
            "[Parallel(n_jobs=-1)]: Batch computation too fast (0.0820s.) Setting batch_size=8.\n",
            "[Parallel(n_jobs=-1)]: Batch computation too fast (0.1622s.) Setting batch_size=16.\n",
            "[Parallel(n_jobs=-1)]: Done  44 tasks      | elapsed:    0.4s\n",
            "[Parallel(n_jobs=-1)]: Done 140 tasks      | elapsed:    1.2s\n",
            "[Parallel(n_jobs=-1)]: Done 252 tasks      | elapsed:    1.9s\n",
            "[Parallel(n_jobs=-1)]: Done 396 tasks      | elapsed:    3.0s\n",
            "[Parallel(n_jobs=-1)]: Done 540 tasks      | elapsed:    4.0s\n",
            "[Parallel(n_jobs=-1)]: Done 716 tasks      | elapsed:    5.3s\n",
            "[Parallel(n_jobs=-1)]: Done 892 tasks      | elapsed:    6.4s\n"
          ],
          "name": "stderr"
        },
        {
          "output_type": "stream",
          "text": [
            "best f1 micro parameters {'pca__n_components': 10, 'selector__threshold': 0.1}\n",
            "best f1 macro parameters {'pca__n_components': 10, 'selector__threshold': 0.1}\n"
          ],
          "name": "stdout"
        },
        {
          "output_type": "stream",
          "text": [
            "[Parallel(n_jobs=-1)]: Done 995 tasks      | elapsed:    7.1s\n",
            "[Parallel(n_jobs=-1)]: Done 1000 out of 1000 | elapsed:    7.1s finished\n"
          ],
          "name": "stderr"
        }
      ]
    },
    {
      "cell_type": "code",
      "metadata": {
        "colab": {
          "base_uri": "https://localhost:8080/",
          "height": 1000
        },
        "id": "2zJyJW4IhRKe",
        "outputId": "fe1fbf83-5059-4082-8239-5c0f59a19cfc"
      },
      "source": [
        "gnb_micro_preds, times['f1 micro optimized GNB'] = train_best_time_and_predict(gnb_micro, train, train_labels, test)\n",
        "gnb_macro_preds, times['f1 macro optimized GNB'] = train_best_time_and_predict(gnb_macro, train, train_labels, test)\n",
        "\n",
        "gnb_best_predictions = {\n",
        "    'f1 micro optimized GNB' : gnb_micro_preds,\n",
        "    'f1 macro optimized GNB' : gnb_macro_preds\n",
        "}\n",
        "\n",
        "plot_confusion_matrix_and_scores(gnb_best_predictions, test_labels)"
      ],
      "execution_count": null,
      "outputs": [
        {
          "output_type": "stream",
          "text": [
            "\n",
            "f1-micro average for f1 micro optimized GNB : 0.8620689655172413\n",
            "f1-macro average for f1 micro optimized GNB : 0.8201550387596899\n",
            "Classification report:\n",
            "              precision    recall  f1-score   support\n",
            "\n",
            "           0       0.79      0.69      0.73        16\n",
            "           1       0.89      0.93      0.91        42\n",
            "\n",
            "    accuracy                           0.86        58\n",
            "   macro avg       0.84      0.81      0.82        58\n",
            "weighted avg       0.86      0.86      0.86        58\n",
            "\n"
          ],
          "name": "stdout"
        },
        {
          "output_type": "display_data",
          "data": {
            "image/png": "[encoded data removed]",
            "text/plain": [
              "<Figure size 432x288 with 2 Axes>"
            ]
          },
          "metadata": {
            "tags": [],
            "needs_background": "light"
          }
        },
        {
          "output_type": "stream",
          "text": [
            "------------------------------------------------------------\n",
            "\n",
            "f1-micro average for f1 macro optimized GNB : 0.8620689655172413\n",
            "f1-macro average for f1 macro optimized GNB : 0.8201550387596899\n",
            "Classification report:\n",
            "              precision    recall  f1-score   support\n",
            "\n",
            "           0       0.79      0.69      0.73        16\n",
            "           1       0.89      0.93      0.91        42\n",
            "\n",
            "    accuracy                           0.86        58\n",
            "   macro avg       0.84      0.81      0.82        58\n",
            "weighted avg       0.86      0.86      0.86        58\n",
            "\n"
          ],
          "name": "stdout"
        },
        {
          "output_type": "display_data",
          "data": {
            "image/png": "[encoded data removed]",
            "text/plain": [
              "<Figure size 432x288 with 2 Axes>"
            ]
          },
          "metadata": {
            "tags": [],
            "needs_background": "light"
          }
        },
        {
          "output_type": "stream",
          "text": [
            "------------------------------------------------------------\n"
          ],
          "name": "stdout"
        }
      ]
    },
    {
      "cell_type": "markdown",
      "metadata": {
        "id": "A2PWs4FcdqFm"
      },
      "source": [
        "Για το Optimization του GNB με βάση τις δυο μετρικές f1 micro και f1 macro γνωρίζουμε ότι μπορούμε να βελτιστοποιήσουμε μόνο τις υπερπαραμέτρους των συναρτήσεων preprocessing.\n",
        "\n",
        "Εκτός από το παραπάνω pipeline, δοκιμάσαμε διάφορους συνδυασμούς preprocessing μεταξύ των γνωστών (VarianceThreshold, StandardScaler, PCA, με RandomOverSampler για εξισορρόπηση του dataset, αλλαγή StandardScaler με MinMaxScaler) αλλά ο βέλτιστος συνδυασμός αποδείχθηκε αυτός που βλέπουμε παραπάνω **και για τις 2 μετρικές**.\n",
        "\n",
        "Για το παραπάνω pipeline τρέξαμε αρχικά ένα GridSearch με παραμέτρους:\n",
        "\n",
        "```\n",
        "vthreshold = [0, 0.1, 0.01, 0.001, 0.0001, 0.00001]\n",
        "pca = [10, 20, 30, 40, 50, 60]\n",
        "```\n",
        "\n",
        "και είδαμε από τα αναλυτικά αποτελέσματα ότι η υπερπαράμετρος n_components του pca φέρνει βέλτιστα αποτελέσματα στο διάστημα (10, 30). Επομένως, τρέχουμε τελικά το GridSearch που βλέπουμε παραπάνω για να λάβουμε τα βέλτιστα αποτελέσματα.\n"
      ]
    },
    {
      "cell_type": "markdown",
      "metadata": {
        "id": "jevjZWgYixbY"
      },
      "source": [
        "Βλέπουμε ότι όντως υπάρχει βελτίωση της απόδοσης σε σχέση με τον baseline GNB και για τις 2 μετρικές, ενώ βλέπουμε και ότι το GridSearch ανέδειξε τις ίδιες τιμές υπερπαραμέτρων. Αυτό δε θα γίνεται πάντα όπως θα δούμε και παρακάτω. Ο σχολιασμός των πινάκων σύγχυσης γίνεται παρακάτω, στο section *Συνολικά αποτελέσματα και σχολιασμός*"
      ]
    },
    {
      "cell_type": "markdown",
      "metadata": {
        "id": "4OjDf1eGHna1"
      },
      "source": [
        "### kNN Optimization"
      ]
    },
    {
      "cell_type": "code",
      "metadata": {
        "id": "ho3OfTghY4in",
        "colab": {
          "base_uri": "https://localhost:8080/"
        },
        "outputId": "aa79263b-6b1e-4913-f1e0-bd41de4c0860"
      },
      "source": [
        "selector = VarianceThreshold()\n",
        "scaler = StandardScaler()\n",
        "clf = KNeighborsClassifier(n_jobs=-1)\n",
        "\n",
        "vthreshold = [0,0.1, 0.01]\n",
        "p = list(range(10,30, 2))\n",
        "k = list(range(1,30,2)) # η υπερπαράμετρος του ταξινομητή\n",
        "\n",
        "\n",
        "pipe_micro = Pipeline(steps=[('selector', selector), ('scaler', scaler), ('pca', pca), ('kNN', clf)], memory = 'tmp')\n",
        "knn_micro = GridSearchCV(pipe_micro, dict(selector__threshold=vthreshold, pca__n_components=p, kNN__n_neighbors=k), cv=10, scoring='f1_micro', verbose=10, n_jobs=-1)\n",
        "knn_micro.fit(train, train_labels)\n",
        "print(knn_micro.best_params_)"
      ],
      "execution_count": null,
      "outputs": [
        {
          "output_type": "stream",
          "text": [
            "Fitting 10 folds for each of 450 candidates, totalling 4500 fits\n"
          ],
          "name": "stdout"
        },
        {
          "output_type": "stream",
          "text": [
            "[Parallel(n_jobs=-1)]: Using backend LokyBackend with 2 concurrent workers.\n",
            "[Parallel(n_jobs=-1)]: Done   1 tasks      | elapsed:    0.1s\n",
            "[Parallel(n_jobs=-1)]: Batch computation too fast (0.1255s.) Setting batch_size=2.\n",
            "[Parallel(n_jobs=-1)]: Done   4 tasks      | elapsed:    0.3s\n",
            "[Parallel(n_jobs=-1)]: Done  14 tasks      | elapsed:    0.9s\n",
            "[Parallel(n_jobs=-1)]: Done  24 tasks      | elapsed:    1.4s\n",
            "[Parallel(n_jobs=-1)]: Done  38 tasks      | elapsed:    2.3s\n",
            "[Parallel(n_jobs=-1)]: Done  52 tasks      | elapsed:    3.0s\n",
            "[Parallel(n_jobs=-1)]: Done  70 tasks      | elapsed:    4.2s\n",
            "[Parallel(n_jobs=-1)]: Done  88 tasks      | elapsed:    5.1s\n",
            "[Parallel(n_jobs=-1)]: Done 110 tasks      | elapsed:    6.5s\n",
            "[Parallel(n_jobs=-1)]: Done 132 tasks      | elapsed:    7.7s\n",
            "[Parallel(n_jobs=-1)]: Done 158 tasks      | elapsed:    9.4s\n",
            "[Parallel(n_jobs=-1)]: Done 184 tasks      | elapsed:   10.8s\n",
            "[Parallel(n_jobs=-1)]: Done 214 tasks      | elapsed:   12.6s\n",
            "[Parallel(n_jobs=-1)]: Done 244 tasks      | elapsed:   14.3s\n",
            "[Parallel(n_jobs=-1)]: Done 278 tasks      | elapsed:   16.4s\n",
            "[Parallel(n_jobs=-1)]: Done 312 tasks      | elapsed:   18.3s\n",
            "[Parallel(n_jobs=-1)]: Done 350 tasks      | elapsed:   20.6s\n",
            "[Parallel(n_jobs=-1)]: Done 388 tasks      | elapsed:   22.8s\n",
            "[Parallel(n_jobs=-1)]: Done 430 tasks      | elapsed:   25.3s\n",
            "[Parallel(n_jobs=-1)]: Done 472 tasks      | elapsed:   27.7s\n",
            "[Parallel(n_jobs=-1)]: Done 518 tasks      | elapsed:   30.5s\n",
            "[Parallel(n_jobs=-1)]: Done 564 tasks      | elapsed:   33.1s\n",
            "[Parallel(n_jobs=-1)]: Done 614 tasks      | elapsed:   36.1s\n",
            "[Parallel(n_jobs=-1)]: Done 664 tasks      | elapsed:   39.0s\n",
            "[Parallel(n_jobs=-1)]: Done 718 tasks      | elapsed:   42.3s\n",
            "[Parallel(n_jobs=-1)]: Done 772 tasks      | elapsed:   45.4s\n",
            "[Parallel(n_jobs=-1)]: Done 830 tasks      | elapsed:   48.9s\n",
            "[Parallel(n_jobs=-1)]: Done 888 tasks      | elapsed:   52.2s\n",
            "[Parallel(n_jobs=-1)]: Done 950 tasks      | elapsed:   55.9s\n",
            "[Parallel(n_jobs=-1)]: Done 1012 tasks      | elapsed:   59.4s\n",
            "[Parallel(n_jobs=-1)]: Done 1078 tasks      | elapsed:  1.1min\n",
            "[Parallel(n_jobs=-1)]: Done 1144 tasks      | elapsed:  1.1min\n",
            "[Parallel(n_jobs=-1)]: Done 1214 tasks      | elapsed:  1.2min\n",
            "[Parallel(n_jobs=-1)]: Done 1284 tasks      | elapsed:  1.3min\n",
            "[Parallel(n_jobs=-1)]: Done 1358 tasks      | elapsed:  1.3min\n",
            "[Parallel(n_jobs=-1)]: Done 1432 tasks      | elapsed:  1.4min\n",
            "[Parallel(n_jobs=-1)]: Done 1510 tasks      | elapsed:  1.5min\n",
            "[Parallel(n_jobs=-1)]: Done 1588 tasks      | elapsed:  1.6min\n",
            "[Parallel(n_jobs=-1)]: Done 1670 tasks      | elapsed:  1.6min\n",
            "[Parallel(n_jobs=-1)]: Done 1752 tasks      | elapsed:  1.7min\n",
            "[Parallel(n_jobs=-1)]: Done 1838 tasks      | elapsed:  1.8min\n",
            "[Parallel(n_jobs=-1)]: Done 1924 tasks      | elapsed:  1.9min\n",
            "[Parallel(n_jobs=-1)]: Done 2014 tasks      | elapsed:  2.0min\n",
            "[Parallel(n_jobs=-1)]: Done 2104 tasks      | elapsed:  2.1min\n",
            "[Parallel(n_jobs=-1)]: Done 2198 tasks      | elapsed:  2.1min\n",
            "[Parallel(n_jobs=-1)]: Done 2292 tasks      | elapsed:  2.2min\n",
            "[Parallel(n_jobs=-1)]: Done 2390 tasks      | elapsed:  2.3min\n",
            "[Parallel(n_jobs=-1)]: Done 2488 tasks      | elapsed:  2.4min\n",
            "[Parallel(n_jobs=-1)]: Done 2590 tasks      | elapsed:  2.5min\n",
            "[Parallel(n_jobs=-1)]: Done 2692 tasks      | elapsed:  2.6min\n",
            "[Parallel(n_jobs=-1)]: Done 2798 tasks      | elapsed:  2.7min\n",
            "[Parallel(n_jobs=-1)]: Done 2904 tasks      | elapsed:  2.8min\n",
            "[Parallel(n_jobs=-1)]: Done 3014 tasks      | elapsed:  2.9min\n",
            "[Parallel(n_jobs=-1)]: Done 3124 tasks      | elapsed:  3.0min\n",
            "[Parallel(n_jobs=-1)]: Done 3238 tasks      | elapsed:  3.2min\n",
            "[Parallel(n_jobs=-1)]: Done 3352 tasks      | elapsed:  3.3min\n",
            "[Parallel(n_jobs=-1)]: Done 3470 tasks      | elapsed:  3.4min\n",
            "[Parallel(n_jobs=-1)]: Done 3588 tasks      | elapsed:  3.5min\n",
            "[Parallel(n_jobs=-1)]: Done 3710 tasks      | elapsed:  3.6min\n",
            "[Parallel(n_jobs=-1)]: Done 3832 tasks      | elapsed:  3.7min\n",
            "[Parallel(n_jobs=-1)]: Done 3958 tasks      | elapsed:  3.9min\n",
            "[Parallel(n_jobs=-1)]: Done 4084 tasks      | elapsed:  4.0min\n",
            "[Parallel(n_jobs=-1)]: Done 4214 tasks      | elapsed:  4.1min\n",
            "[Parallel(n_jobs=-1)]: Done 4344 tasks      | elapsed:  4.2min\n",
            "[Parallel(n_jobs=-1)]: Done 4478 tasks      | elapsed:  4.4min\n"
          ],
          "name": "stderr"
        },
        {
          "output_type": "stream",
          "text": [
            "{'kNN__n_neighbors': 1, 'pca__n_components': 14, 'selector__threshold': 0.1}\n"
          ],
          "name": "stdout"
        },
        {
          "output_type": "stream",
          "text": [
            "[Parallel(n_jobs=-1)]: Done 4500 out of 4500 | elapsed:  4.4min finished\n"
          ],
          "name": "stderr"
        }
      ]
    },
    {
      "cell_type": "code",
      "metadata": {
        "id": "N2W2Ta0fjRmU"
      },
      "source": [
        "knn_micro_preds, times['f1 micro optimized kNN'] = train_best_time_and_predict(knn_micro, train, train_labels, test)\n",
        "\n",
        "knn_best_predictions = {\n",
        "    'f1 micro optimized kNN' : knn_micro_preds\n",
        "}"
      ],
      "execution_count": null,
      "outputs": []
    },
    {
      "cell_type": "code",
      "metadata": {
        "id": "KUuBu_8-H4Sm",
        "colab": {
          "base_uri": "https://localhost:8080/"
        },
        "outputId": "c179dd30-ee5f-4ad4-9119-87a41dcee96a"
      },
      "source": [
        "selector = VarianceThreshold()\n",
        "scaler = StandardScaler()\n",
        "#pca = PCA()\n",
        "ros = RandomOverSampler()\n",
        "clf = KNeighborsClassifier(n_jobs=-1)\n",
        "\n",
        "vthreshold = [0,0.1, 0.01]\n",
        "#p = list(range(10,30,2))\n",
        "k = list(range(1,30,2)) # η υπερπαράμετρος του ταξινομητή\n",
        "\n",
        "pipe_macro = Pipeline(steps=[('selector', selector), ('scaler', scaler), ('sampler', ros), ('kNN', clf)], memory = 'tmp')\n",
        "knn_macro = GridSearchCV(pipe_macro, dict(selector__threshold=vthreshold, kNN__n_neighbors=k), cv=10, scoring='f1_macro', verbose=10, n_jobs=-1)\n",
        "knn_macro.fit(train, train_labels)\n",
        "print(knn_macro.best_params_)"
      ],
      "execution_count": null,
      "outputs": [
        {
          "output_type": "stream",
          "text": [
            "Fitting 10 folds for each of 45 candidates, totalling 450 fits\n"
          ],
          "name": "stdout"
        },
        {
          "output_type": "stream",
          "text": [
            "[Parallel(n_jobs=-1)]: Using backend LokyBackend with 2 concurrent workers.\n",
            "[Parallel(n_jobs=-1)]: Done   1 tasks      | elapsed:    1.0s\n",
            "[Parallel(n_jobs=-1)]: Done   4 tasks      | elapsed:    1.1s\n",
            "[Parallel(n_jobs=-1)]: Done   9 tasks      | elapsed:    1.5s\n",
            "[Parallel(n_jobs=-1)]: Done  14 tasks      | elapsed:    1.7s\n",
            "[Parallel(n_jobs=-1)]: Done  21 tasks      | elapsed:    2.2s\n",
            "[Parallel(n_jobs=-1)]: Done  28 tasks      | elapsed:    2.6s\n",
            "[Parallel(n_jobs=-1)]: Done  37 tasks      | elapsed:    3.2s\n",
            "[Parallel(n_jobs=-1)]: Done  46 tasks      | elapsed:    3.7s\n",
            "[Parallel(n_jobs=-1)]: Done  57 tasks      | elapsed:    4.4s\n",
            "[Parallel(n_jobs=-1)]: Done  68 tasks      | elapsed:    5.0s\n",
            "[Parallel(n_jobs=-1)]: Done  81 tasks      | elapsed:    5.8s\n",
            "[Parallel(n_jobs=-1)]: Done  94 tasks      | elapsed:    6.6s\n",
            "[Parallel(n_jobs=-1)]: Done 109 tasks      | elapsed:    7.5s\n",
            "[Parallel(n_jobs=-1)]: Done 124 tasks      | elapsed:    8.4s\n",
            "[Parallel(n_jobs=-1)]: Done 141 tasks      | elapsed:    9.4s\n",
            "[Parallel(n_jobs=-1)]: Done 158 tasks      | elapsed:   10.4s\n",
            "[Parallel(n_jobs=-1)]: Done 177 tasks      | elapsed:   11.6s\n",
            "[Parallel(n_jobs=-1)]: Done 196 tasks      | elapsed:   12.7s\n",
            "[Parallel(n_jobs=-1)]: Done 217 tasks      | elapsed:   14.0s\n",
            "[Parallel(n_jobs=-1)]: Done 238 tasks      | elapsed:   15.1s\n",
            "[Parallel(n_jobs=-1)]: Done 261 tasks      | elapsed:   16.5s\n",
            "[Parallel(n_jobs=-1)]: Done 284 tasks      | elapsed:   17.8s\n",
            "[Parallel(n_jobs=-1)]: Done 309 tasks      | elapsed:   19.4s\n",
            "[Parallel(n_jobs=-1)]: Done 334 tasks      | elapsed:   20.8s\n",
            "[Parallel(n_jobs=-1)]: Done 361 tasks      | elapsed:   22.4s\n",
            "[Parallel(n_jobs=-1)]: Done 388 tasks      | elapsed:   23.9s\n",
            "[Parallel(n_jobs=-1)]: Done 417 tasks      | elapsed:   25.7s\n",
            "[Parallel(n_jobs=-1)]: Done 446 tasks      | elapsed:   27.4s\n"
          ],
          "name": "stderr"
        },
        {
          "output_type": "stream",
          "text": [
            "{'kNN__n_neighbors': 5, 'selector__threshold': 0.1}\n"
          ],
          "name": "stdout"
        },
        {
          "output_type": "stream",
          "text": [
            "[Parallel(n_jobs=-1)]: Done 450 out of 450 | elapsed:   27.6s finished\n"
          ],
          "name": "stderr"
        }
      ]
    },
    {
      "cell_type": "code",
      "metadata": {
        "colab": {
          "base_uri": "https://localhost:8080/",
          "height": 1000
        },
        "id": "fzTB19Utkt6I",
        "outputId": "cd675fa2-d0df-43fe-c40b-d3d87439c01d"
      },
      "source": [
        "knn_macro_preds, times['f1 macro optimized kNN'] = train_best_time_and_predict(knn_macro, train, train_labels, test)\n",
        "\n",
        "knn_best_predictions['f1 macro optimized kNN'] = knn_macro_preds\n",
        "\n",
        "plot_confusion_matrix_and_scores(knn_best_predictions, test_labels)"
      ],
      "execution_count": null,
      "outputs": [
        {
          "output_type": "stream",
          "text": [
            "\n",
            "f1-micro average for f1 micro optimized kNN : 0.8620689655172413\n",
            "f1-macro average for f1 micro optimized kNN : 0.8201550387596899\n",
            "Classification report:\n",
            "              precision    recall  f1-score   support\n",
            "\n",
            "           0       0.79      0.69      0.73        16\n",
            "           1       0.89      0.93      0.91        42\n",
            "\n",
            "    accuracy                           0.86        58\n",
            "   macro avg       0.84      0.81      0.82        58\n",
            "weighted avg       0.86      0.86      0.86        58\n",
            "\n"
          ],
          "name": "stdout"
        },
        {
          "output_type": "display_data",
          "data": {
            "image/png": "[encoded data removed]",
            "text/plain": [
              "<Figure size 432x288 with 2 Axes>"
            ]
          },
          "metadata": {
            "tags": [],
            "needs_background": "light"
          }
        },
        {
          "output_type": "stream",
          "text": [
            "------------------------------------------------------------\n",
            "\n",
            "f1-micro average for f1 macro optimized kNN : 0.896551724137931\n",
            "f1-macro average for f1 macro optimized kNN : 0.8791666666666667\n",
            "Classification report:\n",
            "              precision    recall  f1-score   support\n",
            "\n",
            "           0       0.75      0.94      0.83        16\n",
            "           1       0.97      0.88      0.93        42\n",
            "\n",
            "    accuracy                           0.90        58\n",
            "   macro avg       0.86      0.91      0.88        58\n",
            "weighted avg       0.91      0.90      0.90        58\n",
            "\n"
          ],
          "name": "stdout"
        },
        {
          "output_type": "display_data",
          "data": {
            "image/png": "[encoded data removed]",
            "text/plain": [
              "<Figure size 432x288 with 2 Axes>"
            ]
          },
          "metadata": {
            "tags": [],
            "needs_background": "light"
          }
        },
        {
          "output_type": "stream",
          "text": [
            "------------------------------------------------------------\n"
          ],
          "name": "stdout"
        }
      ]
    },
    {
      "cell_type": "markdown",
      "metadata": {
        "id": "kXF8aIT6zJwE"
      },
      "source": [
        "Για τη βελτιστοποίηση του kNN micro είχε δοκιμαστεί και ο RandomOverSampler βγάζοντας χειρότερα αποτελέσματα από ότι το επιλεγμένο pipeline χωρίς.  \n",
        "Παρόλα αυτά βλέπουμε ότι ο f1 macro optimized kNN έχει καλύτερα αποτελέσματα και στη μετρική f1 micro. Αυτό συμβαίνει διότι το dataset μας είναι μικρό, και η τυχαιότητα του RandomOverSampler επηρεάζει τα τελικά αποτελέσματα παραπάνω από ότι σε ένα μεγάλο dataset.\n",
        "\n",
        "Όσον αφορά στα GridSearch, για τη βελτιστοποίηση της μετρικής f1 micro ξεκινήσαμε με τις παραμέτρους:\n",
        "\n",
        "```\n",
        "vthreshold = [0, 0.1, 0.01, 0.001, 0.0001]\n",
        "k = [10,20,30,40,50]\n",
        "p = [10,20,30,40,50,60]\n",
        "```\n",
        "\n",
        "Κοιτώντας τα αναλυτικά αποτελέσματα (όπου οι καλύτεροι συνδυασμοί είχαν k=[10,20], p = [20,30] και vthreshold = [0.1, 0.01]) αποφασίσαμε να τρέξουμε ένα 2ο GridSearch με τις παραμέτρους που φαίνονται παραπάνω, λαμβάνοντας πολύ καλά τελικά αποτελέσματα σε σχέση με τον baseline ταξινομητή kNN.\n",
        "\n",
        "Για τη μετρική f1 micro είδαμε ότι το pca έριχνε την απόδοση επομένως το αφήσαμε εκτός pipeline. Ξεκινήσαμε το 1ο GridSearch με τις παραμέτρους: \n",
        "\n",
        "```\n",
        "vthreshold = [0, 0.1, 0.01, 0.001, 0.0001]\n",
        "k = [10,20,30,40,50]\n",
        "```\n",
        "\n",
        "Τα αποτελέσματα ήταν παρόμοια με αυτά που περιγράψαμε για τη βελτιστοποίηση της μετρικής f1 micro και επομένως ακολουθήσαμε παρόμοια στρατηγική παίρνοντας 2η GridSearch με τις παραμέτρους που φαίνονται στο κελί."
      ]
    },
    {
      "cell_type": "markdown",
      "metadata": {
        "id": "qI7hRn6qz0kz"
      },
      "source": [
        "### Συνολικά αποτελέσματα και σχολιασμός"
      ]
    },
    {
      "cell_type": "code",
      "metadata": {
        "colab": {
          "base_uri": "https://localhost:8080/",
          "height": 1000
        },
        "id": "CkIYm83tT_HJ",
        "outputId": "5a6ec52d-5021-4be1-85ba-daca2d401efb"
      },
      "source": [
        "#Update bar plot\n",
        "for d in gnb_best_predictions, knn_best_predictions:\n",
        "  bar_plot_predictions.update(d)\n",
        "\n",
        "print_bar_plots(bar_plot_predictions, test_labels, 'micro', size=(15,10))\n",
        "print_bar_plots(bar_plot_predictions, test_labels, 'macro', size=(15,10))"
      ],
      "execution_count": null,
      "outputs": [
        {
          "output_type": "display_data",
          "data": {
            "image/png": "[encoded data removed]",
            "text/plain": [
              "<Figure size 1080x720 with 1 Axes>"
            ]
          },
          "metadata": {
            "tags": [],
            "needs_background": "light"
          }
        },
        {
          "output_type": "display_data",
          "data": {
            "image/png": "[encoded data removed]",
            "text/plain": [
              "<Figure size 1080x720 with 1 Axes>"
            ]
          },
          "metadata": {
            "tags": [],
            "needs_background": "light"
          }
        }
      ]
    },
    {
      "cell_type": "markdown",
      "metadata": {
        "id": "eA8-zxkk1Xs_"
      },
      "source": [
        "Βλέπουμε ότι οι ταξινομητές μας βελτιώθηκαν αρκετά σε σχέση με τους baseline και για τις 2 μετρικές. Ιδιαίτερα ο f1 macro optimized kNN αγγίζει 90% ακρίβεια στο dataset, ενώ πολύ σημαντικό είναι ότι έκανε μόλις 1 misclassification δείγματος με true label 0 (**μη υγιής κολποσκόπηση**).\n",
        "\n",
        "Για τους dummy δεν είχε ιδιαίτερη αξία να εξετάσουμε τις επιπτώσεις του preprocessing, αφού εφόσον γίνεται μετα το train_test_split μπορεί να αλλάξει μόνο τα αποτελέσματα του dummy stratified, τα οποία προφανώς δε θα έφταναν ποτέ τα νούμερα που πέτυχαν οι ταξινομητές GNB και kNN."
      ]
    },
    {
      "cell_type": "code",
      "metadata": {
        "colab": {
          "base_uri": "https://localhost:8080/",
          "height": 175
        },
        "id": "4pG6y_3Ensul",
        "outputId": "50ac5d42-6770-413f-8105-8e3daae658fc"
      },
      "source": [
        "#Plot times\n",
        "pd.DataFrame.from_dict(times, orient='index', columns=['times'])"
      ],
      "execution_count": null,
      "outputs": [
        {
          "output_type": "execute_result",
          "data": {
            "text/html": [
              "<div>\n",
              "<style scoped>\n",
              "    .dataframe tbody tr th:only-of-type {\n",
              "        vertical-align: middle;\n",
              "    }\n",
              "\n",
              "    .dataframe tbody tr th {\n",
              "        vertical-align: top;\n",
              "    }\n",
              "\n",
              "    .dataframe thead th {\n",
              "        text-align: right;\n",
              "    }\n",
              "</style>\n",
              "<table border=\"1\" class=\"dataframe\">\n",
              "  <thead>\n",
              "    <tr style=\"text-align: right;\">\n",
              "      <th></th>\n",
              "      <th>times</th>\n",
              "    </tr>\n",
              "  </thead>\n",
              "  <tbody>\n",
              "    <tr>\n",
              "      <th>f1 micro optimized GNB</th>\n",
              "      <td>0.012816</td>\n",
              "    </tr>\n",
              "    <tr>\n",
              "      <th>f1 macro optimized GNB</th>\n",
              "      <td>0.006733</td>\n",
              "    </tr>\n",
              "    <tr>\n",
              "      <th>f1 micro optimized kNN</th>\n",
              "      <td>0.121846</td>\n",
              "    </tr>\n",
              "    <tr>\n",
              "      <th>f1 macro optimized kNN</th>\n",
              "      <td>0.119448</td>\n",
              "    </tr>\n",
              "  </tbody>\n",
              "</table>\n",
              "</div>"
            ],
            "text/plain": [
              "                           times\n",
              "f1 micro optimized GNB  0.012816\n",
              "f1 macro optimized GNB  0.006733\n",
              "f1 micro optimized kNN  0.121846\n",
              "f1 macro optimized kNN  0.119448"
            ]
          },
          "metadata": {
            "tags": []
          },
          "execution_count": 194
        }
      ]
    },
    {
      "cell_type": "markdown",
      "metadata": {
        "id": "X2fG5XIc2fj0"
      },
      "source": [
        "Για τους χρόνους δεν υπάρχει κάτι άξιο σχολιασμου αφού έχουμε ένα πολύ μικρό dataset και οι χρόνοι είναι κάτω του δευτερολέπτου. Βλέπουμε όμως ότι ο f1 macro optimized GNB χρειάστηκε το μισό χρόνο εκπαίδευσης από ότι ο f1 micro optimized GNB παρότι εκπαιδεύτηκαν πάνω στο ίδιο train set (με ίδια υπερπαράμετρο PCA n_components). Αυτό ίσως οφείλεται σε κάποιο caching που μπορεί να κάνει το Google Colab, ή σε καλύτερη παραλληλοποίηση που μπορεί να έγινε κατά την εκπαίδευση. "
      ]
    },
    {
      "cell_type": "code",
      "metadata": {
        "id": "eDo5UIiHsQ8D"
      },
      "source": [
        "#Plot performance differences\n",
        "performance_dict = {\n",
        "    'GNB': [gnb_base_preds, gnb_micro_preds, gnb_macro_preds],\n",
        "    'kNN': [knn_base_preds, knn_micro_preds, knn_macro_preds]\n",
        "}"
      ],
      "execution_count": null,
      "outputs": []
    },
    {
      "cell_type": "code",
      "metadata": {
        "colab": {
          "base_uri": "https://localhost:8080/",
          "height": 130
        },
        "id": "u2TGfwVioihI",
        "outputId": "8d0d3bc7-e01b-4197-e440-1ea37b5c751e"
      },
      "source": [
        "#We want to change the dictionary values, so we copy the original to make sure it's not lost\n",
        "performance_micro = copy.deepcopy(performance_dict)\n",
        "change_preds_to_scores(performance_micro, test_labels, 'micro')\n",
        "print(\"f1 micro scores before and after:\")\n",
        "pd.DataFrame.from_dict(performance_micro, orient='index', columns=['Baseline', 'f1 micro optimized', 'f1 macro optimized'])"
      ],
      "execution_count": null,
      "outputs": [
        {
          "output_type": "stream",
          "text": [
            "f1 micro scores before and after:\n"
          ],
          "name": "stdout"
        },
        {
          "output_type": "execute_result",
          "data": {
            "text/html": [
              "<div>\n",
              "<style scoped>\n",
              "    .dataframe tbody tr th:only-of-type {\n",
              "        vertical-align: middle;\n",
              "    }\n",
              "\n",
              "    .dataframe tbody tr th {\n",
              "        vertical-align: top;\n",
              "    }\n",
              "\n",
              "    .dataframe thead th {\n",
              "        text-align: right;\n",
              "    }\n",
              "</style>\n",
              "<table border=\"1\" class=\"dataframe\">\n",
              "  <thead>\n",
              "    <tr style=\"text-align: right;\">\n",
              "      <th></th>\n",
              "      <th>Baseline</th>\n",
              "      <th>f1 micro optimized</th>\n",
              "      <th>f1 macro optimized</th>\n",
              "    </tr>\n",
              "  </thead>\n",
              "  <tbody>\n",
              "    <tr>\n",
              "      <th>GNB</th>\n",
              "      <td>0.827586</td>\n",
              "      <td>0.862069</td>\n",
              "      <td>0.862069</td>\n",
              "    </tr>\n",
              "    <tr>\n",
              "      <th>kNN</th>\n",
              "      <td>0.741379</td>\n",
              "      <td>0.862069</td>\n",
              "      <td>0.896552</td>\n",
              "    </tr>\n",
              "  </tbody>\n",
              "</table>\n",
              "</div>"
            ],
            "text/plain": [
              "     Baseline  f1 micro optimized  f1 macro optimized\n",
              "GNB  0.827586            0.862069            0.862069\n",
              "kNN  0.741379            0.862069            0.896552"
            ]
          },
          "metadata": {
            "tags": []
          },
          "execution_count": 196
        }
      ]
    },
    {
      "cell_type": "code",
      "metadata": {
        "colab": {
          "base_uri": "https://localhost:8080/",
          "height": 130
        },
        "id": "iEMBWg2jySf8",
        "outputId": "97b81e35-9ed9-4033-ef11-51b5d9ba44d8"
      },
      "source": [
        "#We want to change the dictionary values, so we copy the original to make sure it's not lost\n",
        "performance_macro = copy.deepcopy(performance_dict)\n",
        "change_preds_to_scores(performance_macro, test_labels, 'macro')\n",
        "print(\"f1 macro scores before and after:\")\n",
        "pd.DataFrame.from_dict(performance_macro, orient='index', columns=['Baseline', 'f1 micro optimized', 'f1 macro optimized'])"
      ],
      "execution_count": null,
      "outputs": [
        {
          "output_type": "stream",
          "text": [
            "f1 macro scores before and after:\n"
          ],
          "name": "stdout"
        },
        {
          "output_type": "execute_result",
          "data": {
            "text/html": [
              "<div>\n",
              "<style scoped>\n",
              "    .dataframe tbody tr th:only-of-type {\n",
              "        vertical-align: middle;\n",
              "    }\n",
              "\n",
              "    .dataframe tbody tr th {\n",
              "        vertical-align: top;\n",
              "    }\n",
              "\n",
              "    .dataframe thead th {\n",
              "        text-align: right;\n",
              "    }\n",
              "</style>\n",
              "<table border=\"1\" class=\"dataframe\">\n",
              "  <thead>\n",
              "    <tr style=\"text-align: right;\">\n",
              "      <th></th>\n",
              "      <th>Baseline</th>\n",
              "      <th>f1 micro optimized</th>\n",
              "      <th>f1 macro optimized</th>\n",
              "    </tr>\n",
              "  </thead>\n",
              "  <tbody>\n",
              "    <tr>\n",
              "      <th>GNB</th>\n",
              "      <td>0.775194</td>\n",
              "      <td>0.820155</td>\n",
              "      <td>0.820155</td>\n",
              "    </tr>\n",
              "    <tr>\n",
              "      <th>kNN</th>\n",
              "      <td>0.593268</td>\n",
              "      <td>0.820155</td>\n",
              "      <td>0.879167</td>\n",
              "    </tr>\n",
              "  </tbody>\n",
              "</table>\n",
              "</div>"
            ],
            "text/plain": [
              "     Baseline  f1 micro optimized  f1 macro optimized\n",
              "GNB  0.775194            0.820155            0.820155\n",
              "kNN  0.593268            0.820155            0.879167"
            ]
          },
          "metadata": {
            "tags": []
          },
          "execution_count": 197
        }
      ]
    },
    {
      "cell_type": "markdown",
      "metadata": {
        "id": "dtQEwC_63D81"
      },
      "source": [
        "Στα 2 παραπάνω κελιά βλέπουμε τη βελτίωση στην απόδοση των ταξινομητών μετά την προεπεξεργασία των δεδομένων τη βελτιστοποίηση των υπερπαραμέτρων τους. Είναι αξιοσημείωτο ότι για τον kNN έχουμε αύξηση απο 0.6 σε 0.82 και 0.88 αντίστοιχα στη μετρική f1 macro. Γενικά βλέπουμε ότι υπάρχει μεγάλη βελτίωση και στους 2 ταξινομητές και για τις 2 μετρικές."
      ]
    },
    {
      "cell_type": "markdown",
      "metadata": {
        "id": "rVAF_ZezXE-M"
      },
      "source": [
        "#Μέρος 2ο (big dataset)"
      ]
    },
    {
      "cell_type": "markdown",
      "metadata": {
        "id": "3z71m6gyd2QH"
      },
      "source": [
        "## Βασικές πληροφορίες\n",
        "1. Το μεγάλο dataset περιλαμβάνει δεδομένα από 19.020 τεχνητές \"παρατηρήσεις\" ακτινών γάμμα από τηλεσκόπιο Cherenkov. Τα δεδομένα έχουν παραχθεί από σημειώσεις Monte Carlo (δεν προέρχονται από πραγματικές μετρήσεις) και περιλαμβάνουν ανάλυση μοτίβων φωτονίων (δεκάδες έως δεκάδες χιλιάδες) αναλόγως την ενέργεια της ακτίνας. Ανάλογα με τα μοτίβα που παρατηρούνται διαχωρίζουμε τα φωτόνια που παράγονται από την πρωτεύουσα ακτίνα γάμμα (signal) από τις εικόνες αδρονικών καταιγισμών που παράγονται από κοσμικές ακτίνες (background)\n",
        "\n",
        "2. Αριθμός δειγμάτων: 19020  \n",
        "Αριθμός χαρακτηριστικών: 11 εκ των οποίων τo 1 είναι target.  \n",
        "\n",
        "3. Δεν υπάρχουν επικεφαλίδες ούτε αρίθμηση γραμμών.\n",
        "\n",
        "4. Οι ετικέτες των κλάσεων είναι g και h και βρίσκονται στην κολόνα 10 (με αρίθμηση από το 0).\n",
        "\n",
        "5. Δεν χρειάστηκε να κάνουμε κάποια μετατροπή στο αρχείο δεδομένων\n",
        "\n",
        "6. Δεν υπάρχουν απουσιάζουσες τιμές.\n",
        "\n",
        "7. Υπάρχουν 2 κλάσεις, η κλάση **g** (signal) και η κλάση **h** (background). Το ποσοστό των 2 κλάσεων είναι 65-35 με την πλειονότητα των δειγμάτων να κατατάσσονται στην κλάση **g**. Επομένως το dataset είναι μη ισορροπημένο. Το φαινόμενο αυτό αντιμετωπίστηκε διαφορετικά για κάθε ταξινομητή και αναλύονται οι επιλογές μας ξεχωριστά παρακάτω.\n",
        "\n",
        "8. Ο διαχωρισμός σε train,test φαίνεται παρακάτω"
      ]
    },
    {
      "cell_type": "code",
      "metadata": {
        "colab": {
          "base_uri": "https://localhost:8080/",
          "height": 424
        },
        "id": "Bu97bOh2dt9s",
        "outputId": "9f5a02d2-041e-429b-e3ca-e3c9bcf311fd"
      },
      "source": [
        "#Import dataset and separate labels from features\n",
        "df = pd.read_csv(\"magic04.csv\", header=None)\n",
        "df"
      ],
      "execution_count": null,
      "outputs": [
        {
          "output_type": "execute_result",
          "data": {
            "text/html": [
              "<div>\n",
              "<style scoped>\n",
              "    .dataframe tbody tr th:only-of-type {\n",
              "        vertical-align: middle;\n",
              "    }\n",
              "\n",
              "    .dataframe tbody tr th {\n",
              "        vertical-align: top;\n",
              "    }\n",
              "\n",
              "    .dataframe thead th {\n",
              "        text-align: right;\n",
              "    }\n",
              "</style>\n",
              "<table border=\"1\" class=\"dataframe\">\n",
              "  <thead>\n",
              "    <tr style=\"text-align: right;\">\n",
              "      <th></th>\n",
              "      <th>0</th>\n",
              "      <th>1</th>\n",
              "      <th>2</th>\n",
              "      <th>3</th>\n",
              "      <th>4</th>\n",
              "      <th>5</th>\n",
              "      <th>6</th>\n",
              "      <th>7</th>\n",
              "      <th>8</th>\n",
              "      <th>9</th>\n",
              "      <th>10</th>\n",
              "    </tr>\n",
              "  </thead>\n",
              "  <tbody>\n",
              "    <tr>\n",
              "      <th>0</th>\n",
              "      <td>28.7967</td>\n",
              "      <td>16.0021</td>\n",
              "      <td>2.6449</td>\n",
              "      <td>0.3918</td>\n",
              "      <td>0.1982</td>\n",
              "      <td>27.7004</td>\n",
              "      <td>22.0110</td>\n",
              "      <td>-8.2027</td>\n",
              "      <td>40.0920</td>\n",
              "      <td>81.8828</td>\n",
              "      <td>g</td>\n",
              "    </tr>\n",
              "    <tr>\n",
              "      <th>1</th>\n",
              "      <td>31.6036</td>\n",
              "      <td>11.7235</td>\n",
              "      <td>2.5185</td>\n",
              "      <td>0.5303</td>\n",
              "      <td>0.3773</td>\n",
              "      <td>26.2722</td>\n",
              "      <td>23.8238</td>\n",
              "      <td>-9.9574</td>\n",
              "      <td>6.3609</td>\n",
              "      <td>205.2610</td>\n",
              "      <td>g</td>\n",
              "    </tr>\n",
              "    <tr>\n",
              "      <th>2</th>\n",
              "      <td>162.0520</td>\n",
              "      <td>136.0310</td>\n",
              "      <td>4.0612</td>\n",
              "      <td>0.0374</td>\n",
              "      <td>0.0187</td>\n",
              "      <td>116.7410</td>\n",
              "      <td>-64.8580</td>\n",
              "      <td>-45.2160</td>\n",
              "      <td>76.9600</td>\n",
              "      <td>256.7880</td>\n",
              "      <td>g</td>\n",
              "    </tr>\n",
              "    <tr>\n",
              "      <th>3</th>\n",
              "      <td>23.8172</td>\n",
              "      <td>9.5728</td>\n",
              "      <td>2.3385</td>\n",
              "      <td>0.6147</td>\n",
              "      <td>0.3922</td>\n",
              "      <td>27.2107</td>\n",
              "      <td>-6.4633</td>\n",
              "      <td>-7.1513</td>\n",
              "      <td>10.4490</td>\n",
              "      <td>116.7370</td>\n",
              "      <td>g</td>\n",
              "    </tr>\n",
              "    <tr>\n",
              "      <th>4</th>\n",
              "      <td>75.1362</td>\n",
              "      <td>30.9205</td>\n",
              "      <td>3.1611</td>\n",
              "      <td>0.3168</td>\n",
              "      <td>0.1832</td>\n",
              "      <td>-5.5277</td>\n",
              "      <td>28.5525</td>\n",
              "      <td>21.8393</td>\n",
              "      <td>4.6480</td>\n",
              "      <td>356.4620</td>\n",
              "      <td>g</td>\n",
              "    </tr>\n",
              "    <tr>\n",
              "      <th>...</th>\n",
              "      <td>...</td>\n",
              "      <td>...</td>\n",
              "      <td>...</td>\n",
              "      <td>...</td>\n",
              "      <td>...</td>\n",
              "      <td>...</td>\n",
              "      <td>...</td>\n",
              "      <td>...</td>\n",
              "      <td>...</td>\n",
              "      <td>...</td>\n",
              "      <td>...</td>\n",
              "    </tr>\n",
              "    <tr>\n",
              "      <th>19015</th>\n",
              "      <td>21.3846</td>\n",
              "      <td>10.9170</td>\n",
              "      <td>2.6161</td>\n",
              "      <td>0.5857</td>\n",
              "      <td>0.3934</td>\n",
              "      <td>15.2618</td>\n",
              "      <td>11.5245</td>\n",
              "      <td>2.8766</td>\n",
              "      <td>2.4229</td>\n",
              "      <td>106.8258</td>\n",
              "      <td>h</td>\n",
              "    </tr>\n",
              "    <tr>\n",
              "      <th>19016</th>\n",
              "      <td>28.9452</td>\n",
              "      <td>6.7020</td>\n",
              "      <td>2.2672</td>\n",
              "      <td>0.5351</td>\n",
              "      <td>0.2784</td>\n",
              "      <td>37.0816</td>\n",
              "      <td>13.1853</td>\n",
              "      <td>-2.9632</td>\n",
              "      <td>86.7975</td>\n",
              "      <td>247.4560</td>\n",
              "      <td>h</td>\n",
              "    </tr>\n",
              "    <tr>\n",
              "      <th>19017</th>\n",
              "      <td>75.4455</td>\n",
              "      <td>47.5305</td>\n",
              "      <td>3.4483</td>\n",
              "      <td>0.1417</td>\n",
              "      <td>0.0549</td>\n",
              "      <td>-9.3561</td>\n",
              "      <td>41.0562</td>\n",
              "      <td>-9.4662</td>\n",
              "      <td>30.2987</td>\n",
              "      <td>256.5166</td>\n",
              "      <td>h</td>\n",
              "    </tr>\n",
              "    <tr>\n",
              "      <th>19018</th>\n",
              "      <td>120.5135</td>\n",
              "      <td>76.9018</td>\n",
              "      <td>3.9939</td>\n",
              "      <td>0.0944</td>\n",
              "      <td>0.0683</td>\n",
              "      <td>5.8043</td>\n",
              "      <td>-93.5224</td>\n",
              "      <td>-63.8389</td>\n",
              "      <td>84.6874</td>\n",
              "      <td>408.3166</td>\n",
              "      <td>h</td>\n",
              "    </tr>\n",
              "    <tr>\n",
              "      <th>19019</th>\n",
              "      <td>187.1814</td>\n",
              "      <td>53.0014</td>\n",
              "      <td>3.2093</td>\n",
              "      <td>0.2876</td>\n",
              "      <td>0.1539</td>\n",
              "      <td>-167.3125</td>\n",
              "      <td>-168.4558</td>\n",
              "      <td>31.4755</td>\n",
              "      <td>52.7310</td>\n",
              "      <td>272.3174</td>\n",
              "      <td>h</td>\n",
              "    </tr>\n",
              "  </tbody>\n",
              "</table>\n",
              "<p>19020 rows × 11 columns</p>\n",
              "</div>"
            ],
            "text/plain": [
              "             0         1       2       3   ...       7        8         9   10\n",
              "0       28.7967   16.0021  2.6449  0.3918  ...  -8.2027  40.0920   81.8828   g\n",
              "1       31.6036   11.7235  2.5185  0.5303  ...  -9.9574   6.3609  205.2610   g\n",
              "2      162.0520  136.0310  4.0612  0.0374  ... -45.2160  76.9600  256.7880   g\n",
              "3       23.8172    9.5728  2.3385  0.6147  ...  -7.1513  10.4490  116.7370   g\n",
              "4       75.1362   30.9205  3.1611  0.3168  ...  21.8393   4.6480  356.4620   g\n",
              "...         ...       ...     ...     ...  ...      ...      ...       ...  ..\n",
              "19015   21.3846   10.9170  2.6161  0.5857  ...   2.8766   2.4229  106.8258   h\n",
              "19016   28.9452    6.7020  2.2672  0.5351  ...  -2.9632  86.7975  247.4560   h\n",
              "19017   75.4455   47.5305  3.4483  0.1417  ...  -9.4662  30.2987  256.5166   h\n",
              "19018  120.5135   76.9018  3.9939  0.0944  ... -63.8389  84.6874  408.3166   h\n",
              "19019  187.1814   53.0014  3.2093  0.2876  ...  31.4755  52.7310  272.3174   h\n",
              "\n",
              "[19020 rows x 11 columns]"
            ]
          },
          "metadata": {
            "tags": []
          },
          "execution_count": 198
        }
      ]
    },
    {
      "cell_type": "code",
      "metadata": {
        "colab": {
          "base_uri": "https://localhost:8080/"
        },
        "id": "6f7tKrxZ24my",
        "outputId": "dc1d89e5-9d9c-4925-c9f0-3cad805cdbbe"
      },
      "source": [
        "labels_df = df.iloc[:, -1]\n",
        "labels = labels_df.values\n",
        "\n",
        "features_df = df.iloc[:, :-1]\n",
        "features = features_df.values\n",
        "\n",
        "#Dataset is imbalanced (65%-35%). Majority class: g\n",
        "check_balance(labels)\n",
        "\n",
        "#Split data\n",
        "train, test, train_labels, test_labels = train_test_split(features, labels, test_size=0.3)"
      ],
      "execution_count": null,
      "outputs": [
        {
          "output_type": "stream",
          "text": [
            "g: 12332 - 65%\n",
            "h: 6688 - 35%\n"
          ],
          "name": "stdout"
        }
      ]
    },
    {
      "cell_type": "code",
      "metadata": {
        "id": "fJsLK57C4qbP"
      },
      "source": [
        "#Display labels for our confusion matrices\n",
        "disp_labels = ['g','h']"
      ],
      "execution_count": null,
      "outputs": []
    },
    {
      "cell_type": "markdown",
      "metadata": {
        "id": "BS7HQBh-2hxP"
      },
      "source": [
        "## Baseline Classification"
      ]
    },
    {
      "cell_type": "markdown",
      "metadata": {
        "id": "UT93JI9C2jnO"
      },
      "source": [
        "### Dummy Classifiers"
      ]
    },
    {
      "cell_type": "code",
      "metadata": {
        "id": "9adOTvTajmTV",
        "colab": {
          "base_uri": "https://localhost:8080/",
          "height": 1000
        },
        "outputId": "5826318b-c500-418c-f854-c9c8b00cd56e"
      },
      "source": [
        "dc_uniform = DummyClassifier(strategy=\"uniform\")\n",
        "dc_constant_h = DummyClassifier(strategy=\"constant\", constant='h')\n",
        "dc_constant_g = DummyClassifier(strategy=\"constant\", constant='g')\n",
        "dc_most_frequent = DummyClassifier(strategy=\"most_frequent\")\n",
        "dc_stratified = DummyClassifier(strategy=\"stratified\")\n",
        "\n",
        "dc_uniform.fit(train, train_labels)\n",
        "dc_constant_h.fit(train, train_labels)\n",
        "dc_constant_g.fit(train, train_labels)\n",
        "dc_most_frequent.fit(train, train_labels)\n",
        "dc_stratified.fit(train, train_labels)\n",
        "\n",
        "dc_uniform_preds = dc_uniform.predict(test)\n",
        "dc_constant_h_preds = dc_constant_h.predict(test)\n",
        "dc_constant_g_preds = dc_constant_g.predict(test)\n",
        "dc_most_frequent_preds = dc_most_frequent.predict(test)\n",
        "dc_stratified_preds = dc_stratified.predict(test)\n",
        "\n",
        "\n",
        "dc_predictions = {\n",
        "    'Dummy uniform': dc_uniform_preds, \n",
        "    'Dummy constant h': dc_constant_h_preds, \n",
        "    'Dummy constant g': dc_constant_g_preds, \n",
        "    'Dummy most frequent' : dc_most_frequent_preds, \n",
        "    'Dummy stratified' : dc_stratified_preds\n",
        "}\n",
        "\n",
        "plot_confusion_matrix_and_scores(dc_predictions,test_labels,disp_labels)"
      ],
      "execution_count": null,
      "outputs": [
        {
          "output_type": "stream",
          "text": [
            "\n",
            "f1-micro average for Dummy uniform : 0.49859796705222575\n",
            "f1-macro average for Dummy uniform : 0.48524530666782284\n",
            "Classification report:\n",
            "              precision    recall  f1-score   support\n",
            "\n",
            "           g       0.66      0.50      0.57      3768\n",
            "           h       0.34      0.50      0.40      1938\n",
            "\n",
            "    accuracy                           0.50      5706\n",
            "   macro avg       0.50      0.50      0.49      5706\n",
            "weighted avg       0.55      0.50      0.51      5706\n",
            "\n"
          ],
          "name": "stdout"
        },
        {
          "output_type": "display_data",
          "data": {
            "image/png": "[encoded data removed]",
            "text/plain": [
              "<Figure size 432x288 with 2 Axes>"
            ]
          },
          "metadata": {
            "tags": [],
            "needs_background": "light"
          }
        },
        {
          "output_type": "stream",
          "text": [
            "------------------------------------------------------------\n",
            "\n",
            "f1-micro average for Dummy constant h : 0.33964248159831756\n",
            "f1-macro average for Dummy constant h : 0.25353218210361067\n",
            "Classification report:\n",
            "              precision    recall  f1-score   support\n",
            "\n",
            "           g       0.00      0.00      0.00      3768\n",
            "           h       0.34      1.00      0.51      1938\n",
            "\n",
            "    accuracy                           0.34      5706\n",
            "   macro avg       0.17      0.50      0.25      5706\n",
            "weighted avg       0.12      0.34      0.17      5706\n",
            "\n"
          ],
          "name": "stdout"
        },
        {
          "output_type": "stream",
          "text": [
            "/usr/local/lib/python3.6/dist-packages/sklearn/metrics/_classification.py:1272: UndefinedMetricWarning: Precision and F-score are ill-defined and being set to 0.0 in labels with no predicted samples. Use `zero_division` parameter to control this behavior.\n",
            "  _warn_prf(average, modifier, msg_start, len(result))\n"
          ],
          "name": "stderr"
        },
        {
          "output_type": "display_data",
          "data": {
            "image/png": "[encoded data removed]",
            "text/plain": [
              "<Figure size 432x288 with 2 Axes>"
            ]
          },
          "metadata": {
            "tags": [],
            "needs_background": "light"
          }
        },
        {
          "output_type": "stream",
          "text": [
            "------------------------------------------------------------\n",
            "\n",
            "f1-micro average for Dummy constant g : 0.6603575184016824\n",
            "f1-macro average for Dummy constant g : 0.3977200759974668\n",
            "Classification report:\n",
            "              precision    recall  f1-score   support\n",
            "\n",
            "           g       0.66      1.00      0.80      3768\n",
            "           h       0.00      0.00      0.00      1938\n",
            "\n",
            "    accuracy                           0.66      5706\n",
            "   macro avg       0.33      0.50      0.40      5706\n",
            "weighted avg       0.44      0.66      0.53      5706\n",
            "\n"
          ],
          "name": "stdout"
        },
        {
          "output_type": "display_data",
          "data": {
            "image/png": "[encoded data removed]",
            "text/plain": [
              "<Figure size 432x288 with 2 Axes>"
            ]
          },
          "metadata": {
            "tags": [],
            "needs_background": "light"
          }
        },
        {
          "output_type": "stream",
          "text": [
            "------------------------------------------------------------\n",
            "\n",
            "f1-micro average for Dummy most frequent : 0.6603575184016824\n",
            "f1-macro average for Dummy most frequent : 0.3977200759974668\n",
            "Classification report:\n",
            "              precision    recall  f1-score   support\n",
            "\n",
            "           g       0.66      1.00      0.80      3768\n",
            "           h       0.00      0.00      0.00      1938\n",
            "\n",
            "    accuracy                           0.66      5706\n",
            "   macro avg       0.33      0.50      0.40      5706\n",
            "weighted avg       0.44      0.66      0.53      5706\n",
            "\n"
          ],
          "name": "stdout"
        },
        {
          "output_type": "display_data",
          "data": {
            "image/png": "[encoded data removed]",
            "text/plain": [
              "<Figure size 432x288 with 2 Axes>"
            ]
          },
          "metadata": {
            "tags": [],
            "needs_background": "light"
          }
        },
        {
          "output_type": "stream",
          "text": [
            "------------------------------------------------------------\n",
            "\n",
            "f1-micro average for Dummy stratified : 0.5620399579390115\n",
            "f1-macro average for Dummy stratified : 0.5163952009241718\n",
            "Classification report:\n",
            "              precision    recall  f1-score   support\n",
            "\n",
            "           g       0.67      0.66      0.66      3768\n",
            "           h       0.36      0.38      0.37      1938\n",
            "\n",
            "    accuracy                           0.56      5706\n",
            "   macro avg       0.52      0.52      0.52      5706\n",
            "weighted avg       0.57      0.56      0.56      5706\n",
            "\n"
          ],
          "name": "stdout"
        },
        {
          "output_type": "display_data",
          "data": {
            "image/png": "[encoded data removed]",
            "text/plain": [
              "<Figure size 432x288 with 2 Axes>"
            ]
          },
          "metadata": {
            "tags": [],
            "needs_background": "light"
          }
        },
        {
          "output_type": "stream",
          "text": [
            "------------------------------------------------------------\n"
          ],
          "name": "stdout"
        }
      ]
    },
    {
      "cell_type": "markdown",
      "metadata": {
        "id": "Fyed2OnV2sn6"
      },
      "source": [
        "### Baseline Gaussian Naive Bayes"
      ]
    },
    {
      "cell_type": "code",
      "metadata": {
        "id": "0F6qfbAnkAhU",
        "colab": {
          "base_uri": "https://localhost:8080/",
          "height": 549
        },
        "outputId": "41955051-934c-4d4f-a035-79d0bf1df5e6"
      },
      "source": [
        "gnb_base = GaussianNB()\n",
        "gnb_base.fit(train, train_labels)\n",
        "gnb_base_preds = gnb_base.predict(test)\n",
        "\n",
        "gnb_base_predictions = {\n",
        "    'Baseline Gaussian Naive Bayes' : gnb_base_preds\n",
        "}\n",
        "\n",
        "plot_confusion_matrix_and_scores(gnb_base_predictions,test_labels, disp_labels)"
      ],
      "execution_count": null,
      "outputs": [
        {
          "output_type": "stream",
          "text": [
            "\n",
            "f1-micro average for Baseline Gaussian Naive Bayes : 0.7288818787241499\n",
            "f1-macro average for Baseline Gaussian Naive Bayes : 0.6530952154418217\n",
            "Classification report:\n",
            "              precision    recall  f1-score   support\n",
            "\n",
            "           g       0.74      0.91      0.82      3768\n",
            "           h       0.68      0.38      0.49      1938\n",
            "\n",
            "    accuracy                           0.73      5706\n",
            "   macro avg       0.71      0.65      0.65      5706\n",
            "weighted avg       0.72      0.73      0.71      5706\n",
            "\n"
          ],
          "name": "stdout"
        },
        {
          "output_type": "display_data",
          "data": {
            "image/png": "[encoded data removed]",
            "text/plain": [
              "<Figure size 432x288 with 2 Axes>"
            ]
          },
          "metadata": {
            "tags": [],
            "needs_background": "light"
          }
        },
        {
          "output_type": "stream",
          "text": [
            "------------------------------------------------------------\n"
          ],
          "name": "stdout"
        }
      ]
    },
    {
      "cell_type": "markdown",
      "metadata": {
        "id": "wf0NdoW824J-"
      },
      "source": [
        "### Baseline kNN"
      ]
    },
    {
      "cell_type": "code",
      "metadata": {
        "id": "iCqC7atLG0BK",
        "colab": {
          "base_uri": "https://localhost:8080/",
          "height": 549
        },
        "outputId": "f3de80ec-7c83-4636-ae77-daa70724dd5d"
      },
      "source": [
        "knn_base = KNeighborsClassifier()\n",
        "knn_base.fit(train, train_labels)\n",
        "knn_base_preds = knn_base.predict(test)\n",
        "\n",
        "knn_base_predictions = {\n",
        "    'Baseline kNN' : knn_base_preds\n",
        "}\n",
        "plot_confusion_matrix_and_scores(knn_base_predictions,test_labels, disp_labels)"
      ],
      "execution_count": null,
      "outputs": [
        {
          "output_type": "stream",
          "text": [
            "\n",
            "f1-micro average for Baseline kNN : 0.8119523308797757\n",
            "f1-macro average for Baseline kNN : 0.7749767379397009\n",
            "Classification report:\n",
            "              precision    recall  f1-score   support\n",
            "\n",
            "           g       0.82      0.92      0.87      3768\n",
            "           h       0.80      0.60      0.68      1938\n",
            "\n",
            "    accuracy                           0.81      5706\n",
            "   macro avg       0.81      0.76      0.77      5706\n",
            "weighted avg       0.81      0.81      0.80      5706\n",
            "\n"
          ],
          "name": "stdout"
        },
        {
          "output_type": "display_data",
          "data": {
            "image/png": "[encoded data removed]",
            "text/plain": [
              "<Figure size 432x288 with 2 Axes>"
            ]
          },
          "metadata": {
            "tags": [],
            "needs_background": "light"
          }
        },
        {
          "output_type": "stream",
          "text": [
            "------------------------------------------------------------\n"
          ],
          "name": "stdout"
        }
      ]
    },
    {
      "cell_type": "markdown",
      "metadata": {
        "id": "q39d1h7P3FlL"
      },
      "source": [
        "### Baseline MLP"
      ]
    },
    {
      "cell_type": "code",
      "metadata": {
        "id": "GuHbjh743BL8",
        "colab": {
          "base_uri": "https://localhost:8080/",
          "height": 549
        },
        "outputId": "484bc3c9-5edc-4223-b4d8-5b14d9ed81d4"
      },
      "source": [
        "mlp_base = MLPClassifier()\n",
        "mlp_base.fit(train, train_labels)\n",
        "mlp_base_preds = mlp_base.predict(test)\n",
        "\n",
        "mlp_base_predictions = {\n",
        "    'Baseline MLP' : mlp_base_preds\n",
        "}\n",
        "plot_confusion_matrix_and_scores(mlp_base_predictions, test_labels,disp_labels)"
      ],
      "execution_count": null,
      "outputs": [
        {
          "output_type": "stream",
          "text": [
            "\n",
            "f1-micro average for Baseline MLP : 0.8347353662811076\n",
            "f1-macro average for Baseline MLP : 0.8116668679820571\n",
            "Classification report:\n",
            "              precision    recall  f1-score   support\n",
            "\n",
            "           g       0.86      0.90      0.88      3768\n",
            "           h       0.78      0.71      0.75      1938\n",
            "\n",
            "    accuracy                           0.83      5706\n",
            "   macro avg       0.82      0.81      0.81      5706\n",
            "weighted avg       0.83      0.83      0.83      5706\n",
            "\n"
          ],
          "name": "stdout"
        },
        {
          "output_type": "display_data",
          "data": {
            "image/png": "[encoded data removed]",
            "text/plain": [
              "<Figure size 432x288 with 2 Axes>"
            ]
          },
          "metadata": {
            "tags": [],
            "needs_background": "light"
          }
        },
        {
          "output_type": "stream",
          "text": [
            "------------------------------------------------------------\n"
          ],
          "name": "stdout"
        }
      ]
    },
    {
      "cell_type": "markdown",
      "metadata": {
        "id": "gBzqHLBx3KWy"
      },
      "source": [
        "### Baseline SVM's"
      ]
    },
    {
      "cell_type": "code",
      "metadata": {
        "id": "OKje-c6d3Z05",
        "colab": {
          "base_uri": "https://localhost:8080/",
          "height": 1000
        },
        "outputId": "97747d1f-b47a-468c-f2f8-f862a069ac8d"
      },
      "source": [
        "svc_linear_base = LinearSVC()\n",
        "svc_poly_base = SVC(kernel='poly')\n",
        "svc_rbf_base = SVC()\n",
        "\n",
        "svc_linear_base.fit(train, train_labels)\n",
        "svc_poly_base.fit(train, train_labels)\n",
        "svc_rbf_base.fit(train, train_labels)\n",
        "\n",
        "svc_linear_base_preds = svc_linear_base.predict(test)\n",
        "svc_poly_base_preds = svc_poly_base.predict(test)\n",
        "svc_rbf_base_preds = svc_rbf_base.predict(test)\n",
        "\n",
        "svc_base_predictions = {\n",
        "    'Baseline linear SVC' : svc_linear_base_preds,\n",
        "    'Baseline poly SVC' : svc_poly_base_preds,\n",
        "    'Baseline rbf SVC' : svc_rbf_base_preds\n",
        "}\n",
        "\n",
        "plot_confusion_matrix_and_scores(svc_base_predictions, test_labels, disp_labels)"
      ],
      "execution_count": null,
      "outputs": [
        {
          "output_type": "stream",
          "text": [
            "/usr/local/lib/python3.6/dist-packages/sklearn/svm/_base.py:947: ConvergenceWarning: Liblinear failed to converge, increase the number of iterations.\n",
            "  \"the number of iterations.\", ConvergenceWarning)\n"
          ],
          "name": "stderr"
        },
        {
          "output_type": "stream",
          "text": [
            "\n",
            "f1-micro average for Baseline linear SVC : 0.5559060637924991\n",
            "f1-macro average for Baseline linear SVC : 0.555119012938621\n",
            "Classification report:\n",
            "              precision    recall  f1-score   support\n",
            "\n",
            "           g       0.86      0.39      0.54      3768\n",
            "           h       0.43      0.88      0.57      1938\n",
            "\n",
            "    accuracy                           0.56      5706\n",
            "   macro avg       0.64      0.63      0.56      5706\n",
            "weighted avg       0.71      0.56      0.55      5706\n",
            "\n"
          ],
          "name": "stdout"
        },
        {
          "output_type": "display_data",
          "data": {
            "image/png": "[encoded data removed]",
            "text/plain": [
              "<Figure size 432x288 with 2 Axes>"
            ]
          },
          "metadata": {
            "tags": [],
            "needs_background": "light"
          }
        },
        {
          "output_type": "stream",
          "text": [
            "------------------------------------------------------------\n",
            "\n",
            "f1-micro average for Baseline poly SVC : 0.8175604626708728\n",
            "f1-macro average for Baseline poly SVC : 0.7733104173778608\n",
            "Classification report:\n",
            "              precision    recall  f1-score   support\n",
            "\n",
            "           g       0.81      0.95      0.87      3768\n",
            "           h       0.86      0.55      0.67      1938\n",
            "\n",
            "    accuracy                           0.82      5706\n",
            "   macro avg       0.83      0.75      0.77      5706\n",
            "weighted avg       0.82      0.82      0.81      5706\n",
            "\n"
          ],
          "name": "stdout"
        },
        {
          "output_type": "display_data",
          "data": {
            "image/png": "[encoded data removed]",
            "text/plain": [
              "<Figure size 432x288 with 2 Axes>"
            ]
          },
          "metadata": {
            "tags": [],
            "needs_background": "light"
          }
        },
        {
          "output_type": "stream",
          "text": [
            "------------------------------------------------------------\n",
            "\n",
            "f1-micro average for Baseline rbf SVC : 0.8222923238696109\n",
            "f1-macro average for Baseline rbf SVC : 0.7819635880182332\n",
            "Classification report:\n",
            "              precision    recall  f1-score   support\n",
            "\n",
            "           g       0.81      0.95      0.88      3768\n",
            "           h       0.85      0.58      0.69      1938\n",
            "\n",
            "    accuracy                           0.82      5706\n",
            "   macro avg       0.83      0.76      0.78      5706\n",
            "weighted avg       0.83      0.82      0.81      5706\n",
            "\n"
          ],
          "name": "stdout"
        },
        {
          "output_type": "display_data",
          "data": {
            "image/png": "[encoded data removed]",
            "text/plain": [
              "<Figure size 432x288 with 2 Axes>"
            ]
          },
          "metadata": {
            "tags": [],
            "needs_background": "light"
          }
        },
        {
          "output_type": "stream",
          "text": [
            "------------------------------------------------------------\n"
          ],
          "name": "stdout"
        }
      ]
    },
    {
      "cell_type": "markdown",
      "metadata": {
        "id": "Je6KNk2q3x8T"
      },
      "source": [
        "### Αποτελέσματα και σχολιασμός Baseline ταξινόμησης"
      ]
    },
    {
      "cell_type": "code",
      "metadata": {
        "id": "VN5x6ZXcHhph",
        "colab": {
          "base_uri": "https://localhost:8080/",
          "height": 1000
        },
        "outputId": "3bbd4f1c-bcfb-42ed-954c-290c35b23d39"
      },
      "source": [
        "bar_plot_predictions = {}\n",
        "\n",
        "#Concatenate all predictions to print bar plots\n",
        "for d in dc_predictions, gnb_base_predictions, knn_base_predictions, mlp_base_predictions, svc_base_predictions:\n",
        "  bar_plot_predictions.update(d)\n",
        "\n",
        "print_bar_plots(bar_plot_predictions, test_labels, 'micro', size=(15,10))\n",
        "print_bar_plots(bar_plot_predictions, test_labels, 'macro', size=(15,10))"
      ],
      "execution_count": null,
      "outputs": [
        {
          "output_type": "display_data",
          "data": {
            "image/png": "[encoded data removed]",
            "text/plain": [
              "<Figure size 1080x720 with 1 Axes>"
            ]
          },
          "metadata": {
            "tags": [],
            "needs_background": "light"
          }
        },
        {
          "output_type": "display_data",
          "data": {
            "image/png": "[encoded data removed]",
            "text/plain": [
              "<Figure size 1080x720 with 1 Axes>"
            ]
          },
          "metadata": {
            "tags": [],
            "needs_background": "light"
          }
        }
      ]
    },
    {
      "cell_type": "markdown",
      "metadata": {
        "id": "SgayUN5w4yWy"
      },
      "source": [
        "Από τα παραπάνω διαγράμματα άξια σχολιασμού είναι τα εξής:\n",
        "\n",
        "\n",
        "*   Όπως και στο μικρό dataset, έτσι και στο μεγάλο οι έξυπνοι ταξινομητές έχουν καλύτερη επίδοση από τους dummy ακόμα και χωρίς preprocessing ή βελτιστοποίηση. Εξαίρεση αποτελεί ο LinearSVC ο οποίος έχει πολύ κακή επίδοση με απλή αρχικοποίηση\n",
        "*   Όπως και στο προηγούμενο dataset, πάλι έχει νόημα να σκεφτούμε τα misclassifications. Μαθαίνουμε από το UCI Repository ότι το misclassification ενός φαινομένου h ως φαινόμενο g είναι πολύ χειρότερο από το misclassification ενός φαινομένου g ως φαινόμενο h. Επομένως αξίζει να σχολιάζουμε το recall της κλάσης h.\n",
        "* Βλέποντας τα recall της κλάσης h για κάθε ταξινομητή, παρατηρούμε ότι όλοι εκτός από τον ταξινομητή MLP έχουν αρκετά χαμηλότερη τιμή σε σχέση με τις τιμές των μετρικών που βλέπουμε στα plots. Κατα τη βελτιστοποίηση, αντιμετωπίζουμε αυτό το φαινόμενο εξισορροπώντας το dataset.\n",
        "\n"
      ]
    },
    {
      "cell_type": "markdown",
      "metadata": {
        "id": "kMIh-MUs4RLT"
      },
      "source": [
        "## Βελτιστοποίηση ταξινομητών"
      ]
    },
    {
      "cell_type": "markdown",
      "metadata": {
        "id": "ywBy_HmG6fLR"
      },
      "source": [
        "### Data Evaluation\n",
        "\n",
        "Γνωρίζουμε ότι έχουμε 10 features. Βλέποντας τις τιμές τους, παρατηρούμε ότι πολλά έχουν διαφορετικές τάξεις μεγέθους οπότε είναι ασφαλές να υποθέσουμε ότι θα χρειαστούν scaling.\n",
        "\n",
        "Πράγματι, στις δοκιμές των διάφορων pipelines που κάναμε για τους διάφορους ταξινομητές, το scaled dataset έδινε καλύτερες τιμές. Επίσης, η όποια προσπάθειά μας να αφαιρέσουμε low variance features ή να κάνουμε PCA έφερε χειρότερα αποτελέσματα, που σημαίνει ότι όλα τα features είναι χρήσιμα. Όμως, θα δούμε ότι σε πολλούς ταξινομητές το PCA με όλα τα features (δηλαδή αλλαγή βάσης) αύξησε τα scores.\n",
        "\n",
        "Μια άλλη παρατήρηση που μπορέσαμε να κάνουμε για πολλούς classifiers, ήταν ότι έδιναν καλύτερες τιμές f1-micro όταν διατηρούσαμε το train set εκτός ισορροπίας και καλύτερες τιμές f1-macro όταν το εξισορροπούσαμε.\n",
        "\n",
        "Έτσι, όπως θα δούμε παρακάτω, το βέλτιστο pipeline για κάθε f1 micro optimization των classifiers ήταν scaling και pca με όλα τα χαρακτηριστικά, ενώ για f1 macro optimization προσθέτουμε και κάποιο τρόπο να εξισορροπηθεί το dataset (RandomUnderSampler για τους ταξινομητές που δεν μπορούν να το εξισορροπήσουν μόνοι τους, ενώ για τα SVM χρησιμοποιήσαμε την παράμετρο class_weight που έδωσε καλύτερα αποτελέσματα).\n",
        "\n",
        "Παρακάτω φαίνονται τα variances των χαρακτηριστικών όπου βλέπουμε ότι όντως δεν υπάρχει feature με τόσο μικρό variance που θα το καθιστούσε αμελητέο."
      ]
    },
    {
      "cell_type": "code",
      "metadata": {
        "colab": {
          "base_uri": "https://localhost:8080/"
        },
        "id": "4Iu-x8j16eeV",
        "outputId": "d13efc7c-b982-45e5-8539-d63cda26bd30"
      },
      "source": [
        "selector = VarianceThreshold()\n",
        "selector.fit(train)\n",
        "print(selector.variances_)"
      ],
      "execution_count": null,
      "outputs": [
        {
          "output_type": "stream",
          "text": [
            "[3.29893500e+02 2.56382000e+02 2.22676153e-01 3.38183278e-02\n",
            " 1.23430964e-02 1.02519330e+03 5.70101000e+02 3.85745700e+02\n",
            " 9.00000000e+01 4.65125200e+02]\n"
          ],
          "name": "stdout"
        }
      ]
    },
    {
      "cell_type": "markdown",
      "metadata": {
        "id": "kroTQjf6_EsP"
      },
      "source": [
        "Επίσης, κάνουμε sample 1000 δείγματα ώστε να μπορούμε να τρέξουμε κάποια \"φθηνότερα\" GridSearch"
      ]
    },
    {
      "cell_type": "code",
      "metadata": {
        "id": "f0ADB-ko_DVg"
      },
      "source": [
        "idx = np.random.choice(np.arange(len(train)), 1000, replace=False)\n",
        "train_small = train[idx]\n",
        "train_labels_small = train_labels[idx]"
      ],
      "execution_count": null,
      "outputs": []
    },
    {
      "cell_type": "markdown",
      "metadata": {
        "id": "SUG_F7VG4qBJ"
      },
      "source": [
        "### GNB Optimization"
      ]
    },
    {
      "cell_type": "code",
      "metadata": {
        "id": "h-iCixv_JTya",
        "colab": {
          "base_uri": "https://localhost:8080/"
        },
        "outputId": "d31a1fa1-912f-4505-a9d4-d7972f3d8ed9"
      },
      "source": [
        "#Optimizing GNB based on f1 micro average and f1 macro average\n",
        "scaler = StandardScaler()\n",
        "pca = PCA()\n",
        "rus = RandomUnderSampler()\n",
        "clf = GaussianNB()\n",
        "\n",
        "p = list(range(11))\n",
        "parameters = {\n",
        "    'pca__n_components' : p\n",
        "}\n",
        "\n",
        "pipe_micro = Pipeline(steps=[('scaler', scaler), ('pca', pca), ('gnb', clf)], memory = 'tmp')\n",
        "pipe_macro = Pipeline(steps=[('scaler', scaler), ('rus', rus), ('pca', pca), ('gnb', clf)], memory = 'tmp')\n",
        "gnb_micro = GridSearchCV(pipe_micro, parameters, cv=5, scoring='f1_micro', verbose=10, n_jobs=-1)\n",
        "gnb_macro = GridSearchCV(pipe_macro, parameters, cv=5, scoring='f1_macro', verbose=10, n_jobs=-1)\n",
        "gnb_micro.fit(train, train_labels)\n",
        "gnb_macro.fit(train, train_labels)\n",
        "print('best f1 micro parameters', gnb_micro.best_params_)\n",
        "print('best f1 macro parameters', gnb_macro.best_params_)"
      ],
      "execution_count": null,
      "outputs": [
        {
          "output_type": "stream",
          "text": [
            "Fitting 5 folds for each of 11 candidates, totalling 55 fits\n"
          ],
          "name": "stdout"
        },
        {
          "output_type": "stream",
          "text": [
            "[Parallel(n_jobs=-1)]: Using backend LokyBackend with 2 concurrent workers.\n",
            "[Parallel(n_jobs=-1)]: Done   1 tasks      | elapsed:    1.3s\n",
            "[Parallel(n_jobs=-1)]: Done   4 tasks      | elapsed:    1.8s\n",
            "[Parallel(n_jobs=-1)]: Done   9 tasks      | elapsed:    2.8s\n",
            "[Parallel(n_jobs=-1)]: Done  14 tasks      | elapsed:    3.5s\n",
            "[Parallel(n_jobs=-1)]: Done  21 tasks      | elapsed:    4.9s\n",
            "[Parallel(n_jobs=-1)]: Done  28 tasks      | elapsed:    5.9s\n",
            "[Parallel(n_jobs=-1)]: Done  37 tasks      | elapsed:    7.6s\n",
            "[Parallel(n_jobs=-1)]: Done  46 tasks      | elapsed:    9.0s\n",
            "[Parallel(n_jobs=-1)]: Done  55 out of  55 | elapsed:   10.4s finished\n"
          ],
          "name": "stderr"
        },
        {
          "output_type": "stream",
          "text": [
            "Fitting 5 folds for each of 11 candidates, totalling 55 fits\n"
          ],
          "name": "stdout"
        },
        {
          "output_type": "stream",
          "text": [
            "[Parallel(n_jobs=-1)]: Using backend LokyBackend with 2 concurrent workers.\n",
            "[Parallel(n_jobs=-1)]: Done   1 tasks      | elapsed:    0.5s\n",
            "[Parallel(n_jobs=-1)]: Done   4 tasks      | elapsed:    1.1s\n",
            "[Parallel(n_jobs=-1)]: Done   9 tasks      | elapsed:    2.1s\n",
            "[Parallel(n_jobs=-1)]: Done  14 tasks      | elapsed:    2.9s\n",
            "[Parallel(n_jobs=-1)]: Done  21 tasks      | elapsed:    4.1s\n",
            "[Parallel(n_jobs=-1)]: Done  28 tasks      | elapsed:    5.3s\n",
            "[Parallel(n_jobs=-1)]: Done  37 tasks      | elapsed:    6.9s\n",
            "[Parallel(n_jobs=-1)]: Done  46 tasks      | elapsed:    8.3s\n",
            "[Parallel(n_jobs=-1)]: Done  55 out of  55 | elapsed:    9.8s finished\n"
          ],
          "name": "stderr"
        },
        {
          "output_type": "stream",
          "text": [
            "best f1 micro parameters {'pca__n_components': 10}\n",
            "best f1 macro parameters {'pca__n_components': 10}\n"
          ],
          "name": "stdout"
        }
      ]
    },
    {
      "cell_type": "code",
      "metadata": {
        "colab": {
          "base_uri": "https://localhost:8080/",
          "height": 1000
        },
        "id": "f_FHmBet89Hn",
        "outputId": "98786de0-0c55-43ba-c77e-459f7661987c"
      },
      "source": [
        "gnb_micro_preds, times['f1 micro optimized GNB'] = train_best_time_and_predict(gnb_micro, train, train_labels, test)\n",
        "gnb_macro_preds, times['f1 macro optimized GNB'] = train_best_time_and_predict(gnb_macro, train, train_labels, test)\n",
        "\n",
        "gnb_best_predictions = {\n",
        "    'f1 micro optimized GNB' : gnb_micro_preds,\n",
        "    'f1 macro optimized GNB' : gnb_macro_preds\n",
        "}\n",
        "\n",
        "plot_confusion_matrix_and_scores(gnb_best_predictions, test_labels, disp_labels)"
      ],
      "execution_count": null,
      "outputs": [
        {
          "output_type": "stream",
          "text": [
            "\n",
            "f1-micro average for f1 micro optimized GNB : 0.755695758850333\n",
            "f1-macro average for f1 micro optimized GNB : 0.7027588818104892\n",
            "Classification report:\n",
            "              precision    recall  f1-score   support\n",
            "\n",
            "           g       0.77      0.89      0.83      3768\n",
            "           h       0.70      0.49      0.58      1938\n",
            "\n",
            "    accuracy                           0.76      5706\n",
            "   macro avg       0.74      0.69      0.70      5706\n",
            "weighted avg       0.75      0.76      0.74      5706\n",
            "\n"
          ],
          "name": "stdout"
        },
        {
          "output_type": "display_data",
          "data": {
            "image/png": "[encoded data removed]",
            "text/plain": [
              "<Figure size 432x288 with 2 Axes>"
            ]
          },
          "metadata": {
            "tags": [],
            "needs_background": "light"
          }
        },
        {
          "output_type": "stream",
          "text": [
            "------------------------------------------------------------\n",
            "\n",
            "f1-micro average for f1 macro optimized GNB : 0.7488608482299334\n",
            "f1-macro average for f1 macro optimized GNB : 0.7072603161254255\n",
            "Classification report:\n",
            "              precision    recall  f1-score   support\n",
            "\n",
            "           g       0.79      0.85      0.82      3768\n",
            "           h       0.66      0.55      0.60      1938\n",
            "\n",
            "    accuracy                           0.75      5706\n",
            "   macro avg       0.72      0.70      0.71      5706\n",
            "weighted avg       0.74      0.75      0.74      5706\n",
            "\n"
          ],
          "name": "stdout"
        },
        {
          "output_type": "display_data",
          "data": {
            "image/png": "[encoded data removed]",
            "text/plain": [
              "<Figure size 432x288 with 2 Axes>"
            ]
          },
          "metadata": {
            "tags": [],
            "needs_background": "light"
          }
        },
        {
          "output_type": "stream",
          "text": [
            "------------------------------------------------------------\n"
          ],
          "name": "stdout"
        }
      ]
    },
    {
      "cell_type": "markdown",
      "metadata": {
        "id": "nU9fost26chr"
      },
      "source": [
        "Εφόσον ο GNB δεν έχει υπερπαραμέτρους προς βελτιστοποίηση και έχουμε δει ότι η αφαίρεση χαρακτηριστικών οδηγεί σε χειρότερη επίδοση, δεν είχαμε πολλές επιλογές για τη βελτιστοποίηση του GNB. Επιβεβαιώνουμε όμως με το GridSearch ότι η επίδοση με PCA βελτιστοποιείται όταν περιλαμβάνουμε όλα τα χαρακτηριστικά."
      ]
    },
    {
      "cell_type": "markdown",
      "metadata": {
        "id": "uAuEHdDl4sjs"
      },
      "source": [
        "### kNN Optimization"
      ]
    },
    {
      "cell_type": "code",
      "metadata": {
        "id": "2aosJFvDPh0Y",
        "colab": {
          "base_uri": "https://localhost:8080/"
        },
        "outputId": "fcae5cba-a91b-4101-a683-0877f93aab7d"
      },
      "source": [
        "selector = VarianceThreshold()\n",
        "scaler = StandardScaler()\n",
        "pca = PCA()\n",
        "clf = KNeighborsClassifier(n_jobs=-1)\n",
        "\n",
        "\n",
        "k = list(range(1, 22, 2)) # η υπερπαράμετρος του ταξινομητή\n",
        "weights = ['uniform', 'distance']\n",
        "metric = ['euclidean', 'chebyshev', 'manhattan']\n",
        "\n",
        "parameters = {\n",
        "    'kNN__n_neighbors' : k,\n",
        "    'kNN__weights' : weights,\n",
        "    'kNN__metric' : metric\n",
        "}\n",
        "\n",
        "pipe_micro = Pipeline(steps=[('scaler', scaler), ('pca', pca), ('kNN', clf)], memory = 'tmp')\n",
        "knn_micro = GridSearchCV(pipe_micro, parameters, cv=5, scoring='f1_micro', verbose=10, n_jobs=-1)\n",
        "knn_micro.fit(train, train_labels)\n",
        "print(knn_micro.best_params_)"
      ],
      "execution_count": null,
      "outputs": [
        {
          "output_type": "stream",
          "text": [
            "Fitting 5 folds for each of 66 candidates, totalling 330 fits\n"
          ],
          "name": "stdout"
        },
        {
          "output_type": "stream",
          "text": [
            "[Parallel(n_jobs=-1)]: Using backend LokyBackend with 2 concurrent workers.\n",
            "[Parallel(n_jobs=-1)]: Done   1 tasks      | elapsed:    0.6s\n",
            "[Parallel(n_jobs=-1)]: Done   4 tasks      | elapsed:    1.1s\n",
            "[Parallel(n_jobs=-1)]: Done   9 tasks      | elapsed:    2.3s\n",
            "[Parallel(n_jobs=-1)]: Done  14 tasks      | elapsed:    3.3s\n",
            "[Parallel(n_jobs=-1)]: Done  21 tasks      | elapsed:    5.1s\n",
            "[Parallel(n_jobs=-1)]: Done  28 tasks      | elapsed:    6.6s\n",
            "[Parallel(n_jobs=-1)]: Done  37 tasks      | elapsed:    8.9s\n",
            "[Parallel(n_jobs=-1)]: Done  46 tasks      | elapsed:   11.0s\n",
            "[Parallel(n_jobs=-1)]: Done  57 tasks      | elapsed:   13.7s\n",
            "[Parallel(n_jobs=-1)]: Done  68 tasks      | elapsed:   16.4s\n",
            "[Parallel(n_jobs=-1)]: Done  81 tasks      | elapsed:   19.7s\n",
            "[Parallel(n_jobs=-1)]: Done  94 tasks      | elapsed:   23.3s\n",
            "[Parallel(n_jobs=-1)]: Done 109 tasks      | elapsed:   27.2s\n",
            "[Parallel(n_jobs=-1)]: Done 124 tasks      | elapsed:   30.1s\n",
            "[Parallel(n_jobs=-1)]: Done 141 tasks      | elapsed:   33.0s\n",
            "[Parallel(n_jobs=-1)]: Done 158 tasks      | elapsed:   36.1s\n",
            "[Parallel(n_jobs=-1)]: Done 177 tasks      | elapsed:   39.8s\n",
            "[Parallel(n_jobs=-1)]: Done 196 tasks      | elapsed:   43.8s\n",
            "[Parallel(n_jobs=-1)]: Done 217 tasks      | elapsed:   48.7s\n",
            "[Parallel(n_jobs=-1)]: Done 238 tasks      | elapsed:   54.6s\n",
            "[Parallel(n_jobs=-1)]: Done 261 tasks      | elapsed:  1.0min\n",
            "[Parallel(n_jobs=-1)]: Done 284 tasks      | elapsed:  1.2min\n",
            "[Parallel(n_jobs=-1)]: Done 309 tasks      | elapsed:  1.3min\n",
            "[Parallel(n_jobs=-1)]: Done 330 out of 330 | elapsed:  1.5min finished\n"
          ],
          "name": "stderr"
        },
        {
          "output_type": "stream",
          "text": [
            "{'kNN__metric': 'euclidean', 'kNN__n_neighbors': 11, 'kNN__weights': 'distance'}\n"
          ],
          "name": "stdout"
        }
      ]
    },
    {
      "cell_type": "code",
      "metadata": {
        "id": "bk9egL74-R4E"
      },
      "source": [
        "knn_micro_preds, times['f1 micro optimized kNN'] = train_best_time_and_predict(knn_micro, train, train_labels, test)\n",
        "\n",
        "knn_best_predictions = {\n",
        "    'f1 micro optimized kNN' : knn_micro_preds\n",
        "}"
      ],
      "execution_count": null,
      "outputs": []
    },
    {
      "cell_type": "code",
      "metadata": {
        "colab": {
          "base_uri": "https://localhost:8080/"
        },
        "id": "kK6wUYeN-SJR",
        "outputId": "2b098dce-8342-4b70-b324-41b76e26ac27"
      },
      "source": [
        "scaler = StandardScaler()\n",
        "pca = PCA()\n",
        "clf = KNeighborsClassifier(n_jobs=-1)\n",
        "rus = RandomUnderSampler()\n",
        "\n",
        "k = list(range(1,32,2))# η υπερπαράμετρος του ταξινομητή\n",
        "weights = ['uniform', 'distance']\n",
        "metric = ['euclidean', 'chebyshev', 'manhattan']\n",
        "\n",
        "parameters = {\n",
        "    'kNN__n_neighbors' : k,\n",
        "    'kNN__weights' : weights,\n",
        "    'kNN__metric' : metric\n",
        "}\n",
        "\n",
        "pipe_macro = Pipeline(steps=[('scaler', scaler), ('sampler', rus), ('pca', pca), ('kNN', clf)], memory = 'tmp')\n",
        "knn_macro = GridSearchCV(pipe_macro, parameters, cv=5, scoring='f1_macro', verbose=10, n_jobs=-1)\n",
        "knn_macro.fit(train, train_labels)\n",
        "print(knn_macro.best_params_)"
      ],
      "execution_count": null,
      "outputs": [
        {
          "output_type": "stream",
          "text": [
            "Fitting 5 folds for each of 96 candidates, totalling 480 fits\n"
          ],
          "name": "stdout"
        },
        {
          "output_type": "stream",
          "text": [
            "[Parallel(n_jobs=-1)]: Using backend LokyBackend with 2 concurrent workers.\n",
            "[Parallel(n_jobs=-1)]: Done   1 tasks      | elapsed:    0.5s\n",
            "[Parallel(n_jobs=-1)]: Done   4 tasks      | elapsed:    1.0s\n",
            "[Parallel(n_jobs=-1)]: Done   9 tasks      | elapsed:    2.1s\n",
            "[Parallel(n_jobs=-1)]: Done  14 tasks      | elapsed:    3.2s\n",
            "[Parallel(n_jobs=-1)]: Done  21 tasks      | elapsed:    5.1s\n",
            "[Parallel(n_jobs=-1)]: Done  28 tasks      | elapsed:    6.7s\n",
            "[Parallel(n_jobs=-1)]: Done  37 tasks      | elapsed:    9.0s\n",
            "[Parallel(n_jobs=-1)]: Done  46 tasks      | elapsed:   11.2s\n",
            "[Parallel(n_jobs=-1)]: Done  57 tasks      | elapsed:   14.0s\n",
            "[Parallel(n_jobs=-1)]: Done  68 tasks      | elapsed:   16.6s\n",
            "[Parallel(n_jobs=-1)]: Done  81 tasks      | elapsed:   20.1s\n",
            "[Parallel(n_jobs=-1)]: Done  94 tasks      | elapsed:   23.4s\n",
            "[Parallel(n_jobs=-1)]: Done 109 tasks      | elapsed:   27.4s\n",
            "[Parallel(n_jobs=-1)]: Done 124 tasks      | elapsed:   31.4s\n",
            "[Parallel(n_jobs=-1)]: Done 141 tasks      | elapsed:   36.1s\n",
            "[Parallel(n_jobs=-1)]: Done 158 tasks      | elapsed:   40.7s\n",
            "[Parallel(n_jobs=-1)]: Done 177 tasks      | elapsed:   44.6s\n",
            "[Parallel(n_jobs=-1)]: Done 196 tasks      | elapsed:   48.1s\n",
            "[Parallel(n_jobs=-1)]: Done 217 tasks      | elapsed:   52.4s\n",
            "[Parallel(n_jobs=-1)]: Done 238 tasks      | elapsed:   56.5s\n",
            "[Parallel(n_jobs=-1)]: Done 261 tasks      | elapsed:  1.0min\n",
            "[Parallel(n_jobs=-1)]: Done 284 tasks      | elapsed:  1.1min\n",
            "[Parallel(n_jobs=-1)]: Done 309 tasks      | elapsed:  1.2min\n",
            "[Parallel(n_jobs=-1)]: Done 334 tasks      | elapsed:  1.3min\n",
            "[Parallel(n_jobs=-1)]: Done 361 tasks      | elapsed:  1.5min\n",
            "[Parallel(n_jobs=-1)]: Done 388 tasks      | elapsed:  1.6min\n",
            "[Parallel(n_jobs=-1)]: Done 417 tasks      | elapsed:  1.8min\n",
            "[Parallel(n_jobs=-1)]: Done 446 tasks      | elapsed:  2.0min\n",
            "[Parallel(n_jobs=-1)]: Done 477 tasks      | elapsed:  2.2min\n",
            "[Parallel(n_jobs=-1)]: Done 480 out of 480 | elapsed:  2.2min finished\n"
          ],
          "name": "stderr"
        },
        {
          "output_type": "stream",
          "text": [
            "{'kNN__metric': 'manhattan', 'kNN__n_neighbors': 15, 'kNN__weights': 'distance'}\n"
          ],
          "name": "stdout"
        }
      ]
    },
    {
      "cell_type": "code",
      "metadata": {
        "colab": {
          "base_uri": "https://localhost:8080/",
          "height": 1000
        },
        "id": "fdU8q6sb-STU",
        "outputId": "ceef6a7c-42b1-4ef3-ce08-29257c7aa555"
      },
      "source": [
        "knn_macro_preds, times['f1 macro optimized kNN'] = train_best_time_and_predict(knn_macro, train, train_labels, test)\n",
        "\n",
        "knn_best_predictions['f1 macro optimized kNN'] = knn_macro_preds\n",
        "\n",
        "plot_confusion_matrix_and_scores(knn_best_predictions, test_labels, disp_labels)"
      ],
      "execution_count": null,
      "outputs": [
        {
          "output_type": "stream",
          "text": [
            "\n",
            "f1-micro average for f1 micro optimized kNN : 0.8468279004556607\n",
            "f1-macro average for f1 micro optimized kNN : 0.8166786747753259\n",
            "Classification report:\n",
            "              precision    recall  f1-score   support\n",
            "\n",
            "           g       0.84      0.95      0.89      3768\n",
            "           h       0.87      0.65      0.74      1938\n",
            "\n",
            "    accuracy                           0.85      5706\n",
            "   macro avg       0.85      0.80      0.82      5706\n",
            "weighted avg       0.85      0.85      0.84      5706\n",
            "\n"
          ],
          "name": "stdout"
        },
        {
          "output_type": "display_data",
          "data": {
            "image/png": "[encoded data removed]",
            "text/plain": [
              "<Figure size 432x288 with 2 Axes>"
            ]
          },
          "metadata": {
            "tags": [],
            "needs_background": "light"
          }
        },
        {
          "output_type": "stream",
          "text": [
            "------------------------------------------------------------\n",
            "\n",
            "f1-micro average for f1 macro optimized kNN : 0.8413950227830355\n",
            "f1-macro average for f1 macro optimized kNN : 0.8197575301029774\n",
            "Classification report:\n",
            "              precision    recall  f1-score   support\n",
            "\n",
            "           g       0.87      0.90      0.88      3768\n",
            "           h       0.79      0.73      0.76      1938\n",
            "\n",
            "    accuracy                           0.84      5706\n",
            "   macro avg       0.83      0.81      0.82      5706\n",
            "weighted avg       0.84      0.84      0.84      5706\n",
            "\n"
          ],
          "name": "stdout"
        },
        {
          "output_type": "display_data",
          "data": {
            "image/png": "[encoded data removed]",
            "text/plain": [
              "<Figure size 432x288 with 2 Axes>"
            ]
          },
          "metadata": {
            "tags": [],
            "needs_background": "light"
          }
        },
        {
          "output_type": "stream",
          "text": [
            "------------------------------------------------------------\n"
          ],
          "name": "stdout"
        }
      ]
    },
    {
      "cell_type": "markdown",
      "metadata": {
        "id": "DPN-RHfw7ArO"
      },
      "source": [
        "Και εδώ, είχαμε λίγες υπερπαραμέτρους προς βελτιστοποίηση οπότε δε χρειάστηκε να τρέξουμε πολλά διαδοχικά GridSearch. Και για τις 2 μετρικές, το πρώτο GridSearch έγινε με παραμέτρους:\n",
        "\n",
        "```\n",
        "k = [10, 20, 30, 40, 50, 60, 70, 80, 90, 100]\n",
        "metric = [euclidean, chebyshev, manhattan, minkowski (μόνο για power=3)]\n",
        "weights = [uniform, distance]\n",
        "```\n",
        "\n",
        "Με τα αποτελέσματα που βγήκαν μπορέσαμε να αποκλείσουμε εύκολα την απόσταση minkowski με δύναμη 3 από ένα βέλτιστο setup. Περιορίσαμε τους γείτονες στις τιμές που φαίνονται παραπάνω μιας και είδαμε ότι βγήκαν βέλτιστες οι παραμετροποιήσεις για k=[10,20] (και η 30 ήταν κόντα μόνο για την f1 macro), ώστε να πάρουμε μια τελική βέλτιστη παραμετροποίηση για κάθε μετρική με νέα Grid Searches.\n"
      ]
    },
    {
      "cell_type": "markdown",
      "metadata": {
        "id": "OBjrjH_L4wGz"
      },
      "source": [
        "### MLP Optimization"
      ]
    },
    {
      "cell_type": "code",
      "metadata": {
        "id": "J0vVdgERVbv7",
        "colab": {
          "base_uri": "https://localhost:8080/"
        },
        "outputId": "f2516f78-9d1b-4a19-d779-2480ef6b420c"
      },
      "source": [
        "scaler = StandardScaler()\n",
        "clf = MLPClassifier(activation='relu', solver='adam')\n",
        "pca = PCA()\n",
        "layer_sizes = [200, 300, 400]\n",
        "max_iter = [150, 200, 250, 300]\n",
        "alpha = [1e-4, 1e-6, 1e-8]\n",
        "\n",
        "parameters = {\n",
        "    'mlp__hidden_layer_sizes': layer_sizes,\n",
        "    'mlp__max_iter': max_iter,\n",
        "    'mlp__alpha' : alpha\n",
        "}\n",
        "\n",
        "pipe_micro = Pipeline(steps=[('scaler', scaler),('pca', pca), ('mlp', clf)], memory = 'tmp')\n",
        "mlp_micro = GridSearchCV(pipe_micro, parameters, cv=5, scoring='f1_micro', verbose=10, n_jobs=-1)\n",
        "mlp_micro.fit(train, train_labels)\n",
        "print(mlp_micro.best_params_)"
      ],
      "execution_count": null,
      "outputs": [
        {
          "output_type": "stream",
          "text": [
            "Fitting 5 folds for each of 36 candidates, totalling 180 fits\n"
          ],
          "name": "stdout"
        },
        {
          "output_type": "stream",
          "text": [
            "[Parallel(n_jobs=-1)]: Using backend LokyBackend with 2 concurrent workers.\n",
            "[Parallel(n_jobs=-1)]: Done   1 tasks      | elapsed:   19.2s\n",
            "[Parallel(n_jobs=-1)]: Done   4 tasks      | elapsed:   37.7s\n",
            "[Parallel(n_jobs=-1)]: Done   9 tasks      | elapsed:  1.8min\n",
            "[Parallel(n_jobs=-1)]: Done  14 tasks      | elapsed:  2.9min\n",
            "[Parallel(n_jobs=-1)]: Done  21 tasks      | elapsed:  4.9min\n",
            "[Parallel(n_jobs=-1)]: Done  28 tasks      | elapsed:  6.7min\n",
            "[Parallel(n_jobs=-1)]: Done  37 tasks      | elapsed:  9.9min\n",
            "[Parallel(n_jobs=-1)]: Done  46 tasks      | elapsed: 13.1min\n",
            "[Parallel(n_jobs=-1)]: Done  57 tasks      | elapsed: 17.6min\n",
            "[Parallel(n_jobs=-1)]: Done  68 tasks      | elapsed: 20.7min\n",
            "[Parallel(n_jobs=-1)]: Done  81 tasks      | elapsed: 24.1min\n",
            "[Parallel(n_jobs=-1)]: Done  94 tasks      | elapsed: 28.2min\n",
            "[Parallel(n_jobs=-1)]: Done 109 tasks      | elapsed: 33.4min\n",
            "[Parallel(n_jobs=-1)]: Done 124 tasks      | elapsed: 39.4min\n",
            "[Parallel(n_jobs=-1)]: Done 141 tasks      | elapsed: 43.6min\n",
            "[Parallel(n_jobs=-1)]: Done 158 tasks      | elapsed: 49.5min\n",
            "[Parallel(n_jobs=-1)]: Done 177 tasks      | elapsed: 56.9min\n",
            "[Parallel(n_jobs=-1)]: Done 180 out of 180 | elapsed: 58.5min finished\n"
          ],
          "name": "stderr"
        },
        {
          "output_type": "stream",
          "text": [
            "{'mlp__alpha': 1e-06, 'mlp__hidden_layer_sizes': 400, 'mlp__max_iter': 200}\n"
          ],
          "name": "stdout"
        },
        {
          "output_type": "stream",
          "text": [
            "/usr/local/lib/python3.6/dist-packages/sklearn/neural_network/_multilayer_perceptron.py:571: ConvergenceWarning: Stochastic Optimizer: Maximum iterations (200) reached and the optimization hasn't converged yet.\n",
            "  % self.max_iter, ConvergenceWarning)\n"
          ],
          "name": "stderr"
        }
      ]
    },
    {
      "cell_type": "code",
      "metadata": {
        "colab": {
          "base_uri": "https://localhost:8080/"
        },
        "id": "t3yMMQjuOM-E",
        "outputId": "bdfa33a3-0cf1-45f2-c7df-606e9a80d119"
      },
      "source": [
        "mlp_micro_preds, times['f1 micro optimized MLP'] = train_best_time_and_predict(mlp_micro, train, train_labels, test)\n",
        "\n",
        "mlp_best_predictions = {\n",
        "    'f1 micro optimized MLP' : mlp_micro_preds\n",
        "}"
      ],
      "execution_count": null,
      "outputs": [
        {
          "output_type": "stream",
          "text": [
            "/usr/local/lib/python3.6/dist-packages/sklearn/neural_network/_multilayer_perceptron.py:571: ConvergenceWarning: Stochastic Optimizer: Maximum iterations (200) reached and the optimization hasn't converged yet.\n",
            "  % self.max_iter, ConvergenceWarning)\n"
          ],
          "name": "stderr"
        }
      ]
    },
    {
      "cell_type": "code",
      "metadata": {
        "id": "I5dGYRVqcBsz",
        "colab": {
          "base_uri": "https://localhost:8080/"
        },
        "outputId": "06caa303-6f34-4ddc-8643-793403870426"
      },
      "source": [
        "scaler = StandardScaler()\n",
        "clf = MLPClassifier(activation='relu', solver='adam')\n",
        "pca = PCA()\n",
        "rus = RandomUnderSampler()\n",
        "\n",
        "layer_sizes = [200, 250, 300]\n",
        "max_iter = [200, 250, 300]\n",
        "alpha = [1e-4, 1e-6, 1e-8]\n",
        "\n",
        "parameters = {\n",
        "    'mlp__hidden_layer_sizes': layer_sizes,\n",
        "    'mlp__max_iter': max_iter,\n",
        "    'mlp__alpha' : alpha\n",
        "}\n",
        "\n",
        "pipe_macro = Pipeline(steps=[('scaler', scaler), ('sampler', rus), ('pca', pca), ('mlp', clf)], memory = 'tmp')\n",
        "mlp_macro = GridSearchCV(pipe_macro, parameters, cv=5, scoring='f1_macro', verbose=10, n_jobs=-1)\n",
        "mlp_macro.fit(train, train_labels)\n",
        "print(mlp_macro.best_params_)"
      ],
      "execution_count": null,
      "outputs": [
        {
          "output_type": "stream",
          "text": [
            "Fitting 5 folds for each of 27 candidates, totalling 135 fits\n"
          ],
          "name": "stdout"
        },
        {
          "output_type": "stream",
          "text": [
            "[Parallel(n_jobs=-1)]: Using backend LokyBackend with 2 concurrent workers.\n",
            "[Parallel(n_jobs=-1)]: Done   1 tasks      | elapsed:   18.7s\n",
            "[Parallel(n_jobs=-1)]: Done   4 tasks      | elapsed:   36.8s\n",
            "[Parallel(n_jobs=-1)]: Done   9 tasks      | elapsed:  1.6min\n",
            "[Parallel(n_jobs=-1)]: Done  14 tasks      | elapsed:  2.6min\n",
            "[Parallel(n_jobs=-1)]: Done  21 tasks      | elapsed:  4.1min\n",
            "[Parallel(n_jobs=-1)]: Done  28 tasks      | elapsed:  5.6min\n",
            "[Parallel(n_jobs=-1)]: Done  37 tasks      | elapsed:  7.7min\n",
            "[Parallel(n_jobs=-1)]: Done  46 tasks      | elapsed: 10.1min\n",
            "[Parallel(n_jobs=-1)]: Done  57 tasks      | elapsed: 12.1min\n",
            "[Parallel(n_jobs=-1)]: Done  68 tasks      | elapsed: 14.4min\n",
            "[Parallel(n_jobs=-1)]: Done  81 tasks      | elapsed: 17.6min\n",
            "[Parallel(n_jobs=-1)]: Done  94 tasks      | elapsed: 20.7min\n",
            "[Parallel(n_jobs=-1)]: Done 109 tasks      | elapsed: 23.5min\n",
            "[Parallel(n_jobs=-1)]: Done 124 tasks      | elapsed: 27.0min\n",
            "[Parallel(n_jobs=-1)]: Done 135 out of 135 | elapsed: 29.9min finished\n"
          ],
          "name": "stderr"
        },
        {
          "output_type": "stream",
          "text": [
            "{'mlp__alpha': 1e-06, 'mlp__hidden_layer_sizes': 250, 'mlp__max_iter': 250}\n"
          ],
          "name": "stdout"
        },
        {
          "output_type": "stream",
          "text": [
            "/usr/local/lib/python3.6/dist-packages/sklearn/neural_network/_multilayer_perceptron.py:571: ConvergenceWarning: Stochastic Optimizer: Maximum iterations (250) reached and the optimization hasn't converged yet.\n",
            "  % self.max_iter, ConvergenceWarning)\n"
          ],
          "name": "stderr"
        }
      ]
    },
    {
      "cell_type": "code",
      "metadata": {
        "colab": {
          "base_uri": "https://localhost:8080/",
          "height": 1000
        },
        "id": "XhSA4iu6ON9s",
        "outputId": "8b50793e-40f9-47c2-a313-c7bbae683285"
      },
      "source": [
        "mlp_macro_preds, times['f1 macro optimized MLP'] = train_best_time_and_predict(mlp_macro, train, train_labels, test)\n",
        "\n",
        "mlp_best_predictions['f1 macro optimized MLP'] = mlp_macro_preds\n",
        "\n",
        "plot_confusion_matrix_and_scores(mlp_best_predictions, test_labels, disp_labels)"
      ],
      "execution_count": null,
      "outputs": [
        {
          "output_type": "stream",
          "text": [
            "/usr/local/lib/python3.6/dist-packages/sklearn/neural_network/_multilayer_perceptron.py:571: ConvergenceWarning: Stochastic Optimizer: Maximum iterations (250) reached and the optimization hasn't converged yet.\n",
            "  % self.max_iter, ConvergenceWarning)\n"
          ],
          "name": "stderr"
        },
        {
          "output_type": "stream",
          "text": [
            "\n",
            "f1-micro average for f1 micro optimized MLP : 0.8783736417805819\n",
            "f1-macro average for f1 micro optimized MLP : 0.8594441604906722\n",
            "Classification report:\n",
            "              precision    recall  f1-score   support\n",
            "\n",
            "           g       0.88      0.94      0.91      3768\n",
            "           h       0.87      0.75      0.81      1938\n",
            "\n",
            "    accuracy                           0.88      5706\n",
            "   macro avg       0.88      0.85      0.86      5706\n",
            "weighted avg       0.88      0.88      0.88      5706\n",
            "\n"
          ],
          "name": "stdout"
        },
        {
          "output_type": "display_data",
          "data": {
            "image/png": "[encoded data removed]",
            "text/plain": [
              "<Figure size 432x288 with 2 Axes>"
            ]
          },
          "metadata": {
            "tags": [],
            "needs_background": "light"
          }
        },
        {
          "output_type": "stream",
          "text": [
            "------------------------------------------------------------\n",
            "\n",
            "f1-micro average for f1 macro optimized MLP : 0.8633017875920084\n",
            "f1-macro average for f1 macro optimized MLP : 0.849036969098349\n",
            "Classification report:\n",
            "              precision    recall  f1-score   support\n",
            "\n",
            "           g       0.90      0.89      0.90      3768\n",
            "           h       0.79      0.82      0.80      1938\n",
            "\n",
            "    accuracy                           0.86      5706\n",
            "   macro avg       0.85      0.85      0.85      5706\n",
            "weighted avg       0.86      0.86      0.86      5706\n",
            "\n"
          ],
          "name": "stdout"
        },
        {
          "output_type": "display_data",
          "data": {
            "image/png": "[encoded data removed]",
            "text/plain": [
              "<Figure size 432x288 with 2 Axes>"
            ]
          },
          "metadata": {
            "tags": [],
            "needs_background": "light"
          }
        },
        {
          "output_type": "stream",
          "text": [
            "------------------------------------------------------------\n"
          ],
          "name": "stdout"
        }
      ]
    },
    {
      "cell_type": "markdown",
      "metadata": {
        "id": "2SnNcbxE8siV"
      },
      "source": [
        "Για τη βελτιστοποιήση του MLP χρειάστηκε να κάνουμε παραπάνω δοκιμές. Αρχικά θα αναλύσουμε την προσέγγισή μας στη βελτιστοποιήση του MLP ως προς f1 micro. Καταρχάς, σημειώνουμε ότι όλα τα GridSearches εκτός από αυτά που φαίνονται παραπάνω έγιναν έχοντας πάρει 1000 δείγματα από το αρχικό dataset, εφόσον σε αντίθετη περίπτωση θα ήταν εξαιρετικά χρονοβόρα.\n",
        "\n",
        "Το αρχικό GridSearch είχε παραμέτρους:\n",
        "\n",
        "```\n",
        "layer_sizes = [100, 500, 700]\n",
        "max_iter = [100, 200, 500, 1000]\n",
        "solver = [adam, sgd]\n",
        "learning_rate = [invscaling, constant, adaptive]\n",
        "activation = [relu,logistic,identity,tanh]\n",
        "alpha = [1e-2, 1e-4, 1e-6]\n",
        "```\n",
        "\n",
        "Από αυτό το GridSearch και τα αναλυτικά του αποτελέσματα, μπορέσαμε να περιορίσουμε το solver στον adam, να πετάξουμε τελείως το learning_rate (αφού ο adam δε χρησιμοποιεί) και επίσης να αποκλείσουμε τις συναρτήσεις identity και tanh. Βέλτιστες τιμές για τα layer_sizes και το max_iter βγήκαν στους top συνδυασμούς οι τιμές 500, 200 αντίστοιχα. Τέλος, για το alpha είδαμε ότι προτιμούνται οι μικρότερες τιμές. Επομένως τρέξαμε 2ο GridSearch με παραμέτρους:\n",
        "\n",
        "```\n",
        "layer_sizes = [300, 500, 700]\n",
        "max_iter = [100, 200, 300]\n",
        "activation = [relu,tanh]\n",
        "alpha = [1e-4, 1e-6, 1e-8]\n",
        "```\n",
        "\n",
        "Σε αυτό το GridSearch είδαμε ότι η συνάρτηση ενεργοποίησης relu έκανε outperform αρκετά τη συνάρτηση tanh για όλες τις αντίστοιχες τους παραμετροποιήσεις. Επίσης, είδαμε ότι οι τιμές max_iter = [200,300] είχαν καλύτερη επίδοση από το 100 και ότι η βέλτιστη τιμή των layer_sizes έγινε πλέον 300 αλλά με μικρή διαφορά από το 500. Έτσι, τρέξαμε την GridSearch που βλέπουμε παραπάνω και πήραμε ικανοποιητικά αποτελέσματα.\n",
        "\n",
        "Τώρα θα αναλύσουμε την προσέγγιση για τη βελτιστοποίηση του f1 macro MLP. Το πρώτο μας GridSearch είχε παραμέτρους ίδιες με τις παραμέτρους του 1ου f1 micro GridSearch, και παρόμοια αποτελέσματα, πλην όμως η παράμετρος layer_sizes έτεινε προς μικρότερες τιμές με καλύτερα αποτελέσματα για την τιμή 100. Επομένως χρησιμοποιήσαμε τις παρακάτω υπερπαραμέτρους για το 2ο GridSearch:\n",
        "\n",
        "```\n",
        "layer_sizes = [100, 200, 400]\n",
        "max_iter = [100, 200, 300]\n",
        "activation = [relu,tanh]\n",
        "alpha = [1e-4, 1e-6, 1e-8]\n",
        "```\n",
        "\n",
        "Όπως και για την άλλη μετρική, είδαμε ότι όταν είμαστε κοντά στις βέλτιστες υπερπαραμέτρους η συνάρτηση relu κάνει outperform τη συνάρτηση tanh. Επίσης, είδαμε ότι για την τιμή layer_sizes προτιμήθηκε το 200 και για την τιμή max_iter επίσης το 200. Θα μπορούσαμε να είχαμε σταματήσει εδώ, αλλά το GridSearch είχε τρέξει για το sampled training set, επομένως τρέξαμε άλλο ένα GridSearch (αυτό που φαίνεται παραπάνω) με πιο στενές τιμές για τις υπερπαραμέτρους."
      ]
    },
    {
      "cell_type": "markdown",
      "metadata": {
        "id": "bs6a1MIu4yfm"
      },
      "source": [
        "### SVM's Optimization"
      ]
    },
    {
      "cell_type": "code",
      "metadata": {
        "id": "sic6cuaSK3Sv",
        "colab": {
          "base_uri": "https://localhost:8080/"
        },
        "outputId": "afabb62b-6799-4a4d-bd93-8e29c19064ba"
      },
      "source": [
        "###LINEAR MICRO###\n",
        "\n",
        "scaler = StandardScaler()\n",
        "clf = LinearSVC(dual=False)\n",
        "pca = PCA() \n",
        "\n",
        "\n",
        "C = [0.01, 0.1, 1, 10, 100]\n",
        "loss = ['squared_hinge']\n",
        "tol = [1e-4, 1e-5, 1e-6]\n",
        "penalty = ['l1', 'l2']\n",
        "class_weight = [None, 'balanced']\n",
        "parameters = {\n",
        "    'svc__C': C,\n",
        "    'svc__loss' : loss,\n",
        "    'svc__tol' : tol,\n",
        "    'svc__penalty': penalty,\n",
        "    'svc__class_weight' : class_weight\n",
        "}\n",
        "pipe_linear_micro = Pipeline(steps=[('scaler', scaler), ('pca', pca), ('svc', clf)], memory = 'tmp')\n",
        "svc_linear_micro = GridSearchCV(pipe_linear_micro, parameters, cv=5, scoring='f1_micro', verbose=10, n_jobs=-1)\n",
        "svc_linear_micro.fit(train, train_labels)\n",
        "print(svc_linear_micro.best_params_)"
      ],
      "execution_count": null,
      "outputs": [
        {
          "output_type": "stream",
          "text": [
            "Fitting 5 folds for each of 60 candidates, totalling 300 fits\n"
          ],
          "name": "stdout"
        },
        {
          "output_type": "stream",
          "text": [
            "[Parallel(n_jobs=-1)]: Using backend LokyBackend with 2 concurrent workers.\n",
            "[Parallel(n_jobs=-1)]: Done   1 tasks      | elapsed:    1.1s\n",
            "[Parallel(n_jobs=-1)]: Done   4 tasks      | elapsed:    1.4s\n",
            "[Parallel(n_jobs=-1)]: Done   9 tasks      | elapsed:    2.0s\n",
            "[Parallel(n_jobs=-1)]: Done  14 tasks      | elapsed:    2.5s\n",
            "[Parallel(n_jobs=-1)]: Done  21 tasks      | elapsed:    3.3s\n",
            "[Parallel(n_jobs=-1)]: Done  28 tasks      | elapsed:    4.0s\n",
            "[Parallel(n_jobs=-1)]: Done  37 tasks      | elapsed:    5.2s\n",
            "[Parallel(n_jobs=-1)]: Done  46 tasks      | elapsed:    6.0s\n",
            "[Parallel(n_jobs=-1)]: Done  57 tasks      | elapsed:    7.4s\n",
            "[Parallel(n_jobs=-1)]: Done  68 tasks      | elapsed:    8.5s\n",
            "[Parallel(n_jobs=-1)]: Done  81 tasks      | elapsed:   10.1s\n",
            "[Parallel(n_jobs=-1)]: Done  94 tasks      | elapsed:   11.4s\n",
            "[Parallel(n_jobs=-1)]: Done 109 tasks      | elapsed:   13.2s\n",
            "[Parallel(n_jobs=-1)]: Done 124 tasks      | elapsed:   14.8s\n",
            "[Parallel(n_jobs=-1)]: Done 141 tasks      | elapsed:   16.7s\n",
            "[Parallel(n_jobs=-1)]: Done 158 tasks      | elapsed:   18.7s\n",
            "[Parallel(n_jobs=-1)]: Done 177 tasks      | elapsed:   20.8s\n",
            "[Parallel(n_jobs=-1)]: Done 196 tasks      | elapsed:   22.9s\n",
            "[Parallel(n_jobs=-1)]: Done 217 tasks      | elapsed:   25.2s\n",
            "[Parallel(n_jobs=-1)]: Done 238 tasks      | elapsed:   27.6s\n",
            "[Parallel(n_jobs=-1)]: Done 261 tasks      | elapsed:   30.2s\n",
            "[Parallel(n_jobs=-1)]: Done 284 tasks      | elapsed:   32.6s\n"
          ],
          "name": "stderr"
        },
        {
          "output_type": "stream",
          "text": [
            "{'svc__C': 1, 'svc__class_weight': None, 'svc__loss': 'squared_hinge', 'svc__penalty': 'l1', 'svc__tol': 0.0001}\n"
          ],
          "name": "stdout"
        },
        {
          "output_type": "stream",
          "text": [
            "[Parallel(n_jobs=-1)]: Done 300 out of 300 | elapsed:   34.5s finished\n"
          ],
          "name": "stderr"
        }
      ]
    },
    {
      "cell_type": "code",
      "metadata": {
        "id": "GH-zpbRKiFAx"
      },
      "source": [
        "svc_linear_micro_preds, times['f1 micro optimized linear SVC'] = train_best_time_and_predict(svc_linear_micro, train, train_labels, test)\n",
        "\n",
        "svc_best_predictions = {\n",
        "    'f1 micro optimized linear SVC' : svc_linear_micro_preds\n",
        "}"
      ],
      "execution_count": null,
      "outputs": []
    },
    {
      "cell_type": "code",
      "metadata": {
        "colab": {
          "base_uri": "https://localhost:8080/"
        },
        "id": "GNio414ia4o0",
        "outputId": "4297e418-3106-49f5-dddc-b9b7a2f0e739"
      },
      "source": [
        "###LINEAR MACRO###\n",
        "scaler = StandardScaler()\n",
        "clf = LinearSVC(dual=False)\n",
        "pca = PCA()\n",
        "\n",
        "penalty = ['l1', 'l2']\n",
        "C = [1e-4, 1e-3, 1e-2, 1e-1, 1]\n",
        "loss = ['squared_hinge']\n",
        "tol = [1e-4, 1e-5, 1e-6]\n",
        "class_weight = [None, 'balanced']\n",
        "\n",
        "parameters = {\n",
        "    'svc__C': C,\n",
        "    'svc__loss' : loss,\n",
        "    'svc__tol' : tol,\n",
        "    'svc__penalty': penalty,\n",
        "    'svc__class_weight': class_weight\n",
        "}\n",
        "pipe_linear_macro = Pipeline(steps=[('scaler', scaler), ('pca', pca), ('svc', clf)], memory = 'tmp')\n",
        "svc_linear_macro = GridSearchCV(pipe_linear_macro, parameters, cv=5, scoring='f1_macro', verbose=10, n_jobs=-1)\n",
        "svc_linear_macro.fit(train, train_labels)\n",
        "print(svc_linear_macro.best_params_)"
      ],
      "execution_count": null,
      "outputs": [
        {
          "output_type": "stream",
          "text": [
            "Fitting 5 folds for each of 60 candidates, totalling 300 fits\n"
          ],
          "name": "stdout"
        },
        {
          "output_type": "stream",
          "text": [
            "[Parallel(n_jobs=-1)]: Using backend LokyBackend with 2 concurrent workers.\n",
            "[Parallel(n_jobs=-1)]: Done   1 tasks      | elapsed:    0.2s\n",
            "[Parallel(n_jobs=-1)]: Done   4 tasks      | elapsed:    0.5s\n",
            "[Parallel(n_jobs=-1)]: Done   9 tasks      | elapsed:    1.1s\n",
            "[Parallel(n_jobs=-1)]: Done  14 tasks      | elapsed:    1.5s\n",
            "[Parallel(n_jobs=-1)]: Done  21 tasks      | elapsed:    2.4s\n",
            "[Parallel(n_jobs=-1)]: Done  28 tasks      | elapsed:    3.0s\n",
            "[Parallel(n_jobs=-1)]: Done  37 tasks      | elapsed:    4.1s\n",
            "[Parallel(n_jobs=-1)]: Done  46 tasks      | elapsed:    5.0s\n",
            "[Parallel(n_jobs=-1)]: Done  57 tasks      | elapsed:    6.3s\n",
            "[Parallel(n_jobs=-1)]: Done  68 tasks      | elapsed:    7.4s\n",
            "[Parallel(n_jobs=-1)]: Done  81 tasks      | elapsed:    8.9s\n",
            "[Parallel(n_jobs=-1)]: Done  94 tasks      | elapsed:   10.3s\n",
            "[Parallel(n_jobs=-1)]: Done 109 tasks      | elapsed:   12.0s\n",
            "[Parallel(n_jobs=-1)]: Done 124 tasks      | elapsed:   13.6s\n",
            "[Parallel(n_jobs=-1)]: Done 141 tasks      | elapsed:   15.5s\n",
            "[Parallel(n_jobs=-1)]: Done 158 tasks      | elapsed:   17.3s\n",
            "[Parallel(n_jobs=-1)]: Done 177 tasks      | elapsed:   19.6s\n",
            "[Parallel(n_jobs=-1)]: Done 196 tasks      | elapsed:   21.6s\n",
            "[Parallel(n_jobs=-1)]: Done 217 tasks      | elapsed:   24.0s\n",
            "[Parallel(n_jobs=-1)]: Done 238 tasks      | elapsed:   26.4s\n",
            "[Parallel(n_jobs=-1)]: Done 261 tasks      | elapsed:   29.0s\n",
            "[Parallel(n_jobs=-1)]: Done 284 tasks      | elapsed:   31.5s\n"
          ],
          "name": "stderr"
        },
        {
          "output_type": "stream",
          "text": [
            "{'svc__C': 0.001, 'svc__class_weight': 'balanced', 'svc__loss': 'squared_hinge', 'svc__penalty': 'l2', 'svc__tol': 0.0001}\n"
          ],
          "name": "stdout"
        },
        {
          "output_type": "stream",
          "text": [
            "[Parallel(n_jobs=-1)]: Done 300 out of 300 | elapsed:   33.3s finished\n"
          ],
          "name": "stderr"
        }
      ]
    },
    {
      "cell_type": "code",
      "metadata": {
        "id": "V3BObW1bh5NB"
      },
      "source": [
        "svc_linear_macro_preds, times['f1 macro optimized linear SVC'] = train_best_time_and_predict(svc_linear_macro, train, train_labels, test)\n",
        "\n",
        "svc_best_predictions['f1 macro optimized linear SVC'] = svc_linear_macro_preds"
      ],
      "execution_count": null,
      "outputs": []
    },
    {
      "cell_type": "code",
      "metadata": {
        "colab": {
          "base_uri": "https://localhost:8080/"
        },
        "id": "Je2mms3Na5s6",
        "outputId": "877f8feb-1c36-4af2-a687-0ed6e51cb5a3"
      },
      "source": [
        "###POLY MICRO###\n",
        "scaler = StandardScaler()\n",
        "pca = PCA()\n",
        "clf = SVC(kernel='poly')\n",
        "\n",
        "C = [200, 300, 400]\n",
        "degree = [3]\n",
        "gamma = ['scale','auto']\n",
        "tol = [1e-1, 1e-3]\n",
        "\n",
        "parameters = {\n",
        "    'svc__C' : C,\n",
        "    'svc__degree' : degree,\n",
        "    'svc__gamma' : gamma,\n",
        "    'svc__tol' : tol\n",
        "}\n",
        "\n",
        "pipe_poly_micro = Pipeline(steps=[('scaler', scaler), ('pca', pca), ('svc', clf)], memory = 'tmp')\n",
        "svc_poly_micro = GridSearchCV(pipe_poly_micro, parameters, cv=5, scoring='f1_micro', verbose=10, n_jobs=-1)\n",
        "svc_poly_micro.fit(train, train_labels)\n",
        "print(svc_poly_micro.best_params_)"
      ],
      "execution_count": null,
      "outputs": [
        {
          "output_type": "stream",
          "text": [
            "Fitting 5 folds for each of 12 candidates, totalling 60 fits\n"
          ],
          "name": "stdout"
        },
        {
          "output_type": "stream",
          "text": [
            "[Parallel(n_jobs=-1)]: Using backend LokyBackend with 2 concurrent workers.\n",
            "[Parallel(n_jobs=-1)]: Done   1 tasks      | elapsed:   45.8s\n",
            "[Parallel(n_jobs=-1)]: Done   4 tasks      | elapsed:  1.6min\n",
            "[Parallel(n_jobs=-1)]: Done   9 tasks      | elapsed:  4.3min\n",
            "[Parallel(n_jobs=-1)]: Done  14 tasks      | elapsed:  6.4min\n",
            "[Parallel(n_jobs=-1)]: Done  21 tasks      | elapsed:  9.9min\n",
            "[Parallel(n_jobs=-1)]: Done  28 tasks      | elapsed: 15.0min\n",
            "[Parallel(n_jobs=-1)]: Done  37 tasks      | elapsed: 20.5min\n",
            "[Parallel(n_jobs=-1)]: Done  46 tasks      | elapsed: 27.9min\n",
            "[Parallel(n_jobs=-1)]: Done  57 tasks      | elapsed: 37.2min\n",
            "[Parallel(n_jobs=-1)]: Done  60 out of  60 | elapsed: 39.8min finished\n"
          ],
          "name": "stderr"
        },
        {
          "output_type": "stream",
          "text": [
            "{'svc__C': 400, 'svc__degree': 3, 'svc__gamma': 'scale', 'svc__tol': 0.1}\n"
          ],
          "name": "stdout"
        }
      ]
    },
    {
      "cell_type": "code",
      "metadata": {
        "id": "KXueud1eG29n"
      },
      "source": [
        "svc_poly_micro_preds, times['f1 micro optimized poly SVC'] = train_best_time_and_predict(svc_poly_micro, train, train_labels, test)\n",
        "\n",
        "svc_best_predictions['f1 micro optimized poly SVC'] = svc_poly_micro_preds"
      ],
      "execution_count": null,
      "outputs": []
    },
    {
      "cell_type": "code",
      "metadata": {
        "colab": {
          "base_uri": "https://localhost:8080/"
        },
        "id": "Y8bEZbFMa60V",
        "outputId": "9f4c8bdf-3441-45ae-bf40-efd3f8dbd70d"
      },
      "source": [
        "###POLY MACRO###\n",
        "scaler = StandardScaler()\n",
        "pca = PCA()\n",
        "clf = SVC(kernel='poly', class_weight='balanced')\n",
        "\n",
        "C = [50, 100, 200]\n",
        "degree = [2,3]\n",
        "gamma = ['scale', 'auto']\n",
        "tol = [1e-2, 1e-3, 1e-4]\n",
        "\n",
        "parameters = {\n",
        "    'svc__C' : C,\n",
        "    'svc__degree' : degree,\n",
        "    'svc__gamma' : gamma,\n",
        "    'svc__tol' : tol\n",
        "}\n",
        "\n",
        "pipe_poly_macro = Pipeline(steps=[('scaler', scaler), ('pca', pca), ('svc', clf)], memory = 'tmp')\n",
        "svc_poly_macro = GridSearchCV(pipe_poly_macro, parameters, cv=5, scoring='f1_macro', verbose=10, n_jobs=-1)\n",
        "svc_poly_macro.fit(train, train_labels)\n",
        "print(svc_poly_macro.best_params_)"
      ],
      "execution_count": null,
      "outputs": [
        {
          "output_type": "stream",
          "text": [
            "Fitting 5 folds for each of 36 candidates, totalling 180 fits\n"
          ],
          "name": "stdout"
        },
        {
          "output_type": "stream",
          "text": [
            "[Parallel(n_jobs=-1)]: Using backend LokyBackend with 2 concurrent workers.\n",
            "[Parallel(n_jobs=-1)]: Done   1 tasks      | elapsed:   14.3s\n",
            "[Parallel(n_jobs=-1)]: Done   4 tasks      | elapsed:   27.3s\n",
            "[Parallel(n_jobs=-1)]: Done   9 tasks      | elapsed:  1.1min\n",
            "[Parallel(n_jobs=-1)]: Done  14 tasks      | elapsed:  1.6min\n",
            "[Parallel(n_jobs=-1)]: Done  21 tasks      | elapsed:  2.4min\n",
            "[Parallel(n_jobs=-1)]: Done  28 tasks      | elapsed:  3.1min\n",
            "[Parallel(n_jobs=-1)]: Done  37 tasks      | elapsed:  4.7min\n",
            "[Parallel(n_jobs=-1)]: Done  46 tasks      | elapsed:  6.2min\n",
            "[Parallel(n_jobs=-1)]: Done  57 tasks      | elapsed:  8.2min\n",
            "[Parallel(n_jobs=-1)]: Done  68 tasks      | elapsed: 10.0min\n",
            "[Parallel(n_jobs=-1)]: Done  81 tasks      | elapsed: 12.0min\n",
            "[Parallel(n_jobs=-1)]: Done  94 tasks      | elapsed: 14.5min\n",
            "[Parallel(n_jobs=-1)]: Done 109 tasks      | elapsed: 18.9min\n",
            "[Parallel(n_jobs=-1)]: Done 124 tasks      | elapsed: 23.1min\n",
            "[Parallel(n_jobs=-1)]: Done 141 tasks      | elapsed: 27.5min\n",
            "[Parallel(n_jobs=-1)]: Done 158 tasks      | elapsed: 33.3min\n",
            "[Parallel(n_jobs=-1)]: Done 177 tasks      | elapsed: 43.1min\n",
            "[Parallel(n_jobs=-1)]: Done 180 out of 180 | elapsed: 44.5min finished\n"
          ],
          "name": "stderr"
        },
        {
          "output_type": "stream",
          "text": [
            "{'svc__C': 200, 'svc__degree': 3, 'svc__gamma': 'auto', 'svc__tol': 0.01}\n"
          ],
          "name": "stdout"
        }
      ]
    },
    {
      "cell_type": "code",
      "metadata": {
        "id": "aBSYU8JB4GZX"
      },
      "source": [
        "svc_poly_macro_preds, times['f1 macro optimized poly SVC'] = train_best_time_and_predict(svc_poly_macro, train, train_labels, test)\n",
        "\n",
        "svc_best_predictions['f1 macro optimized poly SVC'] = svc_poly_macro_preds"
      ],
      "execution_count": null,
      "outputs": []
    },
    {
      "cell_type": "code",
      "metadata": {
        "colab": {
          "base_uri": "https://localhost:8080/"
        },
        "id": "VO4HoY3ga7vv",
        "outputId": "08a3213a-037c-4cfd-c1c1-73d0d6dde765"
      },
      "source": [
        "###RBF MICRO###\n",
        "from sklearn.model_selection import GridSearchCV\n",
        "from sklearn.svm import SVC\n",
        "from imblearn.pipeline import Pipeline\n",
        "from sklearn.feature_selection import VarianceThreshold\n",
        "from sklearn.preprocessing import StandardScaler\n",
        "from sklearn.decomposition import PCA\n",
        "from imblearn.over_sampling import RandomOverSampler\n",
        "from imblearn.under_sampling import RandomUnderSampler\n",
        "\n",
        "scaler = StandardScaler()\n",
        "pca = PCA()\n",
        "clf = SVC(kernel='rbf')\n",
        "\n",
        "C = [50,100,200]\n",
        "gamma = ['scale', 'auto']\n",
        "tol = [1e-2, 1e-3, 1e-4]\n",
        "\n",
        "parameters = {\n",
        "    'svc__C' : C,\n",
        "    'svc__gamma' : gamma,\n",
        "    'svc__tol' : tol\n",
        "}\n",
        "\n",
        "pipe_rbf_micro = Pipeline(steps=[('scaler', scaler), ('pca', pca), ('svc', clf)], memory = 'tmp')\n",
        "svc_rbf_micro = GridSearchCV(pipe_rbf_micro, parameters, cv=5, scoring='f1_micro', verbose=10, n_jobs=-1)\n",
        "svc_rbf_micro.fit(train, train_labels)\n",
        "print(svc_rbf_micro.best_params_)"
      ],
      "execution_count": null,
      "outputs": [
        {
          "output_type": "stream",
          "text": [
            "Fitting 5 folds for each of 18 candidates, totalling 90 fits\n"
          ],
          "name": "stdout"
        },
        {
          "output_type": "stream",
          "text": [
            "[Parallel(n_jobs=-1)]: Using backend LokyBackend with 2 concurrent workers.\n",
            "[Parallel(n_jobs=-1)]: Done   1 tasks      | elapsed:   10.4s\n",
            "[Parallel(n_jobs=-1)]: Done   4 tasks      | elapsed:   19.0s\n",
            "[Parallel(n_jobs=-1)]: Done   9 tasks      | elapsed:   45.6s\n",
            "[Parallel(n_jobs=-1)]: Done  14 tasks      | elapsed:  1.1min\n",
            "[Parallel(n_jobs=-1)]: Done  21 tasks      | elapsed:  1.7min\n",
            "[Parallel(n_jobs=-1)]: Done  28 tasks      | elapsed:  2.1min\n",
            "[Parallel(n_jobs=-1)]: Done  37 tasks      | elapsed:  3.0min\n",
            "[Parallel(n_jobs=-1)]: Done  46 tasks      | elapsed:  3.8min\n",
            "[Parallel(n_jobs=-1)]: Done  57 tasks      | elapsed:  5.0min\n",
            "[Parallel(n_jobs=-1)]: Done  68 tasks      | elapsed:  6.3min\n",
            "[Parallel(n_jobs=-1)]: Done  81 tasks      | elapsed:  8.3min\n",
            "[Parallel(n_jobs=-1)]: Done  90 out of  90 | elapsed:  9.5min finished\n"
          ],
          "name": "stderr"
        },
        {
          "output_type": "stream",
          "text": [
            "{'svc__C': 50, 'svc__gamma': 'scale', 'svc__tol': 0.001}\n"
          ],
          "name": "stdout"
        }
      ]
    },
    {
      "cell_type": "code",
      "metadata": {
        "id": "F2WPR-Hegscm"
      },
      "source": [
        "svc_rbf_micro_preds, times['f1 micro optimized rbf SVC'] = train_best_time_and_predict(svc_rbf_micro, train, train_labels, test)\n",
        "\n",
        "svc_best_predictions['f1 micro optimized rbf SVC'] = svc_rbf_micro_preds"
      ],
      "execution_count": null,
      "outputs": []
    },
    {
      "cell_type": "code",
      "metadata": {
        "colab": {
          "base_uri": "https://localhost:8080/"
        },
        "id": "cvq138d1a9Cn",
        "outputId": "903c161b-0856-44de-922f-77676eecb8b4"
      },
      "source": [
        "###RBF MACRO###\n",
        "from sklearn.model_selection import GridSearchCV\n",
        "from sklearn.svm import SVC\n",
        "from imblearn.pipeline import Pipeline\n",
        "from sklearn.feature_selection import VarianceThreshold\n",
        "from sklearn.preprocessing import StandardScaler\n",
        "from sklearn.decomposition import PCA\n",
        "from imblearn.over_sampling import RandomOverSampler\n",
        "from imblearn.under_sampling import RandomUnderSampler\n",
        "\n",
        "scaler = StandardScaler()\n",
        "pca = PCA()\n",
        "clf = SVC(kernel='rbf', class_weight='balanced')\n",
        "\n",
        "C = [1, 5, 10, 50]\n",
        "gamma = ['scale', 'auto']\n",
        "tol = [1e-2, 1e-3, 1e-4]\n",
        "\n",
        "parameters = {\n",
        "    'svc__C' : C,\n",
        "    'svc__gamma' : gamma,\n",
        "    'svc__tol' : tol\n",
        "}\n",
        "\n",
        "pipe_rbf_macro = Pipeline(steps=[('scaler', scaler), ('pca', pca), ('svc', clf)], memory = 'tmp')\n",
        "svc_rbf_macro = GridSearchCV(pipe_rbf_macro, parameters, cv=5, scoring='f1_macro', verbose=10, n_jobs=-1)\n",
        "svc_rbf_macro.fit(train, train_labels)\n",
        "print(svc_rbf_macro.best_params_)"
      ],
      "execution_count": null,
      "outputs": [
        {
          "output_type": "stream",
          "text": [
            "Fitting 5 folds for each of 24 candidates, totalling 120 fits\n"
          ],
          "name": "stdout"
        },
        {
          "output_type": "stream",
          "text": [
            "[Parallel(n_jobs=-1)]: Using backend LokyBackend with 2 concurrent workers.\n",
            "[Parallel(n_jobs=-1)]: Done   1 tasks      | elapsed:    6.3s\n",
            "[Parallel(n_jobs=-1)]: Done   4 tasks      | elapsed:   12.6s\n",
            "[Parallel(n_jobs=-1)]: Done   9 tasks      | elapsed:   31.4s\n",
            "[Parallel(n_jobs=-1)]: Done  14 tasks      | elapsed:   44.1s\n",
            "[Parallel(n_jobs=-1)]: Done  21 tasks      | elapsed:  1.1min\n",
            "[Parallel(n_jobs=-1)]: Done  28 tasks      | elapsed:  1.5min\n",
            "[Parallel(n_jobs=-1)]: Done  37 tasks      | elapsed:  2.0min\n",
            "[Parallel(n_jobs=-1)]: Done  46 tasks      | elapsed:  2.4min\n",
            "[Parallel(n_jobs=-1)]: Done  57 tasks      | elapsed:  3.1min\n",
            "[Parallel(n_jobs=-1)]: Done  68 tasks      | elapsed:  3.6min\n",
            "[Parallel(n_jobs=-1)]: Done  81 tasks      | elapsed:  4.5min\n",
            "[Parallel(n_jobs=-1)]: Done  94 tasks      | elapsed:  5.2min\n",
            "[Parallel(n_jobs=-1)]: Done 109 tasks      | elapsed:  6.6min\n",
            "[Parallel(n_jobs=-1)]: Done 120 out of 120 | elapsed:  7.4min finished\n"
          ],
          "name": "stderr"
        },
        {
          "output_type": "stream",
          "text": [
            "{'svc__C': 50, 'svc__gamma': 'scale', 'svc__tol': 0.0001}\n"
          ],
          "name": "stdout"
        }
      ]
    },
    {
      "cell_type": "code",
      "metadata": {
        "colab": {
          "base_uri": "https://localhost:8080/",
          "height": 1000
        },
        "id": "aDih7L4abKdT",
        "outputId": "346acae9-79e0-43a4-ef0a-8820c588ce95"
      },
      "source": [
        "svc_rbf_macro_preds, times['f1 macro optimized rbf SVC'] = train_best_time_and_predict(svc_rbf_macro, train, train_labels, test)\n",
        "\n",
        "svc_best_predictions['f1 macro optimized rbf SVC'] = svc_rbf_macro_preds\n",
        "\n",
        "plot_confusion_matrix_and_scores(svc_best_predictions, test_labels, disp_labels)"
      ],
      "execution_count": null,
      "outputs": [
        {
          "output_type": "stream",
          "text": [
            "\n",
            "f1-micro average for f1 micro optimized linear SVC : 0.7933753943217665\n",
            "f1-macro average for f1 micro optimized linear SVC : 0.7550510047793895\n",
            "Classification report:\n",
            "              precision    recall  f1-score   support\n",
            "\n",
            "           g       0.81      0.90      0.85      3768\n",
            "           h       0.75      0.59      0.66      1938\n",
            "\n",
            "    accuracy                           0.79      5706\n",
            "   macro avg       0.78      0.74      0.76      5706\n",
            "weighted avg       0.79      0.79      0.79      5706\n",
            "\n"
          ],
          "name": "stdout"
        },
        {
          "output_type": "display_data",
          "data": {
            "image/png": "[encoded data removed]",
            "text/plain": [
              "<Figure size 432x288 with 2 Axes>"
            ]
          },
          "metadata": {
            "tags": [],
            "needs_background": "light"
          }
        },
        {
          "output_type": "stream",
          "text": [
            "------------------------------------------------------------\n",
            "\n",
            "f1-micro average for f1 macro optimized linear SVC : 0.7933753943217665\n",
            "f1-macro average for f1 macro optimized linear SVC : 0.7705129842961762\n",
            "Classification report:\n",
            "              precision    recall  f1-score   support\n",
            "\n",
            "           g       0.85      0.84      0.84      3768\n",
            "           h       0.69      0.70      0.70      1938\n",
            "\n",
            "    accuracy                           0.79      5706\n",
            "   macro avg       0.77      0.77      0.77      5706\n",
            "weighted avg       0.79      0.79      0.79      5706\n",
            "\n"
          ],
          "name": "stdout"
        },
        {
          "output_type": "display_data",
          "data": {
            "image/png": "[encoded data removed]",
            "text/plain": [
              "<Figure size 432x288 with 2 Axes>"
            ]
          },
          "metadata": {
            "tags": [],
            "needs_background": "light"
          }
        },
        {
          "output_type": "stream",
          "text": [
            "------------------------------------------------------------\n",
            "\n",
            "f1-micro average for f1 micro optimized rbf SVC : 0.8722397476340694\n",
            "f1-macro average for f1 micro optimized rbf SVC : 0.8506142980862588\n",
            "Classification report:\n",
            "              precision    recall  f1-score   support\n",
            "\n",
            "           g       0.87      0.95      0.91      3768\n",
            "           h       0.88      0.72      0.79      1938\n",
            "\n",
            "    accuracy                           0.87      5706\n",
            "   macro avg       0.87      0.84      0.85      5706\n",
            "weighted avg       0.87      0.87      0.87      5706\n",
            "\n"
          ],
          "name": "stdout"
        },
        {
          "output_type": "display_data",
          "data": {
            "image/png": "[encoded data removed]",
            "text/plain": [
              "<Figure size 432x288 with 2 Axes>"
            ]
          },
          "metadata": {
            "tags": [],
            "needs_background": "light"
          }
        },
        {
          "output_type": "stream",
          "text": [
            "------------------------------------------------------------\n",
            "\n",
            "f1-micro average for f1 macro optimized poly SVC : 0.8361373992288818\n",
            "f1-macro average for f1 macro optimized poly SVC : 0.8165851527384441\n",
            "Classification report:\n",
            "              precision    recall  f1-score   support\n",
            "\n",
            "           g       0.87      0.88      0.88      3768\n",
            "           h       0.76      0.75      0.76      1938\n",
            "\n",
            "    accuracy                           0.84      5706\n",
            "   macro avg       0.82      0.82      0.82      5706\n",
            "weighted avg       0.84      0.84      0.84      5706\n",
            "\n"
          ],
          "name": "stdout"
        },
        {
          "output_type": "display_data",
          "data": {
            "image/png": "[encoded data removed]",
            "text/plain": [
              "<Figure size 432x288 with 2 Axes>"
            ]
          },
          "metadata": {
            "tags": [],
            "needs_background": "light"
          }
        },
        {
          "output_type": "stream",
          "text": [
            "------------------------------------------------------------\n",
            "\n",
            "f1-micro average for f1 micro optimized poly SVC : 0.8338590956887487\n",
            "f1-macro average for f1 micro optimized poly SVC : 0.7961553071413067\n",
            "Classification report:\n",
            "              precision    recall  f1-score   support\n",
            "\n",
            "           g       0.82      0.96      0.88      3768\n",
            "           h       0.88      0.59      0.71      1938\n",
            "\n",
            "    accuracy                           0.83      5706\n",
            "   macro avg       0.85      0.78      0.80      5706\n",
            "weighted avg       0.84      0.83      0.82      5706\n",
            "\n"
          ],
          "name": "stdout"
        },
        {
          "output_type": "display_data",
          "data": {
            "image/png": "[encoded data removed]",
            "text/plain": [
              "<Figure size 432x288 with 2 Axes>"
            ]
          },
          "metadata": {
            "tags": [],
            "needs_background": "light"
          }
        },
        {
          "output_type": "stream",
          "text": [
            "------------------------------------------------------------\n",
            "\n",
            "f1-micro average for f1 macro optimized rbf SVC : 0.8687346652646337\n",
            "f1-macro average for f1 macro optimized rbf SVC : 0.8526159363096348\n",
            "Classification report:\n",
            "              precision    recall  f1-score   support\n",
            "\n",
            "           g       0.89      0.91      0.90      3768\n",
            "           h       0.82      0.79      0.80      1938\n",
            "\n",
            "    accuracy                           0.87      5706\n",
            "   macro avg       0.86      0.85      0.85      5706\n",
            "weighted avg       0.87      0.87      0.87      5706\n",
            "\n"
          ],
          "name": "stdout"
        },
        {
          "output_type": "display_data",
          "data": {
            "image/png": "[encoded data removed]",
            "text/plain": [
              "<Figure size 432x288 with 2 Axes>"
            ]
          },
          "metadata": {
            "tags": [],
            "needs_background": "light"
          }
        },
        {
          "output_type": "stream",
          "text": [
            "------------------------------------------------------------\n"
          ],
          "name": "stdout"
        }
      ]
    },
    {
      "cell_type": "markdown",
      "metadata": {
        "id": "mUs5nRkEBW9x"
      },
      "source": [
        "Θα αναλύσουμε τις προσεγγίσεις μας για όλα τα SVM's με τη σειρά που εμφανίζονται στα κελιά.\n",
        "\n",
        "Για τα linearSVC's δεν χρειάστηκε πολλή δουλειά. Το documentation της βιβλιοθήκης sklearn προτείνει ισχυρά να θέσουμε dual=False όταν n_samples > n_features (κάτι που εδώ ισχύει στο έπακρο), η οποία ρύθμιση δε δέχεται για loss function την hinge. Έτσι, είπαμε να πειραματιστούμε με το penalty. Κατά τα άλλα, δοκιμάσαμε στο πρώτο GridSearch για το C τις τιμές:\n",
        "\n",
        "```\n",
        "C = [1,10,100,1000]\n",
        "```\n",
        "\n",
        "(μαζί με τις υπόλοιπες υπερπαραμέτρους που φαίνονται και παραπάνω) και επειδή και στις 2 μετρικές βγήκε βέλτιστο το C=1, δοκιμάσαμε τις τιμές που φαίνονται στα παραπάνω Grid Searches, στα οποία πήραμε ικανοποιητικά αποτελέσματα.\n",
        "\n",
        "Για τα polySVC's δοκιμάσαμε αρχικά και για τις 2 μετρικές το εξής GridSearch: \n",
        "\n",
        "```\n",
        "C= [1,10,50,100]\n",
        "degree=[1,2,3,4,5]\n",
        "gamma=[scale,auto]\n",
        "tol=[1e-1, 1e-3, 1e-5]\n",
        "```\n",
        "\n",
        "Είδαμε και για τις 2 μετρικές ότι τα degrees = [2,3] είναι καλύτερα από τα υπόλοιπα, αλλά και ότι το C = 100 ήταν βέλτιστο και στις 2 περιπτώσεις.\n",
        "\n",
        "Επομένως τρέξαμε και για τις 2 μετρικές ίδιο 2ο GridSearch:\n",
        "\n",
        "```\n",
        "C=[50,100,200]\n",
        "degree=[2,3]\n",
        "gamma=[scale,auto]\n",
        "tol=[1e-1, 1e-3, 1e-5]\n",
        "```\n",
        "\n",
        "Εδώ λάβαμε κατευθείαν ικανοποιητικά αποτελέσματα για τη μετρική macro, ενώ για την μετρική micro προτιμήσαμε να τρέξουμε ένα ακόμα GridSearch με τις τιμές που φαίνονται παραπάνω (έχοντας δει παράλληλα ότι το degree=3 είναι αρκετά καλύτερο από το degree=2). \n",
        "\n",
        "Για τους πυρήνες rbf δοκιμάσαμε το εξής 1ο GridSearch:\n",
        "\n",
        "```\n",
        "C=[1,5,10,50]\n",
        "gamma=[scale,auto]\n",
        "tol=[1e-2, 1e-3, 1e-4]\n",
        "```\n",
        "\n",
        "Εδώ λάβαμε κατευθείαν ικανοποιητικά αποτελέσματα για την μετρική f1 macro (αυτά που βλέπουμε παραπάνω), ενώ για τη μετρική micro επειδή βγήκε βέλτιστο C=50 τρέξαμε το GridSearch που φαίνεται παραπάνω, στο οποίο πήραμε ικανοποιητικά αποτελέσματα."
      ]
    },
    {
      "cell_type": "markdown",
      "metadata": {
        "id": "vHwX2_YF5MoN"
      },
      "source": [
        "### Συνολικά αποτελέσματα και σχολιασμός"
      ]
    },
    {
      "cell_type": "code",
      "metadata": {
        "id": "CU-FUclcltBj",
        "colab": {
          "base_uri": "https://localhost:8080/",
          "height": 1000
        },
        "outputId": "cdf5b078-7715-4bc8-b8d9-e32cc96350f7"
      },
      "source": [
        "for d in gnb_best_predictions, knn_best_predictions, mlp_best_predictions, svc_best_predictions:\n",
        "  bar_plot_predictions.update(d)\n",
        "\n",
        "print_bar_plots(bar_plot_predictions, test_labels, 'micro', size=(25,10))\n",
        "print_bar_plots(bar_plot_predictions, test_labels, 'macro', size=(25,10))"
      ],
      "execution_count": null,
      "outputs": [
        {
          "output_type": "display_data",
          "data": {
            "image/png": "[encoded data removed]",
            "text/plain": [
              "<Figure size 1800x720 with 1 Axes>"
            ]
          },
          "metadata": {
            "tags": [],
            "needs_background": "light"
          }
        },
        {
          "output_type": "display_data",
          "data": {
            "image/png": "[encoded data removed]",
            "text/plain": [
              "<Figure size 1800x720 with 1 Axes>"
            ]
          },
          "metadata": {
            "tags": [],
            "needs_background": "light"
          }
        }
      ]
    },
    {
      "cell_type": "markdown",
      "metadata": {
        "id": "3zUheNZUQq8M"
      },
      "source": [
        "Από τα παραπάνω plots και τους πίνακες σύγχυσης, βγάζουμε τα εξής συμπεράσματα:\n",
        "\n",
        "\n",
        "*   Λόγω του μεγάλου μεγέθους του dataset, μπορέσαμε να βελτιώσουμε κατά πολύ όλους τους ταξινομητές. Ενδεικτικά ο linear SVC που αρχικοποιημένος έδειχνε χειρότερος από τους dummy, \"έπιασε\" 0.8 f1 micro και 0.77 f1 macro.\n",
        "*   Παρόλο που αυξήσαμε κατά πολύ τις μετρικές, τα recall της κλάσης h παραμένουν σχετικά μέτρια. Αξιοσημείωτο είναι ότι το f1 macro optimized MLP δεν έχει τόσο καλές μετρικές όσο το f1 micro optimized MLP αλλά έχει αρκετά καλύτερο recall στην κλάση h.\n",
        "*   Αντιθέτως, πετυχαίνουμε πολύ υψηλά scores όσον αφορά στο precision και το recall της κλάσης g. Αυτό ήταν αναμενόμενο ειδικά για τους f1 micro optimized classifiers αφού εκπαιδεύονταν πάνω σε ένα μη ισορροπημένο dataset.\n",
        "\n"
      ]
    },
    {
      "cell_type": "code",
      "metadata": {
        "colab": {
          "base_uri": "https://localhost:8080/",
          "height": 426
        },
        "id": "cOLG3t_CjLUK",
        "outputId": "bda41ebe-d6c7-4c46-f7ca-29ebc04cc54e"
      },
      "source": [
        "#Plot times\n",
        "pd.DataFrame.from_dict(times, orient='index', columns=['times (seconds)'])"
      ],
      "execution_count": null,
      "outputs": [
        {
          "output_type": "execute_result",
          "data": {
            "text/html": [
              "<div>\n",
              "<style scoped>\n",
              "    .dataframe tbody tr th:only-of-type {\n",
              "        vertical-align: middle;\n",
              "    }\n",
              "\n",
              "    .dataframe tbody tr th {\n",
              "        vertical-align: top;\n",
              "    }\n",
              "\n",
              "    .dataframe thead th {\n",
              "        text-align: right;\n",
              "    }\n",
              "</style>\n",
              "<table border=\"1\" class=\"dataframe\">\n",
              "  <thead>\n",
              "    <tr style=\"text-align: right;\">\n",
              "      <th></th>\n",
              "      <th>times (seconds)</th>\n",
              "    </tr>\n",
              "  </thead>\n",
              "  <tbody>\n",
              "    <tr>\n",
              "      <th>f1 micro optimized GNB</th>\n",
              "      <td>0.125180</td>\n",
              "    </tr>\n",
              "    <tr>\n",
              "      <th>f1 macro optimized GNB</th>\n",
              "      <td>0.193265</td>\n",
              "    </tr>\n",
              "    <tr>\n",
              "      <th>f1 micro optimized kNN</th>\n",
              "      <td>0.536447</td>\n",
              "    </tr>\n",
              "    <tr>\n",
              "      <th>f1 macro optimized kNN</th>\n",
              "      <td>0.767483</td>\n",
              "    </tr>\n",
              "    <tr>\n",
              "      <th>f1 micro optimized MLP</th>\n",
              "      <td>48.817098</td>\n",
              "    </tr>\n",
              "    <tr>\n",
              "      <th>f1 macro optimized MLP</th>\n",
              "      <td>30.487573</td>\n",
              "    </tr>\n",
              "    <tr>\n",
              "      <th>f1 micro optimized linear SVC</th>\n",
              "      <td>0.123108</td>\n",
              "    </tr>\n",
              "    <tr>\n",
              "      <th>f1 macro optimized linear SVC</th>\n",
              "      <td>0.140911</td>\n",
              "    </tr>\n",
              "    <tr>\n",
              "      <th>f1 micro optimized rbf SVC</th>\n",
              "      <td>8.753568</td>\n",
              "    </tr>\n",
              "    <tr>\n",
              "      <th>f1 macro optimized poly SVC</th>\n",
              "      <td>40.314320</td>\n",
              "    </tr>\n",
              "    <tr>\n",
              "      <th>f1 micro optimized poly SVC</th>\n",
              "      <td>76.047831</td>\n",
              "    </tr>\n",
              "    <tr>\n",
              "      <th>f1 macro optimized rbf SVC</th>\n",
              "      <td>9.328746</td>\n",
              "    </tr>\n",
              "  </tbody>\n",
              "</table>\n",
              "</div>"
            ],
            "text/plain": [
              "                               times (seconds)\n",
              "f1 micro optimized GNB                0.125180\n",
              "f1 macro optimized GNB                0.193265\n",
              "f1 micro optimized kNN                0.536447\n",
              "f1 macro optimized kNN                0.767483\n",
              "f1 micro optimized MLP               48.817098\n",
              "f1 macro optimized MLP               30.487573\n",
              "f1 micro optimized linear SVC         0.123108\n",
              "f1 macro optimized linear SVC         0.140911\n",
              "f1 micro optimized rbf SVC            8.753568\n",
              "f1 macro optimized poly SVC          40.314320\n",
              "f1 micro optimized poly SVC          76.047831\n",
              "f1 macro optimized rbf SVC            9.328746"
            ]
          },
          "metadata": {
            "tags": []
          },
          "execution_count": 296
        }
      ]
    },
    {
      "cell_type": "markdown",
      "metadata": {
        "id": "aBEgo0zLP__6"
      },
      "source": [
        "Για τους χρόνους σε σχέση με την επίδοση βλέπουμε 3 αξιοσημείωτα πράγματα:\n",
        "\n",
        "\n",
        "*   Το kNN μας δίνει πολύ καλά αποτελέσματα σε πρακτικά μηδενικό χρόνο εκπαίδευσης-πρόβλεψης\n",
        "*   Το MLP παρότι ακριβό ως προς το χρόνο που χρειάζεται να εκπαιδευτεί, μας δίνει τα καλύτερα αποτελέσματα μαζί με το rbf SVC, το οποίο όμως είναι σχετικά γρήγορο στην εκπαίδευση (τουλάχιστον για τις βέλτιστες υπερπαραμέτρους του)\n",
        "*   To poly SVC είναι πολύ ακριβό στην εκπαίδευση και μας έδωσε χειρότερα αποτελέσματα και από το MLP και από το rbf SVC αλλά και απο το kNN.\n",
        "\n"
      ]
    },
    {
      "cell_type": "code",
      "metadata": {
        "id": "WkwXdF0jjUPB"
      },
      "source": [
        "#Plot performance differences\n",
        "performance_dict = {\n",
        "    'GNB': [gnb_base_preds, gnb_micro_preds, gnb_macro_preds],\n",
        "    'kNN': [knn_base_preds, knn_micro_preds, knn_macro_preds],\n",
        "    'MLP': [mlp_base_preds, mlp_micro_preds, mlp_macro_preds],\n",
        "    'linear SVC': [svc_linear_base_preds, svc_linear_micro_preds, svc_linear_macro_preds],\n",
        "    'poly SVC': [svc_poly_base_preds, svc_poly_micro_preds, svc_poly_macro_preds],\n",
        "    'rbf SVC': [svc_rbf_base_preds, svc_rbf_micro_preds, svc_rbf_macro_preds]\n",
        "}"
      ],
      "execution_count": null,
      "outputs": []
    },
    {
      "cell_type": "code",
      "metadata": {
        "colab": {
          "base_uri": "https://localhost:8080/",
          "height": 256
        },
        "id": "aoDKnJAbkAk3",
        "outputId": "3cc16413-abb8-45fc-af04-4f341652754d"
      },
      "source": [
        "#We want to change the dictionary values, so we copy the original to make sure it's not lost\n",
        "performance_micro = copy.deepcopy(performance_dict)\n",
        "change_preds_to_scores(performance_micro, test_labels, 'micro')\n",
        "print(\"f1 micro scores before and after:\")\n",
        "pd.DataFrame.from_dict(performance_micro, orient='index', columns=['Baseline', 'f1 micro optimized', 'f1 macro optimized'])"
      ],
      "execution_count": null,
      "outputs": [
        {
          "output_type": "stream",
          "text": [
            "f1 micro scores before and after:\n"
          ],
          "name": "stdout"
        },
        {
          "output_type": "execute_result",
          "data": {
            "text/html": [
              "<div>\n",
              "<style scoped>\n",
              "    .dataframe tbody tr th:only-of-type {\n",
              "        vertical-align: middle;\n",
              "    }\n",
              "\n",
              "    .dataframe tbody tr th {\n",
              "        vertical-align: top;\n",
              "    }\n",
              "\n",
              "    .dataframe thead th {\n",
              "        text-align: right;\n",
              "    }\n",
              "</style>\n",
              "<table border=\"1\" class=\"dataframe\">\n",
              "  <thead>\n",
              "    <tr style=\"text-align: right;\">\n",
              "      <th></th>\n",
              "      <th>Baseline</th>\n",
              "      <th>f1 micro optimized</th>\n",
              "      <th>f1 macro optimized</th>\n",
              "    </tr>\n",
              "  </thead>\n",
              "  <tbody>\n",
              "    <tr>\n",
              "      <th>GNB</th>\n",
              "      <td>0.728882</td>\n",
              "      <td>0.755696</td>\n",
              "      <td>0.748861</td>\n",
              "    </tr>\n",
              "    <tr>\n",
              "      <th>kNN</th>\n",
              "      <td>0.811952</td>\n",
              "      <td>0.846828</td>\n",
              "      <td>0.841395</td>\n",
              "    </tr>\n",
              "    <tr>\n",
              "      <th>MLP</th>\n",
              "      <td>0.834735</td>\n",
              "      <td>0.878374</td>\n",
              "      <td>0.863302</td>\n",
              "    </tr>\n",
              "    <tr>\n",
              "      <th>linear SVC</th>\n",
              "      <td>0.555906</td>\n",
              "      <td>0.793375</td>\n",
              "      <td>0.793375</td>\n",
              "    </tr>\n",
              "    <tr>\n",
              "      <th>poly SVC</th>\n",
              "      <td>0.817560</td>\n",
              "      <td>0.833859</td>\n",
              "      <td>0.836137</td>\n",
              "    </tr>\n",
              "    <tr>\n",
              "      <th>rbf SVC</th>\n",
              "      <td>0.822292</td>\n",
              "      <td>0.872240</td>\n",
              "      <td>0.868735</td>\n",
              "    </tr>\n",
              "  </tbody>\n",
              "</table>\n",
              "</div>"
            ],
            "text/plain": [
              "            Baseline  f1 micro optimized  f1 macro optimized\n",
              "GNB         0.728882            0.755696            0.748861\n",
              "kNN         0.811952            0.846828            0.841395\n",
              "MLP         0.834735            0.878374            0.863302\n",
              "linear SVC  0.555906            0.793375            0.793375\n",
              "poly SVC    0.817560            0.833859            0.836137\n",
              "rbf SVC     0.822292            0.872240            0.868735"
            ]
          },
          "metadata": {
            "tags": []
          },
          "execution_count": 298
        }
      ]
    },
    {
      "cell_type": "code",
      "metadata": {
        "colab": {
          "base_uri": "https://localhost:8080/",
          "height": 256
        },
        "id": "j2xHUH_GkDlE",
        "outputId": "61b6ec70-a8c0-492a-ab6e-9274a211ddd4"
      },
      "source": [
        "#We want to change the dictionary values, so we copy the original to make sure it's not lost\n",
        "performance_macro = copy.deepcopy(performance_dict)\n",
        "change_preds_to_scores(performance_macro, test_labels, 'macro')\n",
        "print(\"f1 macro scores before and after:\")\n",
        "pd.DataFrame.from_dict(performance_macro, orient='index', columns=['Baseline', 'f1 micro optimized', 'f1 macro optimized'])"
      ],
      "execution_count": null,
      "outputs": [
        {
          "output_type": "stream",
          "text": [
            "f1 macro scores before and after:\n"
          ],
          "name": "stdout"
        },
        {
          "output_type": "execute_result",
          "data": {
            "text/html": [
              "<div>\n",
              "<style scoped>\n",
              "    .dataframe tbody tr th:only-of-type {\n",
              "        vertical-align: middle;\n",
              "    }\n",
              "\n",
              "    .dataframe tbody tr th {\n",
              "        vertical-align: top;\n",
              "    }\n",
              "\n",
              "    .dataframe thead th {\n",
              "        text-align: right;\n",
              "    }\n",
              "</style>\n",
              "<table border=\"1\" class=\"dataframe\">\n",
              "  <thead>\n",
              "    <tr style=\"text-align: right;\">\n",
              "      <th></th>\n",
              "      <th>Baseline</th>\n",
              "      <th>f1 micro optimized</th>\n",
              "      <th>f1 macro optimized</th>\n",
              "    </tr>\n",
              "  </thead>\n",
              "  <tbody>\n",
              "    <tr>\n",
              "      <th>GNB</th>\n",
              "      <td>0.653095</td>\n",
              "      <td>0.702759</td>\n",
              "      <td>0.707260</td>\n",
              "    </tr>\n",
              "    <tr>\n",
              "      <th>kNN</th>\n",
              "      <td>0.774977</td>\n",
              "      <td>0.816679</td>\n",
              "      <td>0.819758</td>\n",
              "    </tr>\n",
              "    <tr>\n",
              "      <th>MLP</th>\n",
              "      <td>0.811667</td>\n",
              "      <td>0.859444</td>\n",
              "      <td>0.849037</td>\n",
              "    </tr>\n",
              "    <tr>\n",
              "      <th>linear SVC</th>\n",
              "      <td>0.555119</td>\n",
              "      <td>0.755051</td>\n",
              "      <td>0.770513</td>\n",
              "    </tr>\n",
              "    <tr>\n",
              "      <th>poly SVC</th>\n",
              "      <td>0.773310</td>\n",
              "      <td>0.796155</td>\n",
              "      <td>0.816585</td>\n",
              "    </tr>\n",
              "    <tr>\n",
              "      <th>rbf SVC</th>\n",
              "      <td>0.781964</td>\n",
              "      <td>0.850614</td>\n",
              "      <td>0.852616</td>\n",
              "    </tr>\n",
              "  </tbody>\n",
              "</table>\n",
              "</div>"
            ],
            "text/plain": [
              "            Baseline  f1 micro optimized  f1 macro optimized\n",
              "GNB         0.653095            0.702759            0.707260\n",
              "kNN         0.774977            0.816679            0.819758\n",
              "MLP         0.811667            0.859444            0.849037\n",
              "linear SVC  0.555119            0.755051            0.770513\n",
              "poly SVC    0.773310            0.796155            0.816585\n",
              "rbf SVC     0.781964            0.850614            0.852616"
            ]
          },
          "metadata": {
            "tags": []
          },
          "execution_count": 299
        }
      ]
    },
    {
      "cell_type": "markdown",
      "metadata": {
        "id": "DTBFm-mKFyjW"
      },
      "source": [
        "Και εδώ βλέπουμε ότι έχουμε βελτιώσει αισθητά τους classifiers μας μέσα από την βελτιστοποίηση υπερπαραμέτρων, με τον πιο αξιοσημείωτο classifier να είναι ο LinearSVC που πριν τη βελτιστοποίηση είχε χειρότερη επίδοση και από τους dummy. Επίσης βλέπουμε ότι έχουμε επιτύχει πολύ καλές επιδόσεις, ιδιαίτερα στον MLP που πλησιάζει 0.88 ακρίβεια και έχοντας σχεδόν το ίδιο f1 macro."
      ]
    }
  ]
}